{
 "cells": [
  {
   "cell_type": "code",
   "execution_count": 39,
   "id": "10a25977-1e66-4d54-86e8-a431f8e2afdd",
   "metadata": {},
   "outputs": [],
   "source": [
    "import sys\n",
    "import os\n",
    "sys.path.append('../CGH_Toolbox/')\n",
    "import matplotlib.pyplot as plt\n",
    "from matplotlib import ticker, cm\n",
    "from matplotlib.colors import LogNorm\n",
    "import numpy as np\n",
    "import nglview as nv\n",
    "import MDAnalysis as mda\n",
    "import pyvibdmc as pv\n",
    "import utilities as uts\n",
    "import gaussian_tools as gt\n",
    "import glob\n",
    "import pandas as pd"
   ]
  },
  {
   "cell_type": "markdown",
   "id": "a20c5543-7059-4bea-9027-8d37d807b36b",
   "metadata": {},
   "source": [
    "# Load scans"
   ]
  },
  {
   "cell_type": "code",
   "execution_count": 2,
   "id": "92f1b391-eabe-4655-8a17-3ffd0d050cc0",
   "metadata": {},
   "outputs": [
    {
     "data": {
      "text/plain": [
       "['clhocl/clhocl_0_sp.fchk',\n",
       " 'clhocl/clhocl_10_sp.fchk',\n",
       " 'clhocl/clhocl_15_sp.fchk',\n",
       " 'clhocl/clhocl_20_sp.fchk',\n",
       " 'clhocl/clhocl_25_sp.fchk',\n",
       " 'clhocl/clhocl_30_sp.fchk',\n",
       " 'clhocl/clhocl_35_sp.fchk',\n",
       " 'clhocl/clhocl_40_sp.fchk',\n",
       " 'clhocl/clhocl_45_sp.fchk',\n",
       " 'clhocl/clhocl_50_sp.fchk',\n",
       " 'clhocl/clhocl_5_sp.fchk']"
      ]
     },
     "execution_count": 2,
     "metadata": {},
     "output_type": "execute_result"
    }
   ],
   "source": [
    "sorted(glob.glob('clhocl/clhocl*sp.fchk'))"
   ]
  },
  {
   "cell_type": "code",
   "execution_count": 8,
   "id": "0998b60f-ff43-4bea-b6bd-b4e45dfc2e41",
   "metadata": {},
   "outputs": [],
   "source": [
    "clhocl_fchks = ['clhocl/clhocl_0_sp.fchk',\n",
    "                'clhocl/clhocl_5_sp.fchk',\n",
    "                'clhocl/clhocl_10_sp.fchk',\n",
    "                'clhocl/clhocl_15_sp.fchk',\n",
    "                'clhocl/clhocl_20_sp.fchk',\n",
    "                'clhocl/clhocl_25_sp.fchk',\n",
    "                'clhocl/clhocl_30_sp.fchk',\n",
    "                'clhocl/clhocl_35_sp.fchk',\n",
    "                'clhocl/clhocl_40_sp.fchk',\n",
    "                'clhocl/clhocl_45_sp.fchk',\n",
    "                'clhocl/clhocl_50_sp.fchk']"
   ]
  },
  {
   "cell_type": "code",
   "execution_count": 9,
   "id": "79b2779a-3e9e-45e3-8f6d-8f13a0047198",
   "metadata": {
    "tags": []
   },
   "outputs": [
    {
     "name": "stdout",
     "output_type": "stream",
     "text": [
      "clhocl/clhocl_0_sp.fchk\n",
      "DXDYDZO 0.2459302795698921 0.24635542499999996 0.246945552238806 0.014961507074184133\n",
      "clhocl/clhocl_5_sp.fchk\n",
      "DXDYDZO 0.2459302795698921 0.24635542499999996 0.246945552238806 0.014961507074184133\n",
      "clhocl/clhocl_10_sp.fchk\n",
      "DXDYDZO 0.2459302795698921 0.24635542499999996 0.246945552238806 0.014961507074184133\n",
      "clhocl/clhocl_15_sp.fchk\n",
      "DXDYDZO 0.2459302795698921 0.24635542499999996 0.246945552238806 0.014961507074184133\n",
      "clhocl/clhocl_20_sp.fchk\n",
      "DXDYDZO 0.2459302795698921 0.24635542499999996 0.246945552238806 0.014961507074184133\n",
      "clhocl/clhocl_25_sp.fchk\n",
      "DXDYDZO 0.2459302795698921 0.24635542499999996 0.246945552238806 0.014961507074184133\n",
      "clhocl/clhocl_30_sp.fchk\n",
      "DXDYDZO 0.2459302795698921 0.24635542499999996 0.246945552238806 0.014961507074184133\n",
      "clhocl/clhocl_35_sp.fchk\n",
      "DXDYDZO 0.2459302795698921 0.24635542499999996 0.246945552238806 0.014961507074184133\n",
      "clhocl/clhocl_40_sp.fchk\n",
      "DXDYDZO 0.2459302795698921 0.24635542499999996 0.246945552238806 0.014961507074184133\n",
      "clhocl/clhocl_45_sp.fchk\n",
      "DXDYDZO 0.2459302795698921 0.24635542499999996 0.246945552238806 0.014961507074184133\n",
      "clhocl/clhocl_50_sp.fchk\n",
      "DXDYDZO 0.2459302795698921 0.24635542499999996 0.246945552238806 0.014961507074184133\n"
     ]
    }
   ],
   "source": [
    "clhocl = gt.FchkInterpreter(fchks = clhocl_fchks,\n",
    "                           cubes=True)"
   ]
  },
  {
   "cell_type": "code",
   "execution_count": 5,
   "id": "78532c5f-85f1-49e7-a15c-eb4f8c8403f4",
   "metadata": {},
   "outputs": [
    {
     "data": {
      "text/plain": [
       "array([-995.19212574, -995.19174881, -995.19064132, -995.18886895,\n",
       "       -995.18653255, -995.1837543 , -995.18066191, -995.17737671,\n",
       "       -995.17400369, -995.17062685, -995.16730702])"
      ]
     },
     "execution_count": 5,
     "metadata": {},
     "output_type": "execute_result"
    }
   ],
   "source": [
    "clhocl.MP2Energy"
   ]
  },
  {
   "cell_type": "code",
   "execution_count": 6,
   "id": "c1ec1c9a-15bb-4c93-857b-88a067ceebac",
   "metadata": {},
   "outputs": [
    {
     "data": {
      "text/plain": [
       "<matplotlib.collections.PathCollection at 0x7fc3c963b940>"
      ]
     },
     "execution_count": 6,
     "metadata": {},
     "output_type": "execute_result"
    },
    {
     "data": {
      "image/png": "[encoded data removed]",
      "text/plain": [
       "<Figure size 432x288 with 1 Axes>"
      ]
     },
     "metadata": {
      "needs_background": "light"
     },
     "output_type": "display_data"
    }
   ],
   "source": [
    "fig = plt.figure()\n",
    "plt.scatter(np.arange(0,55,5), clhocl.MP2Energy)"
   ]
  },
  {
   "cell_type": "code",
   "execution_count": 2,
   "id": "937e17bb-c938-4a44-a42d-fb4b9f3e30c3",
   "metadata": {},
   "outputs": [
    {
     "data": {
      "text/plain": [
       "['brhocl/brhocl_0_sp.fchk',\n",
       " 'brhocl/brhocl_10_sp.fchk',\n",
       " 'brhocl/brhocl_15_sp.fchk',\n",
       " 'brhocl/brhocl_20_sp.fchk',\n",
       " 'brhocl/brhocl_25_sp.fchk',\n",
       " 'brhocl/brhocl_30_sp.fchk',\n",
       " 'brhocl/brhocl_35_sp.fchk',\n",
       " 'brhocl/brhocl_40_sp.fchk',\n",
       " 'brhocl/brhocl_45_sp.fchk',\n",
       " 'brhocl/brhocl_50_sp.fchk',\n",
       " 'brhocl/brhocl_5_sp.fchk']"
      ]
     },
     "execution_count": 2,
     "metadata": {},
     "output_type": "execute_result"
    }
   ],
   "source": [
    "sorted(glob.glob('brhocl/brhocl*sp.fchk'))"
   ]
  },
  {
   "cell_type": "code",
   "execution_count": 3,
   "id": "c0301651-7885-4232-909f-454affb51515",
   "metadata": {},
   "outputs": [],
   "source": [
    "brhocl_fchks = ['brhocl/brhocl_0_sp.fchk',\n",
    "                'brhocl/brhocl_5_sp.fchk',\n",
    "                'brhocl/brhocl_10_sp.fchk',\n",
    "                'brhocl/brhocl_15_sp.fchk',\n",
    "                'brhocl/brhocl_20_sp.fchk',\n",
    "                'brhocl/brhocl_25_sp.fchk',\n",
    "                'brhocl/brhocl_30_sp.fchk',\n",
    "                'brhocl/brhocl_35_sp.fchk',\n",
    "                'brhocl/brhocl_40_sp.fchk',\n",
    "                'brhocl/brhocl_45_sp.fchk',\n",
    "                'brhocl/brhocl_50_sp.fchk']"
   ]
  },
  {
   "cell_type": "code",
   "execution_count": 4,
   "id": "05f74148-efea-4498-9f0d-df9f3734c617",
   "metadata": {
    "tags": []
   },
   "outputs": [
    {
     "name": "stdout",
     "output_type": "stream",
     "text": [
      "brhocl/brhocl_0_sp.fchk\n",
      "DXDYDZO 0.27609096666666666 0.2766031948051957 0.2768494583333325 0.021142340719686323\n",
      "brhocl/brhocl_5_sp.fchk\n",
      "DXDYDZO 0.27609096666666666 0.2766031948051957 0.2768494583333325 0.021142340719686323\n",
      "brhocl/brhocl_10_sp.fchk\n",
      "DXDYDZO 0.27609096666666666 0.2766031948051957 0.2768494583333325 0.021142340719686323\n",
      "brhocl/brhocl_15_sp.fchk\n",
      "DXDYDZO 0.27609096666666666 0.2766031948051957 0.2768494583333325 0.021142340719686323\n",
      "brhocl/brhocl_20_sp.fchk\n",
      "DXDYDZO 0.27609096666666666 0.2766031948051957 0.2768494583333325 0.021142340719686323\n",
      "brhocl/brhocl_25_sp.fchk\n",
      "DXDYDZO 0.27609096666666666 0.2766031948051957 0.2768494583333325 0.021142340719686323\n",
      "brhocl/brhocl_30_sp.fchk\n",
      "DXDYDZO 0.27609096666666666 0.2766031948051957 0.2768494583333325 0.021142340719686323\n",
      "brhocl/brhocl_35_sp.fchk\n",
      "DXDYDZO 0.27609096666666666 0.2766031948051957 0.2768494583333325 0.021142340719686323\n",
      "brhocl/brhocl_40_sp.fchk\n",
      "DXDYDZO 0.27609096666666666 0.2766031948051957 0.2768494583333325 0.021142340719686323\n",
      "brhocl/brhocl_45_sp.fchk\n",
      "DXDYDZO 0.27609096666666666 0.2766031948051957 0.2768494583333325 0.021142340719686323\n",
      "brhocl/brhocl_50_sp.fchk\n",
      "DXDYDZO 0.27609096666666666 0.2766031948051957 0.2768494583333325 0.021142340719686323\n"
     ]
    }
   ],
   "source": [
    "brhocl = gt.FchkInterpreter(fchks = brhocl_fchks,\n",
    "                           cubes=True)"
   ]
  },
  {
   "cell_type": "code",
   "execution_count": null,
   "id": "7be70760-4f46-458e-af91-fed25d92bf48",
   "metadata": {},
   "outputs": [],
   "source": []
  },
  {
   "cell_type": "markdown",
   "id": "686b21da-fb40-46a3-8f3e-fb6dba2f1a58",
   "metadata": {},
   "source": [
    "# Plot Energies on harmonic potential"
   ]
  },
  {
   "cell_type": "markdown",
   "id": "ac7c5b4e-ec7c-45cb-9a03-a6aaf05ad76a",
   "metadata": {},
   "source": [
    "omega and reduced mass came from the frequency calculation"
   ]
  },
  {
   "cell_type": "code",
   "execution_count": 24,
   "id": "03af2dbd-5736-4a16-9cef-28019b330b3b",
   "metadata": {},
   "outputs": [],
   "source": [
    "def v(x, omega, m): return 0.5*m*omega**2*x**2\n",
    "\n",
    "def harmStates(nRange, omega):\n",
    "    n = np.arange(0, nRange+1, 1)\n",
    "    return (0.5 + n) *omega\n",
    "\n",
    "def energy_on_harm_approx(energy_x,\n",
    "                          energy_array,\n",
    "                          harm_grid,\n",
    "                          omega,\n",
    "                          red_mass,\n",
    "                          max_state,\n",
    "                          **kwargs):\n",
    "    \"\"\"\n",
    "    energy_x in degrees\n",
    "    energy_array in Hartree\n",
    "    harm_grid in degrees\n",
    "    \"\"\"\n",
    "    minE = energy_array.min()\n",
    "    energy_array = energy_array - minE\n",
    " \n",
    "    fig = plt.figure\n",
    "    ax = plt.axes()\n",
    "    ax.scatter(energy_x, \n",
    "               uts.Constants.convert(energy_array, 'wavenumbers', to_AU=False))\n",
    "    ax.plot(harm_grid,\n",
    "            uts.Constants.convert(v(np.deg2rad(harm_grid), omega, red_mass), 'wavenumbers', to_AU=False),\n",
    "            color='k')\n",
    "    states = uts.Constants.convert(harmStates(nRange=max_state, omega=omega), 'wavenumbers', to_AU=False)\n",
    "    evenly_spaced_interval = np.linspace(0,0.9, max_state+1)\n",
    "    colors = [cm.viridis(x) for x in evenly_spaced_interval]\n",
    "    for i in range(len(states)):\n",
    "        ax.axhline(y=states[i], color=colors[i], label=r\"$\\nu_{%s}$\" %i)\n",
    "    ax.legend()\n",
    "    ax.set_ylabel(\"E (cm-1)\")\n",
    "    ax.set_xlabel(\"oop\")\n",
    "    \n",
    "    \n",
    "    \n",
    "    \n",
    "    "
   ]
  },
  {
   "cell_type": "code",
   "execution_count": 22,
   "id": "e7059338-580f-45d0-83d3-0987d40d217d",
   "metadata": {},
   "outputs": [],
   "source": [
    "red_AMU = 1.0339"
   ]
  },
  {
   "cell_type": "code",
   "execution_count": 25,
   "id": "d057fb17-eeac-4d39-88fa-601b0288c4d4",
   "metadata": {},
   "outputs": [
    {
     "data": {
      "image/png": "[encoded data removed]",
      "text/plain": [
       "<Figure size 432x288 with 1 Axes>"
      ]
     },
     "metadata": {
      "needs_background": "light"
     },
     "output_type": "display_data"
    }
   ],
   "source": [
    "energy_on_harm_approx(energy_x=np.arange(0,55,5),\n",
    "                      energy_array=clhocl.MP2Energy,\n",
    "                      harm_grid= np.linspace(0,50,1001),\n",
    "                      omega=uts.Constants.convert(841, 'wavenumbers', to_AU=True),\n",
    "                      red_mass = uts.Constants.convert(red_AMU, 'amu', to_AU=True),\n",
    "                      max_state=6)"
   ]
  },
  {
   "cell_type": "code",
   "execution_count": 26,
   "id": "48ae7ff5-1572-4df2-a220-c2797ae81580",
   "metadata": {},
   "outputs": [
    {
     "data": {
      "image/png": "[encoded data removed]",
      "text/plain": [
       "<Figure size 432x288 with 1 Axes>"
      ]
     },
     "metadata": {
      "needs_background": "light"
     },
     "output_type": "display_data"
    }
   ],
   "source": [
    "energy_on_harm_approx(energy_x=np.arange(0,55,5),\n",
    "                      energy_array=brhocl.MP2Energy,\n",
    "                      harm_grid= np.linspace(0,50,1001),\n",
    "                      omega=uts.Constants.convert(776.09, 'wavenumbers', to_AU=True),\n",
    "                      red_mass = uts.Constants.convert(1.0335, 'amu', to_AU=True),\n",
    "                      max_state=6)"
   ]
  },
  {
   "cell_type": "markdown",
   "id": "97740df9-70bd-46e0-bcad-a92439a82845",
   "metadata": {},
   "source": [
    "# Next Steps"
   ]
  },
  {
   "cell_type": "markdown",
   "id": "500e79d0-e283-4d19-b98e-4cd2d3e04aa0",
   "metadata": {},
   "source": [
    "- I need to run the same analysis for clhocl, brhocl, IHOCl, and X-HOD scans\n",
    "- I should tighten the oop range and grid spacing because I am sampling up to like v=10"
   ]
  },
  {
   "cell_type": "markdown",
   "id": "df60a6cb-49dd-454c-be04-0e35a46bf1cf",
   "metadata": {},
   "source": [
    "# Cl-HOCl"
   ]
  },
  {
   "cell_type": "code",
   "execution_count": 11,
   "id": "00fc88b0-14e5-4f9c-9b33-736d1022dde8",
   "metadata": {},
   "outputs": [
    {
     "data": {
      "text/plain": [
       "array([-0.4999764 , -0.82952   ,  0.03757603,  0.29192036])"
      ]
     },
     "execution_count": 11,
     "metadata": {},
     "output_type": "execute_result"
    }
   ],
   "source": [
    "clhocl.mullikens[0]"
   ]
  },
  {
   "cell_type": "code",
   "execution_count": 27,
   "id": "0c1fad97-8e76-4aa5-88df-be3b87cbbeb0",
   "metadata": {},
   "outputs": [
    {
     "data": {
      "application/vnd.jupyter.widget-view+json": {
       "model_id": "980c7a45c621474e8d2c78a0ea471c46",
       "version_major": 2,
       "version_minor": 0
      },
      "text/plain": [
       "Canvas(toolbar=Toolbar(toolitems=[('Home', 'Reset original view', 'home', 'home'), ('Back', 'Back to previous …"
      ]
     },
     "metadata": {},
     "output_type": "display_data"
    },
    {
     "data": {
      "text/plain": [
       "<matplotlib.legend.Legend at 0x7fadf3b45d60>"
      ]
     },
     "execution_count": 27,
     "metadata": {},
     "output_type": "execute_result"
    }
   ],
   "source": [
    "%matplotlib widget\n",
    "fig, axs = plt.subplots(2,2)\n",
    "oop = np.arange(0,55,5)\n",
    "\n",
    "axs[0,0].scatter(oop, clhocl.mullikens[:,0], label=\"O\", color=\"red\")\n",
    "axs[0,0].legend()\n",
    "axs[0,1].scatter(oop, clhocl.mullikens[:,1], label=\"Cl colinear with O and H\", color='green')\n",
    "axs[0,1].legend(loc=\"best\")\n",
    "axs[1,0].scatter(oop, clhocl.mullikens[:,2], label=\"Cl\", color='green')\n",
    "axs[1,0].legend()\n",
    "axs[1,1].scatter(oop, clhocl.mullikens[:,3], label=\"H\", color='gray')\n",
    "axs[1,1].legend()\n",
    "#plt.subplots_adjust(wspace=0, hspace=0)\n"
   ]
  },
  {
   "cell_type": "markdown",
   "id": "8ad3dc22-9335-49f7-9fd4-6f4aefe255a2",
   "metadata": {},
   "source": [
    "# Mulliken Plot"
   ]
  },
  {
   "cell_type": "code",
   "execution_count": 38,
   "id": "8d8d723b-8e5b-4558-8803-b7bf53766b88",
   "metadata": {},
   "outputs": [
    {
     "data": {
      "application/vnd.jupyter.widget-view+json": {
       "model_id": "cedcd0516a8f4a6f9716a64d10415d67",
       "version_major": 2,
       "version_minor": 0
      },
      "text/plain": [
       "Canvas(toolbar=Toolbar(toolitems=[('Home', 'Reset original view', 'home', 'home'), ('Back', 'Back to previous …"
      ]
     },
     "metadata": {},
     "output_type": "display_data"
    },
    {
     "name": "stderr",
     "output_type": "stream",
     "text": [
      "No handles with labels found to put in legend.\n",
      "No handles with labels found to put in legend.\n",
      "No handles with labels found to put in legend.\n",
      "No handles with labels found to put in legend.\n"
     ]
    }
   ],
   "source": [
    "%matplotlib widget\n",
    "figs, axs = plt.subplots(4, 3)\n",
    "\n",
    "oop = np.arange(0,55,5)\n",
    "axs[0,0].scatter(oop, clhocl.mullikens[:,0], label=\"O\", color=\"red\")\n",
    "axs[1,0].scatter(oop, clhocl.mullikens[:,1], label=\"Cl ion\", color='green')\n",
    "axs[2,0].scatter(oop, clhocl.mullikens[:,2], label=\"Cl\", color='green')\n",
    "axs[3,0].scatter(oop, clhocl.mullikens[:,3], label=\"H\", color='gray')\n",
    "\n",
    "axs[0,1].scatter(oop, brhocl.mullikens[:,0], label=\"O\", color=\"red\")\n",
    "axs[1,1].scatter(oop, brhocl.mullikens[:,1], label=\"Br ion\", color='maroon')\n",
    "axs[2,1].scatter(oop, brhocl.mullikens[:,2], label=\"Cl\", color='green')\n",
    "axs[3,1].scatter(oop, brhocl.mullikens[:,3], label=\"H\", color='gray')\n",
    "\n",
    "axs[0,1].scatter(oop, ihocl.mullikens[:,0], label=\"O\", color=\"red\")\n",
    "axs[1,1].scatter(oop, ihocl.mullikens[:,1], label=\"I ion\", color='yellow')\n",
    "axs[2,1].scatter(oop, ihocl.mullikens[:,2], label=\"Cl\", color='green')\n",
    "axs[3,1].scatter(oop, ihocl.mullikens[:,3], label=\"H\", color='gray')\n",
    "\n",
    "\n",
    "for a in axs:\n",
    "    for b in a:\n",
    "        b.legend()\n",
    "        \n",
    "fig.tight_layout()\n"
   ]
  },
  {
   "cell_type": "code",
   "execution_count": 44,
   "id": "70131288-58f1-4172-b90d-77c9f1ab2781",
   "metadata": {},
   "outputs": [],
   "source": [
    "# make a pandas table of total changes in charges for each atom"
   ]
  },
  {
   "cell_type": "code",
   "execution_count": null,
   "id": "7480ed2d-f162-481f-a95b-20e30172e355",
   "metadata": {},
   "outputs": [],
   "source": []
  }
 ],
 "metadata": {
  "kernelspec": {
   "display_name": "Python 3",
   "language": "python",
   "name": "python3"
  },
  "language_info": {
   "codemirror_mode": {
    "name": "ipython",
    "version": 3
   },
   "file_extension": ".py",
   "mimetype": "text/x-python",
   "name": "python",
   "nbconvert_exporter": "python",
   "pygments_lexer": "ipython3",
   "version": "3.8.8"
  }
 },
 "nbformat": 4,
 "nbformat_minor": 5
}
