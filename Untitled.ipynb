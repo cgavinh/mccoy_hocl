{
 "cells": [
  {
   "cell_type": "code",
   "execution_count": 1,
   "id": "10a25977-1e66-4d54-86e8-a431f8e2afdd",
   "metadata": {},
   "outputs": [
    {
     "data": {
      "application/vnd.jupyter.widget-view+json": {
       "model_id": "ed48b09f98f84a5182a13821cb9d07f3",
       "version_major": 2,
       "version_minor": 0
      },
      "text/plain": []
     },
     "metadata": {},
     "output_type": "display_data"
    }
   ],
   "source": [
    "import sys\n",
    "sys.path.append('../CGH_Toolbox/')\n",
    "import matplotlib.pyplot as plt\n",
    "from matplotlib import ticker, cm\n",
    "from matplotlib.colors import LogNorm\n",
    "import numpy as np\n",
    "import nglview as nv\n",
    "import MDAnalysis as mda\n",
    "import pyvibdmc as pv\n",
    "import utilities as uts\n",
    "import gaussian_tools as gt\n",
    "import glob"
   ]
  },
  {
   "cell_type": "markdown",
   "id": "a20c5543-7059-4bea-9027-8d37d807b36b",
   "metadata": {},
   "source": [
    "# Load clhocl scans"
   ]
  },
  {
   "cell_type": "code",
   "execution_count": 2,
   "id": "79b2779a-3e9e-45e3-8f6d-8f13a0047198",
   "metadata": {},
   "outputs": [
    {
     "name": "stdout",
     "output_type": "stream",
     "text": [
      "    4   -8.884900   -8.140940   -8.140940    1\n",
      "\n",
      "10\n",
      "DXDYDZO 0.2459302795698921 0.24635542499999996 0.246945552238806 0.014961507074184133\n",
      "hello\n",
      "    4   -8.884900   -8.140940   -8.140940    1\n",
      "\n",
      "10\n",
      "DXDYDZO 0.2459302795698921 0.24635542499999996 0.246945552238806 0.014961507074184133\n",
      "hello\n",
      "    4   -8.884900   -8.140940   -8.140940    1\n",
      "\n",
      "10\n",
      "DXDYDZO 0.2459302795698921 0.24635542499999996 0.246945552238806 0.014961507074184133\n",
      "hello\n",
      "    4   -8.884900   -8.140940   -8.140940    1\n",
      "\n",
      "10\n",
      "DXDYDZO 0.2459302795698921 0.24635542499999996 0.246945552238806 0.014961507074184133\n",
      "hello\n",
      "    4   -8.884900   -8.140940   -8.140940    1\n",
      "\n",
      "10\n",
      "DXDYDZO 0.2459302795698921 0.24635542499999996 0.246945552238806 0.014961507074184133\n",
      "hello\n",
      "    4   -8.884900   -8.140940   -8.140940    1\n",
      "\n",
      "10\n",
      "DXDYDZO 0.2459302795698921 0.24635542499999996 0.246945552238806 0.014961507074184133\n",
      "hello\n",
      "hello\n"
     ]
    }
   ],
   "source": [
    "clhocl = gt.FchkInterpreter(fchks = sorted(glob.glob('clhocl/clhocl*sp.fchk')),\n",
    "                           cube_files = sorted(glob.glob('clhocl/clhocl*sp.cube')),\n",
    "                           cubes=True)"
   ]
  },
  {
   "cell_type": "code",
   "execution_count": 4,
   "id": "c1ec1c9a-15bb-4c93-857b-88a067ceebac",
   "metadata": {},
   "outputs": [
    {
     "data": {
      "text/plain": [
       "<matplotlib.collections.PathCollection at 0x7fa9b90fcb20>"
      ]
     },
     "execution_count": 4,
     "metadata": {},
     "output_type": "execute_result"
    },
    {
     "data": {
      "image/png": "[encoded data removed]",
      "text/plain": [
       "<Figure size 432x288 with 1 Axes>"
      ]
     },
     "metadata": {
      "needs_background": "light"
     },
     "output_type": "display_data"
    }
   ],
   "source": [
    "fig = plt.figure()\n",
    "plt.scatter(np.arange(0,90,15), clhocl.MP2Energy)"
   ]
  },
  {
   "cell_type": "markdown",
   "id": "686b21da-fb40-46a3-8f3e-fb6dba2f1a58",
   "metadata": {},
   "source": [
    "# Plot Energies on harmonic potential"
   ]
  },
  {
   "cell_type": "markdown",
   "id": "ac7c5b4e-ec7c-45cb-9a03-a6aaf05ad76a",
   "metadata": {},
   "source": [
    "omega and reduced mass came from the frequency calculation"
   ]
  },
  {
   "cell_type": "code",
   "execution_count": 105,
   "id": "03af2dbd-5736-4a16-9cef-28019b330b3b",
   "metadata": {},
   "outputs": [],
   "source": [
    "def v(x, omega, m): return 0.5*m*omega**2*x**2\n",
    "\n",
    "def harmStates(nRange, omega):\n",
    "    n = np.arange(0, nRange+1, 1)\n",
    "    return (0.5 + n) *omega\n",
    "\n",
    "def energy_on_harm_approx(energy_array, omega, redM, maxState):\n",
    "    minE = energy_array.min()\n",
    "    energy_array = energy_array - minE\n",
    " \n",
    "    fig = plt.figure\n",
    "    ax = plt.axes()\n",
    "    oop = np.arange(0,90,15)\n",
    "    ax.scatter(oop, \n",
    "               uts.Constants.convert(energy_array, 'wavenumbers', to_AU=False))\n",
    "    x = np.linspace(0,np.pi/2,1001)\n",
    "    ax.plot(np.rad2deg(x),\n",
    "            uts.Constants.convert(v(x, omega, redM), 'wavenumbers', to_AU=False),\n",
    "            color='k')\n",
    "    states = uts.Constants.convert(harmStates(nRange=maxState, omega=omega), 'wavenumbers', to_AU=False)\n",
    "    evenly_spaced_interval = np.linspace(0,0.9, maxState+1)\n",
    "    colors = [cm.viridis(x) for x in evenly_spaced_interval]\n",
    "    for i in range(len(states)):\n",
    "        ax.axhline(y=states[i], color=colors[i], label=r\"$\\nu_{%s}$\" %i)\n",
    "    ax.legend()\n",
    "    ax.set_ylabel(\"E (cm-1)\")\n",
    "    ax.set_xlabel(\"oop\")\n",
    "    \n",
    "    \n",
    "    \n",
    "    \n",
    "    "
   ]
  },
  {
   "cell_type": "code",
   "execution_count": 106,
   "id": "e7059338-580f-45d0-83d3-0987d40d217d",
   "metadata": {},
   "outputs": [],
   "source": [
    "red_AMU = 1.0339"
   ]
  },
  {
   "cell_type": "code",
   "execution_count": 111,
   "id": "d057fb17-eeac-4d39-88fa-601b0288c4d4",
   "metadata": {},
   "outputs": [
    {
     "data": {
      "image/png": "[encoded data removed]",
      "text/plain": [
       "<Figure size 432x288 with 1 Axes>"
      ]
     },
     "metadata": {
      "needs_background": "light"
     },
     "output_type": "display_data"
    }
   ],
   "source": [
    "energy_on_harm_approx(energy_array=clhocl.MP2Energy,\n",
    "                      omega=uts.Constants.convert(841, 'wavenumbers', to_AU=True),\n",
    "                      redM = uts.Constants.convert(red_AMU, 'amu', to_AU=True),\n",
    "                      maxState=6)"
   ]
  },
  {
   "cell_type": "code",
   "execution_count": 109,
   "id": "29d9851a-509e-4d83-9c9b-360319b422de",
   "metadata": {},
   "outputs": [
    {
     "data": {
      "text/plain": [
       "1884.6844361079638"
      ]
     },
     "execution_count": 109,
     "metadata": {},
     "output_type": "execute_result"
    }
   ],
   "source": [
    "uts.Constants.convert(red_AMU, 'amu', to_AU=True)"
   ]
  },
  {
   "cell_type": "markdown",
   "id": "97740df9-70bd-46e0-bcad-a92439a82845",
   "metadata": {},
   "source": [
    "# Next Steps"
   ]
  },
  {
   "cell_type": "markdown",
   "id": "500e79d0-e283-4d19-b98e-4cd2d3e04aa0",
   "metadata": {},
   "source": [
    "- I need to run the same analysis for clhocl, brhocl, IHOCl, and X-HOD scans\n",
    "- I should tighten the oop range and grid spacing because I am sampling up to like v=10"
   ]
  },
  {
   "cell_type": "code",
   "execution_count": null,
   "id": "5837b4af-9363-4674-b9ef-df25c700dee4",
   "metadata": {},
   "outputs": [],
   "source": []
  }
 ],
 "metadata": {
  "kernelspec": {
   "display_name": "Python 3",
   "language": "python",
   "name": "python3"
  },
  "language_info": {
   "codemirror_mode": {
    "name": "ipython",
    "version": 3
   },
   "file_extension": ".py",
   "mimetype": "text/x-python",
   "name": "python",
   "nbconvert_exporter": "python",
   "pygments_lexer": "ipython3",
   "version": "3.8.8"
  }
 },
 "nbformat": 4,
 "nbformat_minor": 5
}
