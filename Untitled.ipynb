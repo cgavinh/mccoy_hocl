{
 "cells": [
  {
   "cell_type": "code",
   "execution_count": 68,
   "id": "10a25977-1e66-4d54-86e8-a431f8e2afdd",
   "metadata": {},
   "outputs": [],
   "source": [
    "import sys\n",
    "import os\n",
    "sys.path.append('../CGH_Toolbox/')\n",
    "import matplotlib.pyplot as plt\n",
    "from matplotlib import ticker, cm\n",
    "from matplotlib.colors import LogNorm\n",
    "import numpy as np\n",
    "import nglview as nv\n",
    "import MDAnalysis as mda\n",
    "import pyvibdmc as pv\n",
    "import utilities as uts\n",
    "import gaussian_tools as gt\n",
    "import glob\n",
    "import pandas as pd\n",
    "import pickle\n",
    "from scipy import interpolate\n",
    "import dvr, utilities, dvr_arrays\n",
    "from McUtils import Data as McData"
   ]
  },
  {
   "cell_type": "markdown",
   "id": "a20c5543-7059-4bea-9027-8d37d807b36b",
   "metadata": {},
   "source": [
    "# Load scans"
   ]
  },
  {
   "cell_type": "code",
   "execution_count": 2,
   "id": "cb950415-63d3-46e6-89f7-c3a11786304a",
   "metadata": {
    "tags": []
   },
   "outputs": [
    {
     "name": "stdout",
     "output_type": "stream",
     "text": [
      "clhocl/clhocl_0_sp.fchk\n",
      "DXDYDZO 0.2459302795698921 0.24635542499999996 0.246945552238806 0.014961507074184133\n",
      "clhocl/clhocl_5_sp.fchk\n",
      "DXDYDZO 0.2459302795698921 0.24635542499999996 0.246945552238806 0.014961507074184133\n",
      "clhocl/clhocl_10_sp.fchk\n",
      "DXDYDZO 0.2459302795698921 0.24635542499999996 0.246945552238806 0.014961507074184133\n",
      "clhocl/clhocl_15_sp.fchk\n",
      "DXDYDZO 0.2459302795698921 0.24635542499999996 0.246945552238806 0.014961507074184133\n",
      "clhocl/clhocl_20_sp.fchk\n",
      "DXDYDZO 0.2459302795698921 0.24635542499999996 0.246945552238806 0.014961507074184133\n",
      "clhocl/clhocl_25_sp.fchk\n",
      "DXDYDZO 0.2459302795698921 0.24635542499999996 0.246945552238806 0.014961507074184133\n",
      "clhocl/clhocl_30_sp.fchk\n",
      "DXDYDZO 0.2459302795698921 0.24635542499999996 0.246945552238806 0.014961507074184133\n",
      "clhocl/clhocl_35_sp.fchk\n",
      "DXDYDZO 0.2459302795698921 0.24635542499999996 0.246945552238806 0.014961507074184133\n",
      "clhocl/clhocl_40_sp.fchk\n",
      "DXDYDZO 0.2459302795698921 0.24635542499999996 0.246945552238806 0.014961507074184133\n",
      "clhocl/clhocl_45_sp.fchk\n",
      "DXDYDZO 0.2459302795698921 0.24635542499999996 0.246945552238806 0.014961507074184133\n",
      "clhocl/clhocl_50_sp.fchk\n",
      "DXDYDZO 0.2459302795698921 0.24635542499999996 0.246945552238806 0.014961507074184133\n",
      "brhocl/brhocl_0_sp.fchk\n",
      "DXDYDZO 0.27609096666666666 0.2766031948051957 0.2768494583333325 0.021142340719686323\n",
      "brhocl/brhocl_5_sp.fchk\n",
      "DXDYDZO 0.27609096666666666 0.2766031948051957 0.2768494583333325 0.021142340719686323\n",
      "brhocl/brhocl_10_sp.fchk\n",
      "DXDYDZO 0.27609096666666666 0.2766031948051957 0.2768494583333325 0.021142340719686323\n",
      "brhocl/brhocl_15_sp.fchk\n",
      "DXDYDZO 0.27609096666666666 0.2766031948051957 0.2768494583333325 0.021142340719686323\n",
      "brhocl/brhocl_20_sp.fchk\n",
      "DXDYDZO 0.27609096666666666 0.2766031948051957 0.2768494583333325 0.021142340719686323\n",
      "brhocl/brhocl_25_sp.fchk\n",
      "DXDYDZO 0.27609096666666666 0.2766031948051957 0.2768494583333325 0.021142340719686323\n",
      "brhocl/brhocl_30_sp.fchk\n",
      "DXDYDZO 0.27609096666666666 0.2766031948051957 0.2768494583333325 0.021142340719686323\n",
      "brhocl/brhocl_35_sp.fchk\n",
      "DXDYDZO 0.27609096666666666 0.2766031948051957 0.2768494583333325 0.021142340719686323\n",
      "brhocl/brhocl_40_sp.fchk\n",
      "DXDYDZO 0.27609096666666666 0.2766031948051957 0.2768494583333325 0.021142340719686323\n",
      "brhocl/brhocl_45_sp.fchk\n",
      "DXDYDZO 0.27609096666666666 0.2766031948051957 0.2768494583333325 0.021142340719686323\n",
      "brhocl/brhocl_50_sp.fchk\n",
      "DXDYDZO 0.27609096666666666 0.2766031948051957 0.2768494583333325 0.021142340719686323\n",
      "ihocl/ihocl_0_sp.fchk\n",
      "DXDYDZO 0.30699052873563204 0.3075486933333327 0.3075486933333327 0.029037067171815253\n",
      "ihocl/ihocl_5_sp.fchk\n",
      "DXDYDZO 0.30699052873563204 0.3075486933333327 0.3075486933333327 0.029037067171815253\n",
      "ihocl/ihocl_10_sp.fchk\n",
      "DXDYDZO 0.30699052873563204 0.3075486933333327 0.3075486933333327 0.029037067171815253\n",
      "ihocl/ihocl_15_sp.fchk\n",
      "DXDYDZO 0.30699052873563204 0.3075486933333327 0.3075486933333327 0.029037067171815253\n",
      "ihocl/ihocl_20_sp.fchk\n",
      "DXDYDZO 0.30699052873563204 0.3075486933333327 0.3075486933333327 0.029037067171815253\n",
      "ihocl/ihocl_25_sp.fchk\n",
      "DXDYDZO 0.30699052873563204 0.3075486933333327 0.3075486933333327 0.029037067171815253\n",
      "ihocl/ihocl_30_sp.fchk\n",
      "DXDYDZO 0.30699052873563204 0.3075486933333327 0.3075486933333327 0.029037067171815253\n",
      "ihocl/ihocl_35_sp.fchk\n",
      "DXDYDZO 0.30699052873563204 0.3075486933333327 0.3075486933333327 0.029037067171815253\n",
      "ihocl/ihocl_40_sp.fchk\n",
      "DXDYDZO 0.30699052873563204 0.3075486933333327 0.3075486933333327 0.029037067171815253\n",
      "ihocl/ihocl_45_sp.fchk\n",
      "DXDYDZO 0.30699052873563204 0.3075486933333327 0.3075486933333327 0.029037067171815253\n",
      "ihocl/ihocl_50_sp.fchk\n",
      "DXDYDZO 0.30699052873563204 0.3075486933333327 0.3075486933333327 0.029037067171815253\n",
      "brhocl_pp/brhocl_pp_0_sp.fchk\n",
      "DXDYDZO 0.27605456666666583 0.27656672727272813 0.2768129583333341 0.021133979565166605\n",
      "brhocl_pp/brhocl_pp_5_sp.fchk\n",
      "DXDYDZO 0.27605456666666583 0.27656672727272813 0.2768129583333341 0.021133979565166605\n",
      "brhocl_pp/brhocl_pp_10_sp.fchk\n",
      "DXDYDZO 0.27605456666666583 0.27656672727272813 0.2768129583333341 0.021133979565166605\n",
      "brhocl_pp/brhocl_pp_15_sp.fchk\n",
      "DXDYDZO 0.27605456666666583 0.27656672727272813 0.2768129583333341 0.021133979565166605\n",
      "brhocl_pp/brhocl_pp_20_sp.fchk\n",
      "DXDYDZO 0.27605456666666583 0.27656672727272813 0.2768129583333341 0.021133979565166605\n",
      "brhocl_pp/brhocl_pp_25_sp.fchk\n",
      "DXDYDZO 0.27605456666666583 0.27656672727272813 0.2768129583333341 0.021133979565166605\n",
      "brhocl_pp/brhocl_pp_30_sp.fchk\n",
      "DXDYDZO 0.27605456666666583 0.27656672727272813 0.2768129583333341 0.021133979565166605\n",
      "brhocl_pp/brhocl_pp_35_sp.fchk\n",
      "DXDYDZO 0.27605456666666583 0.27656672727272813 0.2768129583333341 0.021133979565166605\n",
      "brhocl_pp/brhocl_pp_40_sp.fchk\n",
      "DXDYDZO 0.27605456666666583 0.27656672727272813 0.2768129583333341 0.021133979565166605\n",
      "brhocl_pp/brhocl_pp_45_sp.fchk\n",
      "DXDYDZO 0.27605456666666583 0.27656672727272813 0.2768129583333341 0.021133979565166605\n",
      "brhocl_pp/brhocl_pp_50_sp.fchk\n",
      "DXDYDZO 0.27605456666666583 0.27656672727272813 0.2768129583333341 0.021133979565166605\n"
     ]
    }
   ],
   "source": [
    "clhocl_fchks = ['clhocl/clhocl_0_sp.fchk',\n",
    "                'clhocl/clhocl_5_sp.fchk',\n",
    "                'clhocl/clhocl_10_sp.fchk',\n",
    "                'clhocl/clhocl_15_sp.fchk',\n",
    "                'clhocl/clhocl_20_sp.fchk',\n",
    "                'clhocl/clhocl_25_sp.fchk',\n",
    "                'clhocl/clhocl_30_sp.fchk',\n",
    "                'clhocl/clhocl_35_sp.fchk',\n",
    "                'clhocl/clhocl_40_sp.fchk',\n",
    "                'clhocl/clhocl_45_sp.fchk',\n",
    "                'clhocl/clhocl_50_sp.fchk']\n",
    "\n",
    "clhocl = gt.FchkInterpreter(fchks = clhocl_fchks,\n",
    "                           cubes=True)\n",
    "\n",
    "brhocl_fchks = ['brhocl/brhocl_0_sp.fchk',\n",
    "                'brhocl/brhocl_5_sp.fchk',\n",
    "                'brhocl/brhocl_10_sp.fchk',\n",
    "                'brhocl/brhocl_15_sp.fchk',\n",
    "                'brhocl/brhocl_20_sp.fchk',\n",
    "                'brhocl/brhocl_25_sp.fchk',\n",
    "                'brhocl/brhocl_30_sp.fchk',\n",
    "                'brhocl/brhocl_35_sp.fchk',\n",
    "                'brhocl/brhocl_40_sp.fchk',\n",
    "                'brhocl/brhocl_45_sp.fchk',\n",
    "                'brhocl/brhocl_50_sp.fchk']\n",
    "\n",
    "brhocl = gt.FchkInterpreter(fchks = brhocl_fchks,\n",
    "                           cubes=True)\n",
    "\n",
    "ihocl_fchks = ['ihocl/ihocl_0_sp.fchk',\n",
    "                'ihocl/ihocl_5_sp.fchk',\n",
    "                'ihocl/ihocl_10_sp.fchk',\n",
    "                'ihocl/ihocl_15_sp.fchk',\n",
    "                'ihocl/ihocl_20_sp.fchk',\n",
    "                'ihocl/ihocl_25_sp.fchk',\n",
    "                'ihocl/ihocl_30_sp.fchk',\n",
    "                'ihocl/ihocl_35_sp.fchk',\n",
    "                'ihocl/ihocl_40_sp.fchk',\n",
    "                'ihocl/ihocl_45_sp.fchk',\n",
    "                'ihocl/ihocl_50_sp.fchk']\n",
    "\n",
    "ihocl = gt.FchkInterpreter(fchks = ihocl_fchks,\n",
    "                           cubes=True)\n",
    "\n",
    "brhocl_pp_fchks = ['brhocl_pp/brhocl_pp_0_sp.fchk',\n",
    "                'brhocl_pp/brhocl_pp_5_sp.fchk',\n",
    "                'brhocl_pp/brhocl_pp_10_sp.fchk',\n",
    "                'brhocl_pp/brhocl_pp_15_sp.fchk',\n",
    "                'brhocl_pp/brhocl_pp_20_sp.fchk',\n",
    "                'brhocl_pp/brhocl_pp_25_sp.fchk',\n",
    "                'brhocl_pp/brhocl_pp_30_sp.fchk',\n",
    "                'brhocl_pp/brhocl_pp_35_sp.fchk',\n",
    "                'brhocl_pp/brhocl_pp_40_sp.fchk',\n",
    "                'brhocl_pp/brhocl_pp_45_sp.fchk',\n",
    "                'brhocl_pp/brhocl_pp_50_sp.fchk']\n",
    "\n",
    "brhocl_pp = gt.FchkInterpreter(fchks = brhocl_pp_fchks,\n",
    "                           cubes=True)"
   ]
  },
  {
   "cell_type": "code",
   "execution_count": null,
   "id": "7be70760-4f46-458e-af91-fed25d92bf48",
   "metadata": {},
   "outputs": [],
   "source": []
  },
  {
   "cell_type": "markdown",
   "id": "686b21da-fb40-46a3-8f3e-fb6dba2f1a58",
   "metadata": {},
   "source": [
    "# Plot Energies on harmonic potential"
   ]
  },
  {
   "cell_type": "markdown",
   "id": "ac7c5b4e-ec7c-45cb-9a03-a6aaf05ad76a",
   "metadata": {},
   "source": [
    "omega and reduced mass came from the frequency calculation"
   ]
  },
  {
   "cell_type": "code",
   "execution_count": 3,
   "id": "03af2dbd-5736-4a16-9cef-28019b330b3b",
   "metadata": {},
   "outputs": [],
   "source": [
    "def v(x, omega, m): return 0.5*m*omega**2*x**2\n",
    "\n",
    "def harmStates(nRange, omega):\n",
    "    n = np.arange(0, nRange+1, 1)\n",
    "    return (0.5 + n) *omega\n",
    "\n",
    "def energy_on_harm_approx(energy_x,\n",
    "                          energy_array,\n",
    "                          harm_grid,\n",
    "                          omega,\n",
    "                          red_mass,\n",
    "                          max_state,\n",
    "                          **kwargs):\n",
    "    \"\"\"\n",
    "    energy_x in degrees\n",
    "    energy_array in Hartree\n",
    "    harm_grid in degrees\n",
    "    \"\"\"\n",
    "    minE = energy_array.min()\n",
    "    energy_array = energy_array - minE\n",
    " \n",
    "    fig = plt.figure()\n",
    "    ax = plt.axes()\n",
    "    ax.scatter(energy_x, \n",
    "               uts.Constants.convert(energy_array, 'wavenumbers', to_AU=False))\n",
    "    ax.plot(harm_grid,\n",
    "            uts.Constants.convert(v(np.deg2rad(harm_grid), omega, red_mass), 'wavenumbers', to_AU=False),\n",
    "            color='k')\n",
    "    states = uts.Constants.convert(harmStates(nRange=max_state, omega=omega), 'wavenumbers', to_AU=False)\n",
    "    evenly_spaced_interval = np.linspace(0,0.9, max_state+1)\n",
    "    colors = [cm.viridis(x) for x in evenly_spaced_interval]\n",
    "    for i in range(len(states)):\n",
    "        ax.axhline(y=states[i], color=colors[i], label=r\"$\\nu_{%s}$\" %i)\n",
    "    ax.legend()\n",
    "    ax.set_ylabel(\"E (cm-1)\")\n",
    "    ax.set_xlabel(\"oop\")\n",
    "    \n",
    "    \n",
    "    \n",
    "    \n",
    "    "
   ]
  },
  {
   "cell_type": "code",
   "execution_count": 4,
   "id": "e7059338-580f-45d0-83d3-0987d40d217d",
   "metadata": {},
   "outputs": [],
   "source": [
    "red_AMU = 1.0339"
   ]
  },
  {
   "cell_type": "code",
   "execution_count": 5,
   "id": "d057fb17-eeac-4d39-88fa-601b0288c4d4",
   "metadata": {},
   "outputs": [
    {
     "data": {
      "image/png": "[encoded data removed]",
      "text/plain": [
       "<Figure size 432x288 with 1 Axes>"
      ]
     },
     "metadata": {
      "needs_background": "light"
     },
     "output_type": "display_data"
    }
   ],
   "source": [
    "energy_on_harm_approx(energy_x=np.arange(0,55,5),\n",
    "                      energy_array=clhocl.MP2Energy,\n",
    "                      harm_grid= np.linspace(0,50,1001),\n",
    "                      omega=uts.Constants.convert(841, 'wavenumbers', to_AU=True),\n",
    "                      red_mass = uts.Constants.convert(red_AMU, 'amu', to_AU=True),\n",
    "                      max_state=6)"
   ]
  },
  {
   "cell_type": "code",
   "execution_count": 6,
   "id": "48ae7ff5-1572-4df2-a220-c2797ae81580",
   "metadata": {},
   "outputs": [
    {
     "data": {
      "image/png": "[encoded data removed]",
      "text/plain": [
       "<Figure size 432x288 with 1 Axes>"
      ]
     },
     "metadata": {
      "needs_background": "light"
     },
     "output_type": "display_data"
    }
   ],
   "source": [
    "energy_on_harm_approx(energy_x=np.arange(0,55,5),\n",
    "                      energy_array=brhocl.MP2Energy,\n",
    "                      harm_grid= np.linspace(0,50,1001),\n",
    "                      omega=uts.Constants.convert(776.09, 'wavenumbers', to_AU=True),\n",
    "                      red_mass = uts.Constants.convert(1.0335, 'amu', to_AU=True),\n",
    "                      max_state=6)"
   ]
  },
  {
   "cell_type": "code",
   "execution_count": 7,
   "id": "adf9ee97-231b-4761-a2ae-241e88784e3d",
   "metadata": {},
   "outputs": [
    {
     "data": {
      "image/png": "[encoded data removed]",
      "text/plain": [
       "<Figure size 432x288 with 1 Axes>"
      ]
     },
     "metadata": {
      "needs_background": "light"
     },
     "output_type": "display_data"
    }
   ],
   "source": [
    "energy_on_harm_approx(energy_x=np.arange(0,55,5),\n",
    "                      energy_array=ihocl.MP2Energy,\n",
    "                      harm_grid= np.linspace(0,50,1001),\n",
    "                      omega=uts.Constants.convert(693.03, 'wavenumbers', to_AU=True),\n",
    "                      red_mass = uts.Constants.convert(1.0346, 'amu', to_AU=True),\n",
    "                      max_state=6)"
   ]
  },
  {
   "cell_type": "markdown",
   "id": "97740df9-70bd-46e0-bcad-a92439a82845",
   "metadata": {},
   "source": [
    "# Next Steps"
   ]
  },
  {
   "cell_type": "markdown",
   "id": "500e79d0-e283-4d19-b98e-4cd2d3e04aa0",
   "metadata": {},
   "source": [
    "- I need to run the same analysis for clhocl, brhocl, IHOCl, and X-HOD scans\n",
    "- I should tighten the oop range and grid spacing because I am sampling up to like v=10"
   ]
  },
  {
   "cell_type": "markdown",
   "id": "df60a6cb-49dd-454c-be04-0e35a46bf1cf",
   "metadata": {},
   "source": [
    "# Cl-HOCl"
   ]
  },
  {
   "cell_type": "code",
   "execution_count": 8,
   "id": "00fc88b0-14e5-4f9c-9b33-736d1022dde8",
   "metadata": {},
   "outputs": [
    {
     "data": {
      "text/plain": [
       "array([-0.4999764 , -0.82952   ,  0.03757603,  0.29192036])"
      ]
     },
     "execution_count": 8,
     "metadata": {},
     "output_type": "execute_result"
    }
   ],
   "source": [
    "clhocl.mullikens[0]"
   ]
  },
  {
   "cell_type": "code",
   "execution_count": 9,
   "id": "0c1fad97-8e76-4aa5-88df-be3b87cbbeb0",
   "metadata": {},
   "outputs": [
    {
     "data": {
      "application/vnd.jupyter.widget-view+json": {
       "model_id": "d4fa4f851ffe4a25b94415b0ca533384",
       "version_major": 2,
       "version_minor": 0
      },
      "text/plain": [
       "Canvas(toolbar=Toolbar(toolitems=[('Home', 'Reset original view', 'home', 'home'), ('Back', 'Back to previous …"
      ]
     },
     "metadata": {},
     "output_type": "display_data"
    },
    {
     "data": {
      "text/plain": [
       "<matplotlib.legend.Legend at 0x7ffd9c69d100>"
      ]
     },
     "execution_count": 9,
     "metadata": {},
     "output_type": "execute_result"
    }
   ],
   "source": [
    "%matplotlib widget\n",
    "fig, axs = plt.subplots(2,2)\n",
    "oop = np.arange(0,55,5)\n",
    "\n",
    "axs[0,0].scatter(oop, clhocl.mullikens[:,0], label=\"O\", color=\"red\")\n",
    "axs[0,0].legend()\n",
    "axs[0,1].scatter(oop, clhocl.mullikens[:,1], label=\"Cl colinear with O and H\", color='green')\n",
    "axs[0,1].legend(loc=\"best\")\n",
    "axs[1,0].scatter(oop, clhocl.mullikens[:,2], label=\"Cl\", color='green')\n",
    "axs[1,0].legend()\n",
    "axs[1,1].scatter(oop, clhocl.mullikens[:,3], label=\"H\", color='gray')\n",
    "axs[1,1].legend()\n",
    "#plt.subplots_adjust(wspace=0, hspace=0)\n"
   ]
  },
  {
   "cell_type": "markdown",
   "id": "8ad3dc22-9335-49f7-9fd4-6f4aefe255a2",
   "metadata": {},
   "source": [
    "# Mulliken Plot"
   ]
  },
  {
   "cell_type": "code",
   "execution_count": 12,
   "id": "8d8d723b-8e5b-4558-8803-b7bf53766b88",
   "metadata": {
    "tags": []
   },
   "outputs": [
    {
     "data": {
      "application/vnd.jupyter.widget-view+json": {
       "model_id": "f4afd7fdb43947b6a5639e511c0d4f31",
       "version_major": 2,
       "version_minor": 0
      },
      "text/plain": [
       "Canvas(toolbar=Toolbar(toolitems=[('Home', 'Reset original view', 'home', 'home'), ('Back', 'Back to previous …"
      ]
     },
     "metadata": {},
     "output_type": "display_data"
    }
   ],
   "source": [
    "%matplotlib widget\n",
    "figs, axs = plt.subplots(4, 3, sharex=True)\n",
    "\n",
    "\n",
    "oop = np.arange(0,55,5)\n",
    "axs[0,0].scatter(oop, clhocl.mullikens[:,0], label=\"O\", color=\"red\")\n",
    "axs[1,0].scatter(oop, clhocl.mullikens[:,1], label=\"Cl ion\", color='green')\n",
    "axs[2,0].scatter(oop, clhocl.mullikens[:,2], label=\"Cl\", color='green')\n",
    "axs[3,0].scatter(oop, clhocl.mullikens[:,3], label=\"H\", color='gray')\n",
    "\n",
    "axs[0,1].scatter(oop, brhocl.mullikens[:,0], label=\"O\", color=\"red\")\n",
    "axs[1,1].scatter(oop, brhocl.mullikens[:,1], label=\"Br ion\", color='maroon')\n",
    "axs[2,1].scatter(oop, brhocl.mullikens[:,2], label=\"Cl\", color='green')\n",
    "axs[3,1].scatter(oop, brhocl.mullikens[:,3], label=\"H\", color='gray')\n",
    "\n",
    "axs[0,2].scatter(oop, ihocl.mullikens[:,0], label=\"O\", color=\"red\")\n",
    "axs[1,2].scatter(oop, ihocl.mullikens[:,1], label=\"I ion\", color='purple')\n",
    "axs[2,2].scatter(oop, ihocl.mullikens[:,2], label=\"Cl\", color='green')\n",
    "axs[3,2].scatter(oop, ihocl.mullikens[:,3], label=\"H\", color='gray')\n",
    "\n",
    "axs[0,0].get_shared_y_axes().join(axs[0,0], axs[0,1], axs[0,2])\n",
    "axs[1,0].get_shared_y_axes().join(axs[1,0], axs[1,1], axs[1,2])\n",
    "axs[2,0].get_shared_y_axes().join(axs[2,0], axs[2,1], axs[2,2])\n",
    "axs[3,0].get_shared_y_axes().join(axs[3,0], axs[3,1], axs[3,2])\n",
    "\n",
    "\"\"\"for a in axs:\n",
    "    for b in a:\n",
    "        b.legend()\"\"\"\n",
    "        \n",
    "axs[0,0].set_title(\"ClHOCl\")\n",
    "axs[0,1].set_title(\"BrHOCl\")\n",
    "axs[0,2].set_title(\"IHOCl\")\n",
    "\n",
    "axs[0,0].set_ylabel(\"O charge\")\n",
    "axs[1,0].set_ylabel(\"X charge\")\n",
    "axs[2,0].set_ylabel(\"Cl charge\")\n",
    "axs[3,0].set_ylabel(\"H charge\")\n",
    "\n",
    "fig.subplots_adjust(wspace = 0, hspace = 0)\n",
    "#fig.set_size_inches(w=6,h=8.5)\n",
    "        \n",
    "plt.tight_layout()\n",
    "\n",
    "plt.savefig('Mulliken_charges.pdf')\n"
   ]
  },
  {
   "cell_type": "code",
   "execution_count": 13,
   "id": "02a26fc2-3c46-4efb-b584-d8a02ac70865",
   "metadata": {
    "tags": []
   },
   "outputs": [
    {
     "data": {
      "application/vnd.jupyter.widget-view+json": {
       "model_id": "ca68ce9d3bc84e2792b976b528b66c10",
       "version_major": 2,
       "version_minor": 0
      },
      "text/plain": [
       "Canvas(toolbar=Toolbar(toolitems=[('Home', 'Reset original view', 'home', 'home'), ('Back', 'Back to previous …"
      ]
     },
     "metadata": {},
     "output_type": "display_data"
    }
   ],
   "source": [
    "%matplotlib widget\n",
    "figs, axs = plt.subplots(4, 2, sharex=True)\n",
    "\n",
    "\n",
    "oop = np.arange(0,55,5)\n",
    "axs[0,0].scatter(oop, clhocl.mullikens[:,0], label=\"ClHOCl- O\", color=\"green\")\n",
    "axs[1,0].scatter(oop, clhocl.mullikens[:,1], label=\"ClHOCl- Cl ion\", color='green')\n",
    "axs[2,0].scatter(oop, clhocl.mullikens[:,2], label=\"ClHOCl- Cl\", color='green')\n",
    "axs[3,0].scatter(oop, clhocl.mullikens[:,3], label=\"ClHOCl- H\", color='green')\n",
    "\n",
    "axs[0,0].scatter(oop, brhocl.mullikens[:,0], label=\"BrHOCl- O\", color=\"maroon\")\n",
    "axs[1,0].scatter(oop, brhocl.mullikens[:,1], label=\"BrHOCl- Br ion\", color='maroon')\n",
    "axs[2,0].scatter(oop, brhocl.mullikens[:,2], label=\"BrHOCl- Cl\", color='maroon')\n",
    "axs[3,0].scatter(oop, brhocl.mullikens[:,3], label=\"BrHOCl- H\", color='maroon')\n",
    "\n",
    "axs[0,0].scatter(oop, ihocl.mullikens[:,0], label=\"IHOCl- O\", color=\"purple\")\n",
    "axs[1,0].scatter(oop, ihocl.mullikens[:,1], label=\"IHOCl- I ion\", color='purple')\n",
    "axs[2,0].scatter(oop, ihocl.mullikens[:,2], label=\"IHOCl- Cl\", color='purple')\n",
    "axs[3,0].scatter(oop, ihocl.mullikens[:,3], label=\"IHOCl- H\", color='purple')\n",
    "\n",
    "axs[0,1].scatter(oop, clhocl.mullikens[:,0], label=\"ClHOCl- O\", color=\"green\")\n",
    "axs[1,1].scatter(oop, clhocl.mullikens[:,1], label=\"ClHOCl- Cl ion\", color='green')\n",
    "axs[2,1].scatter(oop, clhocl.mullikens[:,2], label=\"ClHOCl- Cl\", color='green')\n",
    "axs[3,1].scatter(oop, clhocl.mullikens[:,3], label=\"ClHOCl- H\", color='green')\n",
    "\n",
    "axs[0,1].scatter(oop, brhocl_pp.mullikens[:,0], label=\"BrHOCl- O\", color=\"maroon\")\n",
    "axs[1,1].scatter(oop, brhocl_pp.mullikens[:,1], label=\"BrHOCl- Br ion\", color='maroon')\n",
    "axs[2,1].scatter(oop, brhocl_pp.mullikens[:,2], label=\"BrHOCl- Cl\", color='maroon')\n",
    "axs[3,1].scatter(oop, brhocl_pp.mullikens[:,3], label=\"BrHOCl- H\", color='maroon')\n",
    "\n",
    "axs[0,1].scatter(oop, ihocl.mullikens[:,0], label=\"IHOCl- O\", color=\"purple\")\n",
    "axs[1,1].scatter(oop, ihocl.mullikens[:,1], label=\"IHOCl- I ion\", color='purple')\n",
    "axs[2,1].scatter(oop, ihocl.mullikens[:,2], label=\"IHOCl- Cl\", color='purple')\n",
    "axs[3,1].scatter(oop, ihocl.mullikens[:,3], label=\"IHOCl- H\", color='purple')\n",
    "\n",
    "\"\"\"axs[0].get_shared_y_axes().join(axs[0,0], axs[0,1], axs[0,2])\n",
    "axs[1].get_shared_y_axes().join(axs[1,0], axs[1,1], axs[1,2])\n",
    "axs[2].get_shared_y_axes().join(axs[2,0], axs[2,1], axs[2,2])\n",
    "axs[3].get_shared_y_axes().join(axs[3,0], axs[3,1], axs[3,2])\"\"\"\n",
    "\n",
    "for a in axs:\n",
    "    for b in a:\n",
    "        b.legend(loc='best')\n",
    "        \n",
    "\"\"\"axs[0,0].set_title(\"ClHOCl\")\n",
    "axs[0,1].set_title(\"BrHOCl\")\n",
    "axs[0,2].set_title(\"IHOCl\")\"\"\"\n",
    "\n",
    "axs[0,0].set_ylabel(\"O charge\")\n",
    "axs[1,0].set_ylabel(\"X charge\")\n",
    "axs[2,0].set_ylabel(\"Cl charge\")\n",
    "axs[3,0].set_ylabel(\"H charge\")\n",
    "\n",
    "axs[0,0].set_title(\"tz\")\n",
    "axs[0,1].set_title(\"pp\")\n",
    "\n",
    "\n",
    "\n",
    "fig.subplots_adjust(wspace = 0, hspace = 0)\n",
    "#fig.set_size_inches(w=6,h=8.5)\n",
    "        \n",
    "plt.tight_layout()\n",
    "\n",
    "plt.savefig('Mulliken_charges.pdf')\n"
   ]
  },
  {
   "cell_type": "code",
   "execution_count": 23,
   "id": "70131288-58f1-4172-b90d-77c9f1ab2781",
   "metadata": {},
   "outputs": [],
   "source": [
    "# make a pandas table of total changes in charges for each atom"
   ]
  },
  {
   "cell_type": "code",
   "execution_count": 24,
   "id": "7480ed2d-f162-481f-a95b-20e30172e355",
   "metadata": {},
   "outputs": [],
   "source": [
    "clhocl_mull_data = [['O'], ['Cl ion'], ['Cl'], ['H']]\n",
    "for i in range(len(clhocl_mull_data)):\n",
    "    for d in clhocl.mullikens[:,i]:\n",
    "        clhocl_mull_data[i].append(d)\n",
    "    clhocl_mull_data[i].append(clhocl.mullikens[:,i][-1]-clhocl.mullikens[:,i][0])"
   ]
  },
  {
   "cell_type": "code",
   "execution_count": 25,
   "id": "a404e289-15b2-4340-a96d-198e57e37f3a",
   "metadata": {},
   "outputs": [],
   "source": [
    "brhocl_mull_data = [['O'], ['Br ion'], ['Cl'], ['H']]\n",
    "for i in range(len(brhocl_mull_data)):\n",
    "    for d in brhocl.mullikens[:,i]:\n",
    "        brhocl_mull_data[i].append(d)\n",
    "    brhocl_mull_data[i].append(brhocl.mullikens[:,i][-1]-brhocl.mullikens[:,i][0])"
   ]
  },
  {
   "cell_type": "code",
   "execution_count": 26,
   "id": "59af31d2-364e-48bf-b10a-f23ceb5a8c89",
   "metadata": {},
   "outputs": [],
   "source": [
    "ihocl_mull_data = [['O'], ['I ion'], ['Cl'], ['H']]\n",
    "for i in range(len(ihocl_mull_data)):\n",
    "    for d in ihocl.mullikens[:,i]:\n",
    "        ihocl_mull_data[i].append(d)\n",
    "    ihocl_mull_data[i].append(ihocl.mullikens[:,i][-1]-ihocl.mullikens[:,i][0])"
   ]
  },
  {
   "cell_type": "code",
   "execution_count": 27,
   "id": "0d036451-ed05-4b34-8751-23fff1494dc5",
   "metadata": {},
   "outputs": [],
   "source": [
    "clhocl_mull_df = pd.DataFrame(clhocl_mull_data, columns = ['Atom', '0', '5', '10', '15', '20', '25', '30', '35', '40', '45', '50', 'total change'])\n",
    "brhocl_mull_df = pd.DataFrame(brhocl_mull_data, columns = ['Atom', '0', '5', '10', '15', '20', '25', '30', '35', '40', '45', '50', 'total change'])\n",
    "ihocl_mull_df = pd.DataFrame(ihocl_mull_data, columns = ['Atom', '0', '5', '10', '15', '20', '25', '30', '35', '40', '45', '50', 'total change'])"
   ]
  },
  {
   "cell_type": "markdown",
   "id": "97901f9f-8980-40b8-a297-b4cd3e5b40b7",
   "metadata": {},
   "source": [
    "## ClHOCl mulliken charges"
   ]
  },
  {
   "cell_type": "code",
   "execution_count": 28,
   "id": "64fa5b02-7aa7-4d12-a535-4df51eb3c4ac",
   "metadata": {},
   "outputs": [
    {
     "data": {
      "text/html": [
       "<div>\n",
       "<style scoped>\n",
       "    .dataframe tbody tr th:only-of-type {\n",
       "        vertical-align: middle;\n",
       "    }\n",
       "\n",
       "    .dataframe tbody tr th {\n",
       "        vertical-align: top;\n",
       "    }\n",
       "\n",
       "    .dataframe thead th {\n",
       "        text-align: right;\n",
       "    }\n",
       "</style>\n",
       "<table border=\"1\" class=\"dataframe\">\n",
       "  <thead>\n",
       "    <tr style=\"text-align: right;\">\n",
       "      <th></th>\n",
       "      <th>Atom</th>\n",
       "      <th>0</th>\n",
       "      <th>5</th>\n",
       "      <th>10</th>\n",
       "      <th>15</th>\n",
       "      <th>20</th>\n",
       "      <th>25</th>\n",
       "      <th>30</th>\n",
       "      <th>35</th>\n",
       "      <th>40</th>\n",
       "      <th>45</th>\n",
       "      <th>50</th>\n",
       "      <th>total change</th>\n",
       "    </tr>\n",
       "  </thead>\n",
       "  <tbody>\n",
       "    <tr>\n",
       "      <th>0</th>\n",
       "      <td>O</td>\n",
       "      <td>-0.499976</td>\n",
       "      <td>-0.498003</td>\n",
       "      <td>-0.490673</td>\n",
       "      <td>-0.478233</td>\n",
       "      <td>-0.461254</td>\n",
       "      <td>-0.442305</td>\n",
       "      <td>-0.423297</td>\n",
       "      <td>-0.406525</td>\n",
       "      <td>-0.392569</td>\n",
       "      <td>-0.381906</td>\n",
       "      <td>-0.373439</td>\n",
       "      <td>0.126538</td>\n",
       "    </tr>\n",
       "    <tr>\n",
       "      <th>1</th>\n",
       "      <td>Cl ion</td>\n",
       "      <td>-0.829520</td>\n",
       "      <td>-0.831432</td>\n",
       "      <td>-0.837965</td>\n",
       "      <td>-0.847528</td>\n",
       "      <td>-0.859269</td>\n",
       "      <td>-0.871933</td>\n",
       "      <td>-0.885221</td>\n",
       "      <td>-0.898496</td>\n",
       "      <td>-0.911555</td>\n",
       "      <td>-0.923941</td>\n",
       "      <td>-0.935535</td>\n",
       "      <td>-0.106015</td>\n",
       "    </tr>\n",
       "    <tr>\n",
       "      <th>2</th>\n",
       "      <td>Cl</td>\n",
       "      <td>0.037576</td>\n",
       "      <td>0.038300</td>\n",
       "      <td>0.040704</td>\n",
       "      <td>0.044239</td>\n",
       "      <td>0.048578</td>\n",
       "      <td>0.053256</td>\n",
       "      <td>0.058061</td>\n",
       "      <td>0.062630</td>\n",
       "      <td>0.066686</td>\n",
       "      <td>0.069905</td>\n",
       "      <td>0.072134</td>\n",
       "      <td>0.034558</td>\n",
       "    </tr>\n",
       "    <tr>\n",
       "      <th>3</th>\n",
       "      <td>H</td>\n",
       "      <td>0.291920</td>\n",
       "      <td>0.291135</td>\n",
       "      <td>0.287934</td>\n",
       "      <td>0.281522</td>\n",
       "      <td>0.271945</td>\n",
       "      <td>0.260982</td>\n",
       "      <td>0.250457</td>\n",
       "      <td>0.242391</td>\n",
       "      <td>0.237438</td>\n",
       "      <td>0.235941</td>\n",
       "      <td>0.236840</td>\n",
       "      <td>-0.055080</td>\n",
       "    </tr>\n",
       "  </tbody>\n",
       "</table>\n",
       "</div>"
      ],
      "text/plain": [
       "     Atom         0         5        10        15        20        25  \\\n",
       "0       O -0.499976 -0.498003 -0.490673 -0.478233 -0.461254 -0.442305   \n",
       "1  Cl ion -0.829520 -0.831432 -0.837965 -0.847528 -0.859269 -0.871933   \n",
       "2      Cl  0.037576  0.038300  0.040704  0.044239  0.048578  0.053256   \n",
       "3       H  0.291920  0.291135  0.287934  0.281522  0.271945  0.260982   \n",
       "\n",
       "         30        35        40        45        50  total change  \n",
       "0 -0.423297 -0.406525 -0.392569 -0.381906 -0.373439      0.126538  \n",
       "1 -0.885221 -0.898496 -0.911555 -0.923941 -0.935535     -0.106015  \n",
       "2  0.058061  0.062630  0.066686  0.069905  0.072134      0.034558  \n",
       "3  0.250457  0.242391  0.237438  0.235941  0.236840     -0.055080  "
      ]
     },
     "execution_count": 28,
     "metadata": {},
     "output_type": "execute_result"
    }
   ],
   "source": [
    "clhocl_mull_df"
   ]
  },
  {
   "cell_type": "markdown",
   "id": "4c8d867d-4cd0-4332-ae66-094ece549954",
   "metadata": {},
   "source": [
    "## BrHOCl mulliken charges"
   ]
  },
  {
   "cell_type": "code",
   "execution_count": 29,
   "id": "0effc812-def8-465a-a97a-b3cad0640980",
   "metadata": {},
   "outputs": [
    {
     "data": {
      "text/html": [
       "<div>\n",
       "<style scoped>\n",
       "    .dataframe tbody tr th:only-of-type {\n",
       "        vertical-align: middle;\n",
       "    }\n",
       "\n",
       "    .dataframe tbody tr th {\n",
       "        vertical-align: top;\n",
       "    }\n",
       "\n",
       "    .dataframe thead th {\n",
       "        text-align: right;\n",
       "    }\n",
       "</style>\n",
       "<table border=\"1\" class=\"dataframe\">\n",
       "  <thead>\n",
       "    <tr style=\"text-align: right;\">\n",
       "      <th></th>\n",
       "      <th>Atom</th>\n",
       "      <th>0</th>\n",
       "      <th>5</th>\n",
       "      <th>10</th>\n",
       "      <th>15</th>\n",
       "      <th>20</th>\n",
       "      <th>25</th>\n",
       "      <th>30</th>\n",
       "      <th>35</th>\n",
       "      <th>40</th>\n",
       "      <th>45</th>\n",
       "      <th>50</th>\n",
       "      <th>total change</th>\n",
       "    </tr>\n",
       "  </thead>\n",
       "  <tbody>\n",
       "    <tr>\n",
       "      <th>0</th>\n",
       "      <td>O</td>\n",
       "      <td>-0.494229</td>\n",
       "      <td>-0.491730</td>\n",
       "      <td>-0.483618</td>\n",
       "      <td>-0.470621</td>\n",
       "      <td>-0.453988</td>\n",
       "      <td>-0.435930</td>\n",
       "      <td>-0.418649</td>\n",
       "      <td>-0.403687</td>\n",
       "      <td>-0.391613</td>\n",
       "      <td>-0.382135</td>\n",
       "      <td>-0.374472</td>\n",
       "      <td>0.119756</td>\n",
       "    </tr>\n",
       "    <tr>\n",
       "      <th>1</th>\n",
       "      <td>Br ion</td>\n",
       "      <td>-0.845958</td>\n",
       "      <td>-0.847476</td>\n",
       "      <td>-0.852440</td>\n",
       "      <td>-0.859920</td>\n",
       "      <td>-0.869230</td>\n",
       "      <td>-0.879559</td>\n",
       "      <td>-0.890387</td>\n",
       "      <td>-0.901486</td>\n",
       "      <td>-0.912762</td>\n",
       "      <td>-0.924067</td>\n",
       "      <td>-0.935134</td>\n",
       "      <td>-0.089176</td>\n",
       "    </tr>\n",
       "    <tr>\n",
       "      <th>2</th>\n",
       "      <td>Cl</td>\n",
       "      <td>0.048102</td>\n",
       "      <td>0.048551</td>\n",
       "      <td>0.050055</td>\n",
       "      <td>0.052393</td>\n",
       "      <td>0.055455</td>\n",
       "      <td>0.059037</td>\n",
       "      <td>0.062896</td>\n",
       "      <td>0.066748</td>\n",
       "      <td>0.070289</td>\n",
       "      <td>0.073237</td>\n",
       "      <td>0.075384</td>\n",
       "      <td>0.027282</td>\n",
       "    </tr>\n",
       "    <tr>\n",
       "      <th>3</th>\n",
       "      <td>H</td>\n",
       "      <td>0.292085</td>\n",
       "      <td>0.290656</td>\n",
       "      <td>0.286003</td>\n",
       "      <td>0.278148</td>\n",
       "      <td>0.267763</td>\n",
       "      <td>0.256452</td>\n",
       "      <td>0.246140</td>\n",
       "      <td>0.238425</td>\n",
       "      <td>0.234086</td>\n",
       "      <td>0.232966</td>\n",
       "      <td>0.234222</td>\n",
       "      <td>-0.057863</td>\n",
       "    </tr>\n",
       "  </tbody>\n",
       "</table>\n",
       "</div>"
      ],
      "text/plain": [
       "     Atom         0         5        10        15        20        25  \\\n",
       "0       O -0.494229 -0.491730 -0.483618 -0.470621 -0.453988 -0.435930   \n",
       "1  Br ion -0.845958 -0.847476 -0.852440 -0.859920 -0.869230 -0.879559   \n",
       "2      Cl  0.048102  0.048551  0.050055  0.052393  0.055455  0.059037   \n",
       "3       H  0.292085  0.290656  0.286003  0.278148  0.267763  0.256452   \n",
       "\n",
       "         30        35        40        45        50  total change  \n",
       "0 -0.418649 -0.403687 -0.391613 -0.382135 -0.374472      0.119756  \n",
       "1 -0.890387 -0.901486 -0.912762 -0.924067 -0.935134     -0.089176  \n",
       "2  0.062896  0.066748  0.070289  0.073237  0.075384      0.027282  \n",
       "3  0.246140  0.238425  0.234086  0.232966  0.234222     -0.057863  "
      ]
     },
     "execution_count": 29,
     "metadata": {},
     "output_type": "execute_result"
    }
   ],
   "source": [
    "brhocl_mull_df"
   ]
  },
  {
   "cell_type": "markdown",
   "id": "f19e02b1-58db-403d-b59c-605445285ef5",
   "metadata": {},
   "source": [
    "## IHOCl mulliken charges"
   ]
  },
  {
   "cell_type": "code",
   "execution_count": 30,
   "id": "97919d12-a48e-4c96-9719-a0508a94fb3b",
   "metadata": {},
   "outputs": [
    {
     "data": {
      "text/html": [
       "<div>\n",
       "<style scoped>\n",
       "    .dataframe tbody tr th:only-of-type {\n",
       "        vertical-align: middle;\n",
       "    }\n",
       "\n",
       "    .dataframe tbody tr th {\n",
       "        vertical-align: top;\n",
       "    }\n",
       "\n",
       "    .dataframe thead th {\n",
       "        text-align: right;\n",
       "    }\n",
       "</style>\n",
       "<table border=\"1\" class=\"dataframe\">\n",
       "  <thead>\n",
       "    <tr style=\"text-align: right;\">\n",
       "      <th></th>\n",
       "      <th>Atom</th>\n",
       "      <th>0</th>\n",
       "      <th>5</th>\n",
       "      <th>10</th>\n",
       "      <th>15</th>\n",
       "      <th>20</th>\n",
       "      <th>25</th>\n",
       "      <th>30</th>\n",
       "      <th>35</th>\n",
       "      <th>40</th>\n",
       "      <th>45</th>\n",
       "      <th>50</th>\n",
       "      <th>total change</th>\n",
       "    </tr>\n",
       "  </thead>\n",
       "  <tbody>\n",
       "    <tr>\n",
       "      <th>0</th>\n",
       "      <td>O</td>\n",
       "      <td>-0.488498</td>\n",
       "      <td>-0.486030</td>\n",
       "      <td>-0.478492</td>\n",
       "      <td>-0.466675</td>\n",
       "      <td>-0.451710</td>\n",
       "      <td>-0.435256</td>\n",
       "      <td>-0.419066</td>\n",
       "      <td>-0.404499</td>\n",
       "      <td>-0.392232</td>\n",
       "      <td>-0.382468</td>\n",
       "      <td>-0.374111</td>\n",
       "      <td>0.114387</td>\n",
       "    </tr>\n",
       "    <tr>\n",
       "      <th>1</th>\n",
       "      <td>I ion</td>\n",
       "      <td>-0.835791</td>\n",
       "      <td>-0.836559</td>\n",
       "      <td>-0.839716</td>\n",
       "      <td>-0.845764</td>\n",
       "      <td>-0.854731</td>\n",
       "      <td>-0.865886</td>\n",
       "      <td>-0.878320</td>\n",
       "      <td>-0.891311</td>\n",
       "      <td>-0.904381</td>\n",
       "      <td>-0.917164</td>\n",
       "      <td>-0.929430</td>\n",
       "      <td>-0.093640</td>\n",
       "    </tr>\n",
       "    <tr>\n",
       "      <th>2</th>\n",
       "      <td>Cl</td>\n",
       "      <td>0.054022</td>\n",
       "      <td>0.054554</td>\n",
       "      <td>0.056128</td>\n",
       "      <td>0.058445</td>\n",
       "      <td>0.061316</td>\n",
       "      <td>0.064565</td>\n",
       "      <td>0.068007</td>\n",
       "      <td>0.071425</td>\n",
       "      <td>0.074578</td>\n",
       "      <td>0.077236</td>\n",
       "      <td>0.079258</td>\n",
       "      <td>0.025236</td>\n",
       "    </tr>\n",
       "    <tr>\n",
       "      <th>3</th>\n",
       "      <td>H</td>\n",
       "      <td>0.270267</td>\n",
       "      <td>0.268034</td>\n",
       "      <td>0.262080</td>\n",
       "      <td>0.253994</td>\n",
       "      <td>0.245126</td>\n",
       "      <td>0.236577</td>\n",
       "      <td>0.229379</td>\n",
       "      <td>0.224385</td>\n",
       "      <td>0.222036</td>\n",
       "      <td>0.222396</td>\n",
       "      <td>0.224284</td>\n",
       "      <td>-0.045983</td>\n",
       "    </tr>\n",
       "  </tbody>\n",
       "</table>\n",
       "</div>"
      ],
      "text/plain": [
       "    Atom         0         5        10        15        20        25  \\\n",
       "0      O -0.488498 -0.486030 -0.478492 -0.466675 -0.451710 -0.435256   \n",
       "1  I ion -0.835791 -0.836559 -0.839716 -0.845764 -0.854731 -0.865886   \n",
       "2     Cl  0.054022  0.054554  0.056128  0.058445  0.061316  0.064565   \n",
       "3      H  0.270267  0.268034  0.262080  0.253994  0.245126  0.236577   \n",
       "\n",
       "         30        35        40        45        50  total change  \n",
       "0 -0.419066 -0.404499 -0.392232 -0.382468 -0.374111      0.114387  \n",
       "1 -0.878320 -0.891311 -0.904381 -0.917164 -0.929430     -0.093640  \n",
       "2  0.068007  0.071425  0.074578  0.077236  0.079258      0.025236  \n",
       "3  0.229379  0.224385  0.222036  0.222396  0.224284     -0.045983  "
      ]
     },
     "execution_count": 30,
     "metadata": {},
     "output_type": "execute_result"
    }
   ],
   "source": [
    "ihocl_mull_df"
   ]
  },
  {
   "cell_type": "markdown",
   "id": "df8c83f1-7723-4b5e-8da1-f029d9228e46",
   "metadata": {},
   "source": [
    "## Combined Mulliken Charges"
   ]
  },
  {
   "cell_type": "code",
   "execution_count": 31,
   "id": "164fadbb-4fa5-414d-90a2-8e405a0c728f",
   "metadata": {},
   "outputs": [],
   "source": [
    "mull_data = [['O'], ['X'], ['Cl'], ['H']]\n",
    "for i in range(len(mull_data)):\n",
    "    mull_data[i].append(clhocl.mullikens[:,i][-1]-clhocl.mullikens[:,i][0])\n",
    "    mull_data[i].append(brhocl.mullikens[:,i][-1]-brhocl.mullikens[:,i][0])\n",
    "    mull_data[i].append(ihocl.mullikens[:,i][-1]-ihocl.mullikens[:,i][0])\n",
    "\n",
    "mull_df = pd.DataFrame(mull_data, columns = ['Atom', 'change ClHOCl', 'change BrHOCl', 'change IHOCl'])"
   ]
  },
  {
   "cell_type": "code",
   "execution_count": 32,
   "id": "6b40c5ba-bfd2-47ee-8513-2ea4ef4c5566",
   "metadata": {},
   "outputs": [
    {
     "data": {
      "text/html": [
       "<div>\n",
       "<style scoped>\n",
       "    .dataframe tbody tr th:only-of-type {\n",
       "        vertical-align: middle;\n",
       "    }\n",
       "\n",
       "    .dataframe tbody tr th {\n",
       "        vertical-align: top;\n",
       "    }\n",
       "\n",
       "    .dataframe thead th {\n",
       "        text-align: right;\n",
       "    }\n",
       "</style>\n",
       "<table border=\"1\" class=\"dataframe\">\n",
       "  <thead>\n",
       "    <tr style=\"text-align: right;\">\n",
       "      <th></th>\n",
       "      <th>Atom</th>\n",
       "      <th>change ClHOCl</th>\n",
       "      <th>change BrHOCl</th>\n",
       "      <th>change IHOCl</th>\n",
       "    </tr>\n",
       "  </thead>\n",
       "  <tbody>\n",
       "    <tr>\n",
       "      <th>0</th>\n",
       "      <td>O</td>\n",
       "      <td>0.126538</td>\n",
       "      <td>0.119756</td>\n",
       "      <td>0.114387</td>\n",
       "    </tr>\n",
       "    <tr>\n",
       "      <th>1</th>\n",
       "      <td>X</td>\n",
       "      <td>-0.106015</td>\n",
       "      <td>-0.089176</td>\n",
       "      <td>-0.093640</td>\n",
       "    </tr>\n",
       "    <tr>\n",
       "      <th>2</th>\n",
       "      <td>Cl</td>\n",
       "      <td>0.034558</td>\n",
       "      <td>0.027282</td>\n",
       "      <td>0.025236</td>\n",
       "    </tr>\n",
       "    <tr>\n",
       "      <th>3</th>\n",
       "      <td>H</td>\n",
       "      <td>-0.055080</td>\n",
       "      <td>-0.057863</td>\n",
       "      <td>-0.045983</td>\n",
       "    </tr>\n",
       "  </tbody>\n",
       "</table>\n",
       "</div>"
      ],
      "text/plain": [
       "  Atom  change ClHOCl  change BrHOCl  change IHOCl\n",
       "0    O       0.126538       0.119756      0.114387\n",
       "1    X      -0.106015      -0.089176     -0.093640\n",
       "2   Cl       0.034558       0.027282      0.025236\n",
       "3    H      -0.055080      -0.057863     -0.045983"
      ]
     },
     "execution_count": 32,
     "metadata": {},
     "output_type": "execute_result"
    }
   ],
   "source": [
    "mull_df"
   ]
  },
  {
   "cell_type": "markdown",
   "id": "e6a39b13-2c75-4cba-be1b-6b46dbdb2bc0",
   "metadata": {},
   "source": [
    "# Natural Charges:"
   ]
  },
  {
   "cell_type": "code",
   "execution_count": 33,
   "id": "1dd70a2a-ab24-4e51-94be-77804897091d",
   "metadata": {},
   "outputs": [],
   "source": [
    "with open('clhocl/natural_charges.txt', 'r') as f:\n",
    "    lines = f.readlines()\n",
    "    split = []\n",
    "    for line in lines:\n",
    "        split.append(line.split())"
   ]
  },
  {
   "cell_type": "code",
   "execution_count": 13,
   "id": "c9c01eda-c20d-4ec1-91b2-f9036db468fb",
   "metadata": {},
   "outputs": [],
   "source": [
    "def pull_charges(file, rearrange=False):\n",
    "    split = []\n",
    "    with open(file, 'r') as f:\n",
    "        lines = f.readlines()\n",
    "        for line in lines:\n",
    "            split.append(line.split())\n",
    "        \n",
    "    d = {}\n",
    "\n",
    "    for line in split:\n",
    "        #print(line)\n",
    "        if len(line) < 2:\n",
    "            continue\n",
    "        if line[1] in ['O', 'Br', 'Cl', 'I', 'H']:\n",
    "            head = line[0].split('_')\n",
    "            for h in head:\n",
    "                if h.isdigit():\n",
    "                    key = h + \"-\" + line[1]\n",
    "            #key = line[0].split('_')[1] + \"-\" + line[1]\n",
    "            #print(key)\n",
    "            if key in d:\n",
    "                key = key + \"_1\"\n",
    "            d[key] = line[3]\n",
    "\n",
    "    n_d = {}\n",
    "    for key in d:\n",
    "        s = key.split('-')\n",
    "        if s[0] in n_d:\n",
    "            n_d[s[0]].append(d[key])\n",
    "        else:\n",
    "            n_d[s[0]] = [d[key]]\n",
    "    for key in n_d:\n",
    "        n_d[key] = np.array(n_d[key])\n",
    "    #print(n_d)\n",
    "    l = []\n",
    "    keys = list(n_d.keys())\n",
    "    if rearrange:\n",
    "        keys.insert(1, keys.pop(-1)) \n",
    "    for k in keys:\n",
    "        l.append(n_d[k])\n",
    "    return np.asarray(l, dtype=float)\n",
    "        \n",
    "    \n",
    "        "
   ]
  },
  {
   "cell_type": "code",
   "execution_count": 14,
   "id": "c6e51701-a6cb-47d7-bac0-b8600959f05c",
   "metadata": {},
   "outputs": [],
   "source": [
    "clhocl_oop_nbo = pull_charges('oop_s_rOH_opt/clhocl/natural_charges.txt', rearrange=True)\n",
    "#ihocl_nbo = pull_charges('oop_s_rOH_opt/ihocl/natural_charges.txt', rearrange=True)\n",
    "brhocl_oop_nbo = pull_charges('oop_s_rOH_opt/brhocl/natural_charges.txt', rearrange=True)\n",
    "brhocl_oop_pp_nbo = pull_charges('oop_s_rOH_opt/brhocl_pp/natural_charges.txt', rearrange=True)\n",
    "\n"
   ]
  },
  {
   "cell_type": "code",
   "execution_count": 15,
   "id": "aaa4bbf3-23fb-477d-bcae-9ab42ae8707f",
   "metadata": {},
   "outputs": [
    {
     "data": {
      "text/plain": [
       "array([0.16759, 0.16612, 0.16398, 0.16113, 0.15751, 0.15308, 0.14785,\n",
       "       0.14188, 0.13526, 0.12812, 0.12058, 0.11274, 0.10466, 0.09649,\n",
       "       0.08816, 0.07988])"
      ]
     },
     "execution_count": 15,
     "metadata": {},
     "output_type": "execute_result"
    }
   ],
   "source": [
    "clhocl_rOH_nbo[:,1]"
   ]
  },
  {
   "cell_type": "code",
   "execution_count": 18,
   "id": "7c96cd5e-8465-4b21-b3c7-ec0fa0496539",
   "metadata": {
    "tags": []
   },
   "outputs": [
    {
     "data": {
      "application/vnd.jupyter.widget-view+json": {
       "model_id": "0ad8b815414241c4871dab922470a87a",
       "version_major": 2,
       "version_minor": 0
      },
      "text/plain": [
       "Canvas(toolbar=Toolbar(toolitems=[('Home', 'Reset original view', 'home', 'home'), ('Back', 'Back to previous …"
      ]
     },
     "metadata": {},
     "output_type": "display_data"
    }
   ],
   "source": [
    "%matplotlib widget\n",
    "figs, axs = plt.subplots(4, 3, sharex=True)\n",
    "\n",
    "\n",
    "oop = np.arange(0,55,5)\n",
    "axs[0,0].scatter(oop, clhocl.mullikens[:,0], label=\"X=O\", color='green', marker='.')\n",
    "axs[1,0].scatter(oop, clhocl.mullikens[:,1], label=\"X=Cl\", color='green', marker='.')\n",
    "axs[2,0].scatter(oop, clhocl.mullikens[:,2], label=\"X=Cl\", color='green', marker='.')\n",
    "axs[3,0].scatter(oop, clhocl.mullikens[:,3], label=\"X=H\", color='green', marker='.')\n",
    "\n",
    "axs[0,0].scatter(oop, brhocl.mullikens[:,0], label=\"X=O\", color='maroon', marker='v')\n",
    "axs[1,0].scatter(oop, brhocl.mullikens[:,1], label=\"X=Br\", color='maroon', marker='v')\n",
    "axs[2,0].scatter(oop, brhocl.mullikens[:,2], label=\"X=Cl\", color='maroon', marker='v')\n",
    "axs[3,0].scatter(oop, brhocl.mullikens[:,3], label=\"X=H\", color='maroon', marker='v')\n",
    "\n",
    "axs[0,0].scatter(oop, ihocl.mullikens[:,0], label=\"X=O\", color='purple', marker='x')\n",
    "axs[1,0].scatter(oop, ihocl.mullikens[:,1], label=\"X=I\", color='purple', marker='x')\n",
    "axs[2,0].scatter(oop, ihocl.mullikens[:,2], label=\"X=Cl\", color='purple', marker='x')\n",
    "axs[3,0].scatter(oop, ihocl.mullikens[:,3], label=\"X=H\", color='purple', marker='x')\n",
    "\n",
    "axs[0,1].scatter(oop, clhocl.mullikens[:,0], label=\"X=O\", color='green', marker='.')\n",
    "axs[1,1].scatter(oop, clhocl.mullikens[:,1], label=\"X=Cl\", color='green', marker='.')\n",
    "axs[2,1].scatter(oop, clhocl.mullikens[:,2], label=\"X=Cl\", color='green', marker='.')\n",
    "axs[3,1].scatter(oop, clhocl.mullikens[:,3], label=\"X=H\", color='green', marker='.')\n",
    "\n",
    "axs[0,1].scatter(oop, brhocl_pp.mullikens[:,0], label=\"X=O\", color='maroon', marker='v')\n",
    "axs[1,1].scatter(oop, brhocl_pp.mullikens[:,1], label=\"X=Br\", color='maroon', marker='v')\n",
    "axs[2,1].scatter(oop, brhocl_pp.mullikens[:,2], label=\"X=Cl\", color='maroon', marker='v')\n",
    "axs[3,1].scatter(oop, brhocl_pp.mullikens[:,3], label=\"X=H\", color='maroon', marker='v')\n",
    "\n",
    "axs[0,1].scatter(oop, ihocl.mullikens[:,0], label=\"X=O\", color='purple', marker='x')\n",
    "axs[1,1].scatter(oop, ihocl.mullikens[:,1], label=\"X=I\", color='purple', marker='x')\n",
    "axs[2,1].scatter(oop, ihocl.mullikens[:,2], label=\"X=Cl\", color='purple', marker='x')\n",
    "axs[3,1].scatter(oop, ihocl.mullikens[:,3], label=\"X=H\", color='purple', marker='x')\n",
    "\n",
    "axs[0,2].scatter(oop, clhocl_nbo[:,0], label=\"X=O\", color='green', marker='.')\n",
    "axs[1,2].scatter(oop, clhocl_nbo[:,1], label=\"X=Cl\", color='green', marker='.')\n",
    "axs[2,2].scatter(oop, clhocl_nbo[:,2], label=\"X=Cl\", color='green', marker='.')\n",
    "axs[3,2].scatter(oop, clhocl_nbo[:,3], label=\"X=H\", color='green', marker='.')\n",
    "\n",
    "axs[0,2].scatter(oop, brhocl_nbo[:,0], label=\"X=O\", color='maroon', marker='v')\n",
    "axs[1,2].scatter(oop, brhocl_nbo[:,1], label=\"X=Br\", color='maroon', marker='v')\n",
    "axs[2,2].scatter(oop, brhocl_nbo[:,2], label=\"X=Cl\", color='maroon', marker='v')\n",
    "axs[3,2].scatter(oop, brhocl_nbo[:,3], label=\"X=H\", color='maroon', marker='v')\n",
    "\n",
    "axs[0,2].scatter(oop, ihocl_nbo[:,0], label=\"X=O\", color='purple', marker='x')\n",
    "axs[1,2].scatter(oop, ihocl_nbo[:,1], label=\"X=I\", color='purple', marker='x')\n",
    "axs[2,2].scatter(oop, ihocl_nbo[:,2], label=\"X=Cl\", color='purple', marker='x')\n",
    "axs[3,2].scatter(oop, ihocl_nbo[:,3], label=\"X=H\", color='purple', marker='x')\n",
    "\n",
    "\"\"\"axs[0].get_shared_y_axes().join(axs[0,0], axs[0,1], axs[0,2])\n",
    "axs[1].get_shared_y_axes().join(axs[1,0], axs[1,1], axs[1,2])\n",
    "axs[2].get_shared_y_axes().join(axs[2,0], axs[2,1], axs[2,2])\n",
    "axs[3].get_shared_y_axes().join(axs[3,0], axs[3,1], axs[3,2])\"\"\"\n",
    "\n",
    "for a in axs:\n",
    "    for b in a:\n",
    "        b.legend(loc='best')\n",
    "        \n",
    "\"\"\"axs[0,0].set_title(\"ClHOCl\")\n",
    "axs[0,1].set_title(\"BrHOCl\")\n",
    "axs[0,2].set_title(\"IHOCl\")\"\"\"\n",
    "\n",
    "axs[0,0].set_ylabel(\"O charge\")\n",
    "axs[1,0].set_ylabel(\"X charge\")\n",
    "axs[2,0].set_ylabel(\"Cl charge\")\n",
    "axs[3,0].set_ylabel(\"H charge\")\n",
    "\n",
    "axs[0,0].set_title(\"Mulliken tz\")\n",
    "axs[0,1].set_title(\"Mulliken pp\")\n",
    "axs[0,2].set_title(\"NBO tz\")\n",
    "\n",
    "\n",
    "\n",
    "fig.subplots_adjust(wspace = 0, hspace = 0)\n",
    "#fig.set_size_inches(w=6,h=8.5)\n",
    "        \n",
    "plt.tight_layout()\n",
    "\n",
    "plt.savefig('Mulliken_charges.pdf')\n"
   ]
  },
  {
   "cell_type": "code",
   "execution_count": 19,
   "id": "93a77d4e-6df7-46fb-95ab-af923988c4dd",
   "metadata": {
    "tags": []
   },
   "outputs": [
    {
     "data": {
      "application/vnd.jupyter.widget-view+json": {
       "model_id": "a829c553d0394694a0036eda1fe539fa",
       "version_major": 2,
       "version_minor": 0
      },
      "text/plain": [
       "Canvas(toolbar=Toolbar(toolitems=[('Home', 'Reset original view', 'home', 'home'), ('Back', 'Back to previous …"
      ]
     },
     "metadata": {},
     "output_type": "display_data"
    }
   ],
   "source": [
    "%matplotlib widget\n",
    "fig, axs = plt.subplots(4, 3, sharex=True)\n",
    "\n",
    "\n",
    "oop = np.arange(0,55,5)\n",
    "axs[0,0].scatter(oop, clhocl_nbo[:,0], label=\"X=Cl\", color='green', marker='.')\n",
    "axs[1,0].scatter(oop, clhocl_nbo[:,1], label=\"X=Cl\", color='green', marker='.')\n",
    "axs[2,0].scatter(oop, clhocl_nbo[:,2], label=\"X=Cl\", color='green', marker='.')\n",
    "axs[3,0].scatter(oop, clhocl_nbo[:,3], label=\"X=Cl\", color='green', marker='.')\n",
    "\n",
    "axs[0,0].scatter(oop, brhocl_nbo[:,0], label=\"X=Br\", color='maroon', marker='v')\n",
    "axs[1,0].scatter(oop, brhocl_nbo[:,1], label=\"X=Br\", color='maroon', marker='v')\n",
    "axs[2,0].scatter(oop, brhocl_nbo[:,2], label=\"X=Br\", color='maroon', marker='v')\n",
    "axs[3,0].scatter(oop, brhocl_nbo[:,3], label=\"X=Br\", color='maroon', marker='v')\n",
    "\n",
    "axs[0,0].scatter(oop, ihocl_nbo[:,0], label=\"X=I\", color='purple', marker='x')\n",
    "axs[1,0].scatter(oop, ihocl_nbo[:,1], label=\"X=I\", color='purple', marker='x')\n",
    "axs[2,0].scatter(oop, ihocl_nbo[:,2], label=\"X=I\", color='purple', marker='x')\n",
    "axs[3,0].scatter(oop, ihocl_nbo[:,3], label=\"X=I\", color='purple', marker='x')\n",
    "\n",
    "axs[0,1].scatter(oop, clhocl_nbo[:,0], label=\"X=Cl\", color='green', marker='.')\n",
    "axs[1,1].scatter(oop, clhocl_nbo[:,1], label=\"X=Cl\", color='green', marker='.')\n",
    "axs[2,1].scatter(oop, clhocl_nbo[:,2], label=\"X=Cl\", color='green', marker='.')\n",
    "axs[3,1].scatter(oop, clhocl_nbo[:,3], label=\"X=Cl\", color='green', marker='.')\n",
    "\n",
    "axs[0,1].scatter(oop, brhocl_pp_nbo[:,0], label=\"X=Br\", color='maroon', marker='v')\n",
    "axs[1,1].scatter(oop, brhocl_pp_nbo[:,1], label=\"X=Br\", color='maroon', marker='v')\n",
    "axs[2,1].scatter(oop, brhocl_pp_nbo[:,2], label=\"X=Br\", color='maroon', marker='v')\n",
    "axs[3,1].scatter(oop, brhocl_pp_nbo[:,3], label=\"X=Br\", color='maroon', marker='v')\n",
    "\n",
    "axs[0,1].scatter(oop, ihocl_nbo[:,0], label=\"X=I\", color='purple', marker='x')\n",
    "axs[1,1].scatter(oop, ihocl_nbo[:,1], label=\"X=I\", color='purple', marker='x')\n",
    "axs[2,1].scatter(oop, ihocl_nbo[:,2], label=\"X=I\", color='purple', marker='x')\n",
    "axs[3,1].scatter(oop, ihocl_nbo[:,3], label=\"X=I\", color='purple', marker='x')\n",
    "\n",
    "axs[0,2].scatter(oop, brhocl_pp_nbo[:,0] - brhocl_nbo[:,0], label=\"X=Br\", color='maroon', marker='v')\n",
    "axs[1,2].scatter(oop, brhocl_pp_nbo[:,1] - brhocl_nbo[:,1], label=\"X=Br\", color='maroon', marker='v')\n",
    "axs[2,2].scatter(oop, brhocl_pp_nbo[:,2] - brhocl_nbo[:,2], label=\"X=Br\", color='maroon', marker='v')\n",
    "axs[3,2].scatter(oop, brhocl_pp_nbo[:,3] - brhocl_nbo[:,3], label=\"X=Br\", color='maroon', marker='v')\n",
    "\n",
    "\"\"\"axs[0].get_shared_y_axes().join(axs[0,0], axs[0,1], axs[0,2])\n",
    "axs[1].get_shared_y_axes().join(axs[1,0], axs[1,1], axs[1,2])\n",
    "axs[2].get_shared_y_axes().join(axs[2,0], axs[2,1], axs[2,2])\n",
    "axs[3].get_shared_y_axes().join(axs[3,0], axs[3,1], axs[3,2])\"\"\"\n",
    "\n",
    "for a in axs:\n",
    "    for b in a:\n",
    "        b.legend(loc='best')\n",
    "        \n",
    "\"\"\"axs[0,0].set_title(\"ClHOCl\")\n",
    "axs[0,1].set_title(\"BrHOCl\")\n",
    "axs[0,2].set_title(\"IHOCl\")\"\"\"\n",
    "\n",
    "for a in axs[0,:]:\n",
    "    a.set_ylabel(\"O charge\")\n",
    "for a in axs[1,:]:\n",
    "    a.set_ylabel(\"X charge\")\n",
    "for a in axs[2,:]:\n",
    "    a.set_ylabel(\"Cl charge\")\n",
    "for a in axs[3,:]:\n",
    "    a.set_ylabel(\"H charge\")\n",
    "\n",
    "\n",
    "axs[0,0].set_title(\"NBO tz\")\n",
    "axs[0,1].set_title(\"NBO pp\")\n",
    "axs[0,2].set_title(\"Br pp-tz\")\n",
    "\n",
    "\n",
    "\n",
    "fig.subplots_adjust(wspace = 0, hspace = 0)\n",
    "fig.set_size_inches(w=10,h=10)\n",
    "        \n",
    "plt.tight_layout()\n",
    "\n",
    "plt.savefig('NBO_charges.pdf')\n"
   ]
  },
  {
   "cell_type": "code",
   "execution_count": 81,
   "id": "3d9cd983-3c74-4cc0-aaf7-0b56af1365a0",
   "metadata": {
    "tags": []
   },
   "outputs": [
    {
     "data": {
      "image/png": "[encoded data removed]",
      "text/plain": [
       "<Figure size 288x612 with 4 Axes>"
      ]
     },
     "metadata": {
      "needs_background": "light"
     },
     "output_type": "display_data"
    }
   ],
   "source": [
    "%matplotlib inline\n",
    "fig, axs = plt.subplots(4, 1, sharex=True)\n",
    "\n",
    "\n",
    "oop = np.arange(0,55,5)\n",
    "axs[0].scatter(oop, clhocl_nbo[:,0], label=\"X=Cl\", color='green', marker='.')\n",
    "axs[1].scatter(oop, clhocl_nbo[:,1], label=\"X=Cl\", color='green', marker='.')\n",
    "axs[2].scatter(oop, clhocl_nbo[:,2], label=\"X=Cl\", color='green', marker='.')\n",
    "axs[3].scatter(oop, clhocl_nbo[:,3], label=\"X=Cl\", color='green', marker='.')\n",
    "\n",
    "axs[0].scatter(oop, brhocl_nbo[:,0], label=\"X=Br\", color='maroon', marker='v')\n",
    "axs[1].scatter(oop, brhocl_nbo[:,1], label=\"X=Br\", color='maroon', marker='v')\n",
    "axs[2].scatter(oop, brhocl_nbo[:,2], label=\"X=Br\", color='maroon', marker='v')\n",
    "axs[3].scatter(oop, brhocl_nbo[:,3], label=\"X=Br\", color='maroon', marker='v')\n",
    "\n",
    "axs[0].scatter(oop, ihocl_nbo[:,0], label=\"X=I\", color='purple', marker='x')\n",
    "axs[1].scatter(oop, ihocl_nbo[:,1], label=\"X=I\", color='purple', marker='x')\n",
    "axs[2].scatter(oop, ihocl_nbo[:,2], label=\"X=I\", color='purple', marker='x')\n",
    "axs[3].scatter(oop, ihocl_nbo[:,3], label=\"X=I\", color='purple', marker='x')\n",
    "\n",
    "\n",
    "for a in axs:\n",
    "    a.legend(loc='best')\n",
    "        \n",
    "#axs[0].set_title(\"NBO tz\")\n",
    "axs[0].set_ylabel(\"Partial Charge on O\", fontsize=12)\n",
    "axs[1].set_ylabel(\"Partial Charge on X\", fontsize=12)\n",
    "axs[2].set_ylabel(\"Partial Charge on Cl\", fontsize=12)\n",
    "axs[3].set_ylabel(\"Partial Charge on H\", fontsize=12)\n",
    "\n",
    "axs[3].set_xlabel(r'$\\theta_{oop}$ (deg)', fontsize=16)\n",
    "\n",
    "\n",
    "fig.subplots_adjust(wspace = 0, hspace = 0)\n",
    "fig.set_size_inches(w=4,h=8.5)\n",
    "        \n",
    "plt.tight_layout()\n",
    "\n",
    "plt.savefig('natural_charges.pdf')\n"
   ]
  },
  {
   "cell_type": "code",
   "execution_count": 19,
   "id": "983b9ec7-ce9e-47b4-8b0c-4482b00544db",
   "metadata": {},
   "outputs": [
    {
     "data": {
      "text/plain": [
       "(16,)"
      ]
     },
     "execution_count": 19,
     "metadata": {},
     "output_type": "execute_result"
    }
   ],
   "source": [
    "clhocl_rOH_nbo[:,0].shape"
   ]
  },
  {
   "cell_type": "code",
   "execution_count": 21,
   "id": "99919a2f-4948-41bd-8686-8ec7fce1e28e",
   "metadata": {},
   "outputs": [
    {
     "data": {
      "text/plain": [
       "array([0.75])"
      ]
     },
     "execution_count": 21,
     "metadata": {},
     "output_type": "execute_result"
    }
   ],
   "source": [
    "np.arange(0.75,1.55,5)"
   ]
  },
  {
   "cell_type": "code",
   "execution_count": 35,
   "id": "29b32e7c-ef95-4dcc-acaa-4c14da600d6c",
   "metadata": {
    "tags": []
   },
   "outputs": [
    {
     "data": {
      "image/png": "[encoded data removed]",
      "text/plain": [
       "<Figure size 288x612 with 4 Axes>"
      ]
     },
     "metadata": {
      "needs_background": "light"
     },
     "output_type": "display_data"
    }
   ],
   "source": [
    "%matplotlib inline\n",
    "fig, axs = plt.subplots(4, 1, sharex=True)\n",
    "\n",
    "\n",
    "oop = np.arange(0.75,1.55,0.05)\n",
    "axs[0].scatter(oop, clhocl_rOH_nbo[:,0], label=\"ClHOCl\", color='green', marker='.')\n",
    "axs[1].scatter(oop, clhocl_rOH_nbo[:,1], label=\"ClHOCl\", color='green', marker='.')\n",
    "axs[2].scatter(oop, clhocl_rOH_nbo[:,2], label=\"ClHOCl\", color='green', marker='.')\n",
    "axs[3].scatter(oop, clhocl_rOH_nbo[:,3], label=\"ClHOCl\", color='green', marker='.')\n",
    "\n",
    "axs[0].scatter(oop, clhod_rOH_nbo[:,0], label=\"ClHOD\", color='blue', marker='v')\n",
    "axs[1].scatter(oop, clhod_rOH_nbo[:,1], label=\"ClHOD\", color='blue', marker='v')\n",
    "axs[2].scatter(oop, clhod_rOH_nbo[:,2], label=\"ClHOD\", color='blue', marker='v')\n",
    "axs[3].scatter(oop, clhod_rOH_nbo[:,3], label=\"ClHOD\", color='blue', marker='v')\n",
    "\n",
    "\n",
    "for a in axs:\n",
    "    a.legend(loc='best')\n",
    "        \n",
    "#axs[0].set_title(\"NBO tz\")\n",
    "axs[0].set_ylabel(\"Partial Charge on O\", fontsize=12)\n",
    "axs[1].set_ylabel(\"Partial Charge on Cl or D\", fontsize=12)\n",
    "axs[2].set_ylabel(\"Partial Charge on Cl\", fontsize=12)\n",
    "axs[3].set_ylabel(\"Partial Charge on H\", fontsize=12)\n",
    "\n",
    "axs[3].set_xlabel(r'$r_{OH}$ ($\\AA$)', fontsize=16)\n",
    "\n",
    "\n",
    "fig.subplots_adjust(wspace = 0, hspace = 0)\n",
    "fig.set_size_inches(w=4,h=8.5)\n",
    "        \n",
    "plt.tight_layout()\n",
    "\n",
    "plt.savefig('natural_charges_clhocl_v_clhod.pdf')\n"
   ]
  },
  {
   "cell_type": "markdown",
   "id": "325605cc-08f9-495c-a3fc-d5e06663b0a8",
   "metadata": {},
   "source": [
    "jcpb paper, can you undertsand intenstity by looking at how PT expansion plays in\n",
    "if I excite a vibration, how does the coupling change, and how is that shown in the spectroscopy\n",
    "\n",
    "we have with marks code a way to extract insights\n",
    "\n",
    "marks v standard...\n",
    "interesting questions\n",
    "\n",
    "PT-\n",
    "    - OO distance, structural changes, excitation in dofs\n",
    "    - trace back to terms...where is it coming from?\n",
    "    - how can you think about the mechanisms\n",
    "    - chem review markland 25-29 nuclear quantum effects of water in aqueous systems, theory and current challenges\n",
    "    \n",
    "science cs water 20 \"pg 265 2019\"\n",
    "\n",
    "reading on NBO"
   ]
  },
  {
   "cell_type": "markdown",
   "id": "00ad766a-0c72-4ff8-b35d-07172b91634c",
   "metadata": {},
   "source": [
    "# Whats the plan?"
   ]
  },
  {
   "cell_type": "markdown",
   "id": "15487348-3b07-4512-992b-a0c35c348988",
   "metadata": {},
   "source": [
    "- oop scan for XHOD\n",
    "- r_OH for planar XHOCl and XHOD\n",
    "    - scan up to 5000-7500 cm, 0.75-1.35 with 0.05 steps\n",
    "- oop scans with rigid rOH\n",
    "    - start with HOCl by itself, optimize, then add in x and optiize rOH with fixed HOCl parameters\n",
    "    - then run a scan changing oop with the optimized rOH"
   ]
  },
  {
   "cell_type": "markdown",
   "id": "ea3ba07b-de2e-4ea3-a1e9-4714c3ed8cb3",
   "metadata": {},
   "source": [
    "# Planar Geometry: scalling along rOH"
   ]
  },
  {
   "cell_type": "code",
   "execution_count": 98,
   "id": "a4a7eac1-9968-420c-8e20-34ed5cf56ecd",
   "metadata": {},
   "outputs": [],
   "source": [
    "clhocl_rOH_nbo = pull_charges('rOH_s_oop_0/clhocl/natural_charges.txt')\n",
    "clhod_rOH_nbo = pull_charges('rOH_s_oop_0/clhod/natural_charges.txt')\n",
    "brhocl_rOH_nbo = pull_charges('rOH_s_oop_0/brhocl/natural_charges.txt')\n",
    "brhod_rOH_nbo = pull_charges('rOH_s_oop_0/brhod/natural_charges.txt')\n",
    "brhod_pp_rOH_nbo = pull_charges('rOH_s_oop_0/brhod_pp/natural_charges.txt')\n",
    "ihocl_rOH_nbo = pull_charges('rOH_s_oop_0/ihocl/natural_charges.txt')\n",
    "ihod_rOH_nbo = pull_charges('rOH_s_oop_0/ihod/natural_charges.txt')"
   ]
  },
  {
   "cell_type": "code",
   "execution_count": 99,
   "id": "dcf4876a-d35a-49cb-ae2e-fab694a4f58b",
   "metadata": {
    "tags": []
   },
   "outputs": [
    {
     "data": {
      "image/png": "[encoded data removed]",
      "text/plain": [
       "<Figure size 720x612 with 12 Axes>"
      ]
     },
     "metadata": {
      "needs_background": "light"
     },
     "output_type": "display_data"
    }
   ],
   "source": [
    "%matplotlib inline\n",
    "fig, axs = plt.subplots(4, 3, sharex=True)\n",
    "\n",
    "\n",
    "oop = np.arange(0.75,1.55,0.05)\n",
    "axs[0,0].scatter(oop, clhocl_rOH_nbo[:,0], label=\"ClHOCl\", color='#268D45', marker='.')\n",
    "axs[1,0].scatter(oop, clhocl_rOH_nbo[:,1], label=\"ClHOCl\", color='#268D45', marker='.')\n",
    "axs[2,0].scatter(oop, clhocl_rOH_nbo[:,2], label=\"ClHOCl\", color='#268D45', marker='.')\n",
    "axs[3,0].scatter(oop, clhocl_rOH_nbo[:,3], label=\"ClHOCl\", color='#268D45', marker='.')\n",
    "\n",
    "axs[0,0].scatter(oop, clhod_rOH_nbo[:,0], label=\"ClHOD\", color='#37D266', marker='v')\n",
    "axs[1,0].scatter(oop, clhod_rOH_nbo[:,1], label=\"ClHOD\", color='#37D266', marker='v')\n",
    "axs[2,0].scatter(oop, clhod_rOH_nbo[:,2], label=\"ClHOD\", color='#37D266', marker='v')\n",
    "axs[3,0].scatter(oop, clhod_rOH_nbo[:,3], label=\"ClHOD\", color='#37D266', marker='v')\n",
    "\n",
    "axs[0,1].scatter(oop, brhocl_rOH_nbo[:,0], label=\"BrHOCl\", color='#A42D2D', marker='.')\n",
    "axs[1,1].scatter(oop, brhocl_rOH_nbo[:,1], label=\"BrHOCl\", color='#A42D2D', marker='.')\n",
    "axs[2,1].scatter(oop, brhocl_rOH_nbo[:,2], label=\"BrHOCl\", color='#A42D2D', marker='.')\n",
    "axs[3,1].scatter(oop, brhocl_rOH_nbo[:,3], label=\"BrHOCl\", color='#A42D2D', marker='.')\n",
    "\n",
    "axs[0,1].scatter(oop, brhod_rOH_nbo[:,0], label=\"BrHOD\", color='#D23939', marker='v')\n",
    "axs[1,1].scatter(oop, brhod_rOH_nbo[:,1], label=\"BrHOD\", color='#D23939', marker='v')\n",
    "axs[2,1].scatter(oop, brhod_rOH_nbo[:,2], label=\"BrHOD\", color='#D23939', marker='v')\n",
    "axs[3,1].scatter(oop, brhod_rOH_nbo[:,3], label=\"BrHOD\", color='#D23939', marker='v')\n",
    "axs[0,1].scatter(oop, brhod_pp_rOH_nbo[:,0], label=\"BrHOD_pp\", color='black', marker='v')\n",
    "axs[1,1].scatter(oop, brhod_pp_rOH_nbo[:,1], label=\"BrHOD_pp\", color='black', marker='v')\n",
    "axs[2,1].scatter(oop, brhod_pp_rOH_nbo[:,2], label=\"BrHOD_pp\", color='black', marker='v')\n",
    "axs[3,1].scatter(oop, brhod_pp_rOH_nbo[:,3], label=\"BrHOD_pp\", color='black', marker='v')\n",
    "\n",
    "axs[0,2].scatter(oop, ihocl_rOH_nbo[:,0], label=\"IHOCl\", color='#AE2FA5', marker='.')\n",
    "axs[1,2].scatter(oop, ihocl_rOH_nbo[:,1], label=\"IHOCl\", color='#AE2FA5', marker='.')\n",
    "axs[2,2].scatter(oop, ihocl_rOH_nbo[:,2], label=\"IHOCl\", color='#AE2FA5', marker='.')\n",
    "axs[3,2].scatter(oop, ihocl_rOH_nbo[:,3], label=\"IHOCl\", color='#AE2FA5', marker='.')\n",
    "\n",
    "axs[0,2].scatter(oop, ihod_rOH_nbo[:,0], label=\"IHOD\", color='#E13CD6', marker='v')\n",
    "axs[1,2].scatter(oop, ihod_rOH_nbo[:,1], label=\"IHOD\", color='#E13CD6', marker='v')\n",
    "axs[2,2].scatter(oop, ihod_rOH_nbo[:,2], label=\"IHOD\", color='#E13CD6', marker='v')\n",
    "axs[3,2].scatter(oop, ihod_rOH_nbo[:,3], label=\"IHOD\", color='#E13CD6', marker='v')\n",
    "\n",
    "\n",
    "for ax in axs[0,:]:\n",
    "    ax.set_ylim(-1.5, -0.5)\n",
    "    \n",
    "for ax in axs[1,:]:\n",
    "    ax.set_ylim(0, 0.7)\n",
    "\n",
    "for ax in axs[2,:]:\n",
    "    ax.set_ylim(-1.1, -0.4)\n",
    "\n",
    "for ax in axs[3,:]:\n",
    "    ax.set_ylim(0.1, 0.75)\n",
    "\n",
    "for a in axs:\n",
    "    for b in a:\n",
    "        b.legend(loc='best')\n",
    "        \n",
    "#axs[0,0].set_title(\"NBO tz\")\n",
    "axs[0,0].set_ylabel(\"Partial Charge on O\", fontsize=12)\n",
    "axs[1,0].set_ylabel(\"Partial Charge on Cl or D\", fontsize=12)\n",
    "axs[2,0].set_ylabel(\"Partial Charge on X\", fontsize=12)\n",
    "axs[3,0].set_ylabel(\"Partial Charge on H\", fontsize=12)\n",
    "\n",
    "axs[3,0].set_xlabel(r'$r_{OH}$ ($\\AA$)', fontsize=16)\n",
    "axs[3,1].set_xlabel(r'$r_{OH}$ ($\\AA$)', fontsize=16)\n",
    "axs[3,2].set_xlabel(r'$r_{OH}$ ($\\AA$)', fontsize=16)\n",
    "\n",
    "\n",
    "fig.subplots_adjust(wspace = 0, hspace = 0)\n",
    "fig.set_size_inches(w=10,h=8.5)\n",
    "        \n",
    "plt.tight_layout()\n",
    "\n",
    "plt.savefig('natural_charges_xhocl_v_xhod.pdf')\n"
   ]
  },
  {
   "cell_type": "code",
   "execution_count": 100,
   "id": "15942c57-cdf6-4607-8385-e9eb65c20a8a",
   "metadata": {
    "tags": []
   },
   "outputs": [
    {
     "data": {
      "image/png": "[encoded data removed]",
      "text/plain": [
       "<Figure size 504x612 with 8 Axes>"
      ]
     },
     "metadata": {
      "needs_background": "light"
     },
     "output_type": "display_data"
    }
   ],
   "source": [
    "%matplotlib inline\n",
    "fig, axs = plt.subplots(4, 2, sharex=True)\n",
    "\n",
    "\n",
    "oop = np.arange(0.75,1.55,0.05)\n",
    "axs[0,0].scatter(oop, clhocl_rOH_nbo[:,0], label=\"ClHOCl\", color='#268D45', marker='.')\n",
    "axs[1,0].scatter(oop, clhocl_rOH_nbo[:,1], label=\"ClHOCl\", color='#268D45', marker='.')\n",
    "axs[2,0].scatter(oop, clhocl_rOH_nbo[:,2], label=\"ClHOCl\", color='#268D45', marker='.')\n",
    "axs[3,0].scatter(oop, clhocl_rOH_nbo[:,3], label=\"ClHOCl\", color='#268D45', marker='.')\n",
    "\n",
    "axs[0,1].scatter(oop, clhod_rOH_nbo[:,0], label=\"ClHOD\", color='#37D266', marker='v')\n",
    "axs[1,1].scatter(oop, clhod_rOH_nbo[:,1], label=\"ClHOD\", color='#37D266', marker='v')\n",
    "axs[2,1].scatter(oop, clhod_rOH_nbo[:,2], label=\"ClHOD\", color='#37D266', marker='v')\n",
    "axs[3,1].scatter(oop, clhod_rOH_nbo[:,3], label=\"ClHOD\", color='#37D266', marker='v')\n",
    "\n",
    "axs[0,0].scatter(oop, brhocl_rOH_nbo[:,0], label=\"BrHOCl\", color='#A42D2D', marker='.')\n",
    "axs[1,0].scatter(oop, brhocl_rOH_nbo[:,1], label=\"BrHOCl\", color='#A42D2D', marker='.')\n",
    "axs[2,0].scatter(oop, brhocl_rOH_nbo[:,2], label=\"BrHOCl\", color='#A42D2D', marker='.')\n",
    "axs[3,0].scatter(oop, brhocl_rOH_nbo[:,3], label=\"BrHOCl\", color='#A42D2D', marker='.')\n",
    "\n",
    "axs[0,1].scatter(oop, brhod_rOH_nbo[:,0], label=\"BrHOD\", color='#D23939', marker='v')\n",
    "axs[1,1].scatter(oop, brhod_rOH_nbo[:,1], label=\"BrHOD\", color='#D23939', marker='v')\n",
    "axs[2,1].scatter(oop, brhod_rOH_nbo[:,2], label=\"BrHOD\", color='#D23939', marker='v')\n",
    "axs[3,1].scatter(oop, brhod_rOH_nbo[:,3], label=\"BrHOD\", color='#D23939', marker='v')\n",
    "axs[0,1].scatter(oop, brhod_pp_rOH_nbo[:,0], label=\"BrHOD_pp\", color='black', marker='v')\n",
    "axs[1,1].scatter(oop, brhod_pp_rOH_nbo[:,1], label=\"BrHOD_pp\", color='black', marker='v')\n",
    "axs[2,1].scatter(oop, brhod_pp_rOH_nbo[:,2], label=\"BrHOD_pp\", color='black', marker='v')\n",
    "axs[3,1].scatter(oop, brhod_pp_rOH_nbo[:,3], label=\"BrHOD_pp\", color='black', marker='v')\n",
    "\n",
    "axs[0,0].scatter(oop, ihocl_rOH_nbo[:,0], label=\"IHOCl\", color='#AE2FA5', marker='.')\n",
    "axs[1,0].scatter(oop, ihocl_rOH_nbo[:,1], label=\"IHOCl\", color='#AE2FA5', marker='.')\n",
    "axs[2,0].scatter(oop, ihocl_rOH_nbo[:,2], label=\"IHOCl\", color='#AE2FA5', marker='.')\n",
    "axs[3,0].scatter(oop, ihocl_rOH_nbo[:,3], label=\"IHOCl\", color='#AE2FA5', marker='.')\n",
    "\n",
    "axs[0,1].scatter(oop, ihod_rOH_nbo[:,0], label=\"IHOD\", color='#E13CD6', marker='v')\n",
    "axs[1,1].scatter(oop, ihod_rOH_nbo[:,1], label=\"IHOD\", color='#E13CD6', marker='v')\n",
    "axs[2,1].scatter(oop, ihod_rOH_nbo[:,2], label=\"IHOD\", color='#E13CD6', marker='v')\n",
    "axs[3,1].scatter(oop, ihod_rOH_nbo[:,3], label=\"IHOD\", color='#E13CD6', marker='v')\n",
    "\n",
    "\n",
    "for ax in axs[0,:]:\n",
    "    ax.set_ylim(-1.5, -0.5)\n",
    "    \n",
    "for ax in axs[1,:]:\n",
    "    ax.set_ylim(0, 0.7)\n",
    "\n",
    "for ax in axs[2,:]:\n",
    "    ax.set_ylim(-1.1, -0.4)\n",
    "\n",
    "for ax in axs[3,:]:\n",
    "    ax.set_ylim(0.1, 0.75)\n",
    "\n",
    "for a in axs:\n",
    "    for b in a:\n",
    "        b.legend(loc='best')\n",
    "        \n",
    "#axs[0,0].set_title(\"NBO tz\")\n",
    "axs[0,0].set_ylabel(\"Partial Charge on O\", fontsize=12)\n",
    "axs[1,0].set_ylabel(\"Partial Charge on Cl or D\", fontsize=12)\n",
    "axs[2,0].set_ylabel(\"Partial Charge on X\", fontsize=12)\n",
    "axs[3,0].set_ylabel(\"Partial Charge on H\", fontsize=12)\n",
    "\n",
    "axs[3,0].set_xlabel(r'$r_{OH}$ ($\\AA$)', fontsize=16)\n",
    "axs[3,1].set_xlabel(r'$r_{OH}$ ($\\AA$)', fontsize=16)\n",
    "\n",
    "\n",
    "fig.subplots_adjust(wspace = 0, hspace = 0)\n",
    "fig.set_size_inches(w=7,h=8.5)\n",
    "        \n",
    "plt.tight_layout()\n",
    "\n",
    "plt.savefig('natural_charges_xhocl_v_xhod_version2.pdf')\n"
   ]
  },
  {
   "cell_type": "markdown",
   "id": "2df16a83-4e21-4e05-8fdc-5eb8bbc64172",
   "metadata": {},
   "source": [
    "- Oxygen\n",
    "    - all about the same for XHOD\n",
    "    - much more negative in IHOCl than in ClHOCl and BrHOCl (I less electronegative?)\n",
    "\n",
    "- Cl/D\n",
    "    - D is much more positive on IHOCl than ClHOCl or BrHOCl\n",
    "    "
   ]
  },
  {
   "cell_type": "markdown",
   "id": "ddceb0f5-e071-409c-9ad0-a540563fa13e",
   "metadata": {},
   "source": [
    "1d dvr for OH stretch"
   ]
  },
  {
   "cell_type": "markdown",
   "id": "c2d5681d-9bbe-4687-91a1-bc4e282c9367",
   "metadata": {},
   "source": [
    "- Next steps\n",
    "    - run a 1-d DVR on the OH stretch...see what you get\n",
    "    - try brhod with an effective core potential to see if that is also different\n",
    "    - "
   ]
  },
  {
   "cell_type": "code",
   "execution_count": 75,
   "id": "0088ad35-3a61-42d1-af2b-0eb4018b4b70",
   "metadata": {},
   "outputs": [
    {
     "data": {
      "text/plain": [
       "0.529177210903"
      ]
     },
     "execution_count": 75,
     "metadata": {},
     "output_type": "execute_result"
    }
   ],
   "source": [
    "McData.UnitsData.convert( \"BohrRadius\",\"Angstroms\")"
   ]
  },
  {
   "cell_type": "code",
   "execution_count": 70,
   "id": "cad8552f-5411-4359-91d8-bb4ee09c58b6",
   "metadata": {},
   "outputs": [],
   "source": [
    "#McData.UnitsData.data.keys()"
   ]
  },
  {
   "cell_type": "code",
   "execution_count": 61,
   "id": "89ede1a1-24d2-4c46-9e77-218443347a2b",
   "metadata": {},
   "outputs": [
    {
     "data": {
      "text/plain": [
       "1.8897261246257702"
      ]
     },
     "execution_count": 61,
     "metadata": {},
     "output_type": "execute_result"
    }
   ],
   "source": [
    "McData.UnitsData.data(\"Angstroms\", \"BohrRadius\")"
   ]
  },
  {
   "cell_type": "code",
   "execution_count": 63,
   "id": "1b0caca0-6ae4-44a8-a1f8-8a8efffa7bf4",
   "metadata": {},
   "outputs": [
    {
     "data": {
      "text/plain": [
       "{'Value': 1}"
      ]
     },
     "execution_count": 63,
     "metadata": {},
     "output_type": "execute_result"
    }
   ],
   "source": [
    "McData.UnitsData.data[(\"Angstroms\", \"\")]"
   ]
  },
  {
   "cell_type": "code",
   "execution_count": 74,
   "id": "9faa084e-fd55-457f-9575-374da36bb6dd",
   "metadata": {},
   "outputs": [],
   "source": [
    "aToB = McData.UnitsData.convert(\"Angstroms\", \"BohrRadius\")\n",
    "grid = dvr.Grid((0.75*aToB, 1.5*aToB), 250).grid"
   ]
  },
  {
   "cell_type": "markdown",
   "id": "ad03c75c-6aa2-472c-941a-270dc0ed9fea",
   "metadata": {},
   "source": [
    "# Comparing my ihod with Annes ihoh"
   ]
  },
  {
   "cell_type": "code",
   "execution_count": 86,
   "id": "42b07179-f21a-4ae7-82fb-529a42fdedb2",
   "metadata": {},
   "outputs": [],
   "source": [
    "anne_ihoh = gt.FchkInterpreter(fchks = [\"anne_i_hoh_OHs.fchk\"])"
   ]
  },
  {
   "cell_type": "code",
   "execution_count": 79,
   "id": "467eac80-19a4-472e-9cd6-7f16674ac1c2",
   "metadata": {},
   "outputs": [],
   "source": [
    "ihod = gt.FchkInterpreter(fchks=sorted(glob.glob(\"rOH_s_oop_0/ihod/ihod_rOH*.fchk\")))"
   ]
  },
  {
   "cell_type": "code",
   "execution_count": 80,
   "id": "fd82f734-8910-4ba8-bc20-5ca6fdf93bbc",
   "metadata": {},
   "outputs": [
    {
     "data": {
      "text/plain": [
       "array([-371.23446753, -371.27148797, -371.29439093, -371.30721534,\n",
       "       -371.31288856, -371.31354969, -371.3107758 , -371.30574079,\n",
       "       -371.29932512, -371.29218993, -371.28482622, -371.27758786,\n",
       "       -371.27071464, -371.26435068, -371.25856154, -371.25335156])"
      ]
     },
     "execution_count": 80,
     "metadata": {},
     "output_type": "execute_result"
    }
   ],
   "source": [
    "ihod.MP2Energy"
   ]
  },
  {
   "cell_type": "code",
   "execution_count": null,
   "id": "eb4ea726-bfb6-4f12-816b-677a8cbe269e",
   "metadata": {},
   "outputs": [],
   "source": [
    "ihod."
   ]
  },
  {
   "cell_type": "code",
   "execution_count": 88,
   "id": "54db5c9d-5ea5-4f43-b357-9fa5a366cec7",
   "metadata": {},
   "outputs": [
    {
     "data": {
      "text/plain": [
       "array([-371.21548335])"
      ]
     },
     "execution_count": 88,
     "metadata": {},
     "output_type": "execute_result"
    }
   ],
   "source": [
    "anne_ihoh.MP2Energy"
   ]
  },
  {
   "cell_type": "code",
   "execution_count": 95,
   "id": "5dbaaace-e2c1-4380-8647-271c92d5778a",
   "metadata": {},
   "outputs": [],
   "source": [
    "anne_ihoh_energy=[-371.3143,\n",
    "-371.314,\n",
    "-371.31314,\n",
    "-371.31182,\n",
    "-371.3101,\n",
    "-371.30806,\n",
    "-371.30573,\n",
    "-371.30318,\n",
    "-371.30045,\n",
    "-371.29759,\n",
    "-371.29462,\n",
    "-371.29158,\n",
    "-371.2885,\n",
    "-371.28541,\n",
    "-371.28232,\n",
    "-371.27926,\n",
    "-371.27624,\n",
    "-371.27327,\n",
    "-371.27038,\n",
    "-371.26756,\n",
    "-371.26482,\n",
    "-371.26218,\n",
    "-371.25963,\n",
    "-371.25717,\n",
    "-371.25482,\n",
    "-371.25256,\n",
    "-371.2504,\n",
    "-371.24834,\n",
    "-371.24636,\n",
    "-371.24448,\n",
    "-371.24268,\n",
    "-371.24097,\n",
    "-371.23933,\n",
    "-371.23776,\n",
    "-371.23626,\n",
    "-371.23483,\n",
    "-371.23345,\n",
    "-371.23212,\n",
    "-371.23084,\n",
    "-371.2296,\n",
    "-371.22839,\n",
    "-371.2272,\n",
    "-371.22602,\n",
    "-371.22484,\n",
    "-371.22365,\n",
    "-371.22244,\n",
    "-371.22119,\n",
    "-371.21989,\n",
    "-371.21852,\n",
    "-371.21705,\n",
    "-371.21548]"
   ]
  },
  {
   "cell_type": "code",
   "execution_count": 93,
   "id": "5f29f66e-391e-4e94-9dac-cbea41c6616c",
   "metadata": {},
   "outputs": [
    {
     "data": {
      "text/plain": [
       "array([0.75, 0.8 , 0.85, 0.9 , 0.95, 1.  , 1.05, 1.1 , 1.15, 1.2 , 1.25,\n",
       "       1.3 , 1.35, 1.4 , 1.45, 1.5 ])"
      ]
     },
     "execution_count": 93,
     "metadata": {},
     "output_type": "execute_result"
    }
   ],
   "source": [
    "np.linspace(0.75, 1.50, 16)"
   ]
  },
  {
   "cell_type": "code",
   "execution_count": 96,
   "id": "39adad09-44c0-45a3-915a-20d4e94a205b",
   "metadata": {},
   "outputs": [
    {
     "data": {
      "text/plain": [
       "[<matplotlib.lines.Line2D at 0x7feec5173bb0>]"
      ]
     },
     "execution_count": 96,
     "metadata": {},
     "output_type": "execute_result"
    },
    {
     "data": {
      "image/png": "[encoded data removed]",
      "text/plain": [
       "<Figure size 432x288 with 1 Axes>"
      ]
     },
     "metadata": {
      "needs_background": "light"
     },
     "output_type": "display_data"
    }
   ],
   "source": [
    "fig = plt.figure()\n",
    "ax = plt.axes()\n",
    "\n",
    "ax.plot(np.linspace(0.98055084, 1.98055084, 51), anne_ihoh_energy)\n",
    "ax.plot(np.linspace(0.75, 1.50, 16), ihod.MP2Energy)"
   ]
  },
  {
   "cell_type": "code",
   "execution_count": 101,
   "id": "469c9b03-6eac-46fa-956d-dbadc207310d",
   "metadata": {},
   "outputs": [],
   "source": [
    "#equilibrium charge values:\n",
    "clhocl_eq = np.array([-0.77004, 0.15020, -0.85006, 0.46989])\n",
    "clhod_eq = np.array([-0.99517, 0.43622, -0.93278, 0.49173])\n",
    "brhocl_eq = np.array([-0.76825, 0.15748, -0.85902, 0.46979])\n",
    "brhod_eq = np.array([-0.98812, 0.43884, -0.93907, 0.48835])\n",
    "ihocl_eq = np.array([-0.76432, 0.16510, -0.86952, 0.46873])\n",
    "ihod_eq = np.array([-1.38119, 0.66437, -0.97350, 0.69032])"
   ]
  },
  {
   "cell_type": "markdown",
   "id": "9f94f196-fa68-4ae8-8444-c49c4a41fe08",
   "metadata": {},
   "source": [
    "# Make q-q_eq plots"
   ]
  },
  {
   "cell_type": "code",
   "execution_count": 108,
   "id": "83a9e032-cff6-43e2-87da-a22b91cd4ca9",
   "metadata": {
    "tags": []
   },
   "outputs": [
    {
     "data": {
      "image/png": "[encoded data removed]",
      "text/plain": [
       "<Figure size 720x612 with 12 Axes>"
      ]
     },
     "metadata": {
      "needs_background": "light"
     },
     "output_type": "display_data"
    }
   ],
   "source": [
    "%matplotlib inline\n",
    "fig, axs = plt.subplots(4, 3, sharex=True)\n",
    "\n",
    "\n",
    "oop = np.arange(0.75,1.55,0.05)\n",
    "axs[0,0].scatter(oop, clhocl_rOH_nbo[:,0]-clhocl_eq[0], label=\"ClHOCl\", color='#268D45', marker='.')\n",
    "axs[1,0].scatter(oop, clhocl_rOH_nbo[:,1]-clhocl_eq[1], label=\"ClHOCl\", color='#268D45', marker='.')\n",
    "axs[2,0].scatter(oop, clhocl_rOH_nbo[:,2]-clhocl_eq[2], label=\"ClHOCl\", color='#268D45', marker='.')\n",
    "axs[3,0].scatter(oop, clhocl_rOH_nbo[:,3]-clhocl_eq[3], label=\"ClHOCl\", color='#268D45', marker='.')\n",
    "\n",
    "axs[0,0].scatter(oop, clhod_rOH_nbo[:,0]-clhod_eq[0], label=\"ClHOD\", color='#37D266', marker='v')\n",
    "axs[1,0].scatter(oop, clhod_rOH_nbo[:,1]-clhod_eq[1], label=\"ClHOD\", color='#37D266', marker='v')\n",
    "axs[2,0].scatter(oop, clhod_rOH_nbo[:,2]-clhod_eq[2], label=\"ClHOD\", color='#37D266', marker='v')\n",
    "axs[3,0].scatter(oop, clhod_rOH_nbo[:,3]-clhod_eq[3], label=\"ClHOD\", color='#37D266', marker='v')\n",
    "\n",
    "axs[0,1].scatter(oop, brhocl_rOH_nbo[:,0]-brhocl_eq[0], label=\"BrHOCl\", color='#A42D2D', marker='.')\n",
    "axs[1,1].scatter(oop, brhocl_rOH_nbo[:,1]-brhocl_eq[1], label=\"BrHOCl\", color='#A42D2D', marker='.')\n",
    "axs[2,1].scatter(oop, brhocl_rOH_nbo[:,2]-brhocl_eq[2], label=\"BrHOCl\", color='#A42D2D', marker='.')\n",
    "axs[3,1].scatter(oop, brhocl_rOH_nbo[:,3]-brhocl_eq[3], label=\"BrHOCl\", color='#A42D2D', marker='.')\n",
    "\n",
    "axs[0,1].scatter(oop, brhod_rOH_nbo[:,0]-brhod_eq[0], label=\"BrHOD\", color='#D23939', marker='v')\n",
    "axs[1,1].scatter(oop, brhod_rOH_nbo[:,1]-brhod_eq[1], label=\"BrHOD\", color='#D23939', marker='v')\n",
    "axs[2,1].scatter(oop, brhod_rOH_nbo[:,2]-brhod_eq[2], label=\"BrHOD\", color='#D23939', marker='v')\n",
    "axs[3,1].scatter(oop, brhod_rOH_nbo[:,3]-brhod_eq[3], label=\"BrHOD\", color='#D23939', marker='v')\n",
    "\n",
    "axs[0,2].scatter(oop, ihocl_rOH_nbo[:,0]-ihocl_eq[0], label=\"IHOCl\", color='#AE2FA5', marker='.')\n",
    "axs[1,2].scatter(oop, ihocl_rOH_nbo[:,1]-ihocl_eq[1], label=\"IHOCl\", color='#AE2FA5', marker='.')\n",
    "axs[2,2].scatter(oop, ihocl_rOH_nbo[:,2]-ihocl_eq[2], label=\"IHOCl\", color='#AE2FA5', marker='.')\n",
    "axs[3,2].scatter(oop, ihocl_rOH_nbo[:,3]-ihocl_eq[3], label=\"IHOCl\", color='#AE2FA5', marker='.')\n",
    "\n",
    "axs[0,2].scatter(oop, ihod_rOH_nbo[:,0]-ihod_eq[0], label=\"IHOD\", color='#E13CD6', marker='v')\n",
    "axs[1,2].scatter(oop, ihod_rOH_nbo[:,1]-ihod_eq[1], label=\"IHOD\", color='#E13CD6', marker='v')\n",
    "axs[2,2].scatter(oop, ihod_rOH_nbo[:,2]-ihod_eq[2], label=\"IHOD\", color='#E13CD6', marker='v')\n",
    "axs[3,2].scatter(oop, ihod_rOH_nbo[:,3]-ihod_eq[3], label=\"IHOD\", color='#E13CD6', marker='v')\n",
    "\n",
    "\n",
    "for ax in axs[0,:]:\n",
    "    ax.set_ylim(-.15, .16)\n",
    "    \n",
    "for ax in axs[1,:]:\n",
    "    ax.set_ylim(-.1, 0.05)\n",
    "\n",
    "for ax in axs[2,:]:\n",
    "    ax.set_ylim(-.12, 0.4)\n",
    "\n",
    "for ax in axs[3,:]:\n",
    "    ax.set_ylim(-.26, 0.1)\n",
    "\n",
    "for a in axs:\n",
    "    for b in a:\n",
    "        b.legend(loc='best')\n",
    "        \n",
    "#axs[0,0].set_title(\"NBO tz\")\n",
    "axs[0,0].set_ylabel(\"$q-q_{eq}$ on O\", fontsize=12)\n",
    "axs[1,0].set_ylabel(\"$q-q_{eq}$ on Cl or D\", fontsize=12)\n",
    "axs[2,0].set_ylabel(\"$q-q_{eq}$ on X\", fontsize=12)\n",
    "axs[3,0].set_ylabel(\"$q-q_{eq}$ on H\", fontsize=12)\n",
    "\n",
    "axs[3,0].set_xlabel(r'$r_{OH}$ ($\\AA$)', fontsize=16)\n",
    "axs[3,1].set_xlabel(r'$r_{OH}$ ($\\AA$)', fontsize=16)\n",
    "axs[3,2].set_xlabel(r'$r_{OH}$ ($\\AA$)', fontsize=16)\n",
    "\n",
    "\n",
    "fig.subplots_adjust(wspace = 0, hspace = 0)\n",
    "fig.set_size_inches(w=10,h=8.5)\n",
    "        \n",
    "plt.tight_layout()\n",
    "\n",
    "plt.savefig('natural_charges_xhocl_v_xhod_q-qeq.pdf')\n"
   ]
  },
  {
   "cell_type": "code",
   "execution_count": 107,
   "id": "e2811c14-614a-4efe-bc83-10904deb9c87",
   "metadata": {
    "tags": []
   },
   "outputs": [
    {
     "data": {
      "image/png": "[encoded data removed]",
      "text/plain": [
       "<Figure size 504x612 with 8 Axes>"
      ]
     },
     "metadata": {
      "needs_background": "light"
     },
     "output_type": "display_data"
    }
   ],
   "source": [
    "%matplotlib inline\n",
    "fig, axs = plt.subplots(4, 2, sharex=True)\n",
    "\n",
    "\n",
    "oop = np.arange(0.75,1.55,0.05)\n",
    "axs[0,0].scatter(oop, clhocl_rOH_nbo[:,0]-clhocl_eq[0], label=\"ClHOCl\", color='#268D45', marker='.')\n",
    "axs[1,0].scatter(oop, clhocl_rOH_nbo[:,1]-clhocl_eq[1], label=\"ClHOCl\", color='#268D45', marker='.')\n",
    "axs[2,0].scatter(oop, clhocl_rOH_nbo[:,2]-clhocl_eq[2], label=\"ClHOCl\", color='#268D45', marker='.')\n",
    "axs[3,0].scatter(oop, clhocl_rOH_nbo[:,3]-clhocl_eq[3], label=\"ClHOCl\", color='#268D45', marker='.')\n",
    "\n",
    "axs[0,1].scatter(oop, clhod_rOH_nbo[:,0]-clhod_eq[0], label=\"ClHOD\", color='#37D266', marker='v')\n",
    "axs[1,1].scatter(oop, clhod_rOH_nbo[:,1]-clhod_eq[1], label=\"ClHOD\", color='#37D266', marker='v')\n",
    "axs[2,1].scatter(oop, clhod_rOH_nbo[:,2]-clhod_eq[2], label=\"ClHOD\", color='#37D266', marker='v')\n",
    "axs[3,1].scatter(oop, clhod_rOH_nbo[:,3]-clhod_eq[3], label=\"ClHOD\", color='#37D266', marker='v')\n",
    "\n",
    "axs[0,0].scatter(oop, brhocl_rOH_nbo[:,0]-brhocl_eq[0], label=\"BrHOCl\", color='#A42D2D', marker='.')\n",
    "axs[1,0].scatter(oop, brhocl_rOH_nbo[:,1]-brhocl_eq[1], label=\"BrHOCl\", color='#A42D2D', marker='.')\n",
    "axs[2,0].scatter(oop, brhocl_rOH_nbo[:,2]-brhocl_eq[2], label=\"BrHOCl\", color='#A42D2D', marker='.')\n",
    "axs[3,0].scatter(oop, brhocl_rOH_nbo[:,3]-brhocl_eq[3], label=\"BrHOCl\", color='#A42D2D', marker='.')\n",
    "\n",
    "axs[0,1].scatter(oop, brhod_rOH_nbo[:,0]-brhod_eq[0], label=\"BrHOD\", color='#D23939', marker='v')\n",
    "axs[1,1].scatter(oop, brhod_rOH_nbo[:,1]-brhod_eq[1], label=\"BrHOD\", color='#D23939', marker='v')\n",
    "axs[2,1].scatter(oop, brhod_rOH_nbo[:,2]-brhod_eq[2], label=\"BrHOD\", color='#D23939', marker='v')\n",
    "axs[3,1].scatter(oop, brhod_rOH_nbo[:,3]-brhod_eq[3], label=\"BrHOD\", color='#D23939', marker='v')\n",
    "\n",
    "axs[0,0].scatter(oop, ihocl_rOH_nbo[:,0]-ihocl_eq[0], label=\"IHOCl\", color='#AE2FA5', marker='.')\n",
    "axs[1,0].scatter(oop, ihocl_rOH_nbo[:,1]-ihocl_eq[1], label=\"IHOCl\", color='#AE2FA5', marker='.')\n",
    "axs[2,0].scatter(oop, ihocl_rOH_nbo[:,2]-ihocl_eq[2], label=\"IHOCl\", color='#AE2FA5', marker='.')\n",
    "axs[3,0].scatter(oop, ihocl_rOH_nbo[:,3]-ihocl_eq[3], label=\"IHOCl\", color='#AE2FA5', marker='.')\n",
    "\n",
    "axs[0,1].scatter(oop, ihod_rOH_nbo[:,0]-ihod_eq[0], label=\"IHOD\", color='#E13CD6', marker='v')\n",
    "axs[1,1].scatter(oop, ihod_rOH_nbo[:,1]-ihod_eq[1], label=\"IHOD\", color='#E13CD6', marker='v')\n",
    "axs[2,1].scatter(oop, ihod_rOH_nbo[:,2]-ihod_eq[2], label=\"IHOD\", color='#E13CD6', marker='v')\n",
    "axs[3,1].scatter(oop, ihod_rOH_nbo[:,3]-ihod_eq[3], label=\"IHOD\", color='#E13CD6', marker='v')\n",
    "\n",
    "\n",
    "for ax in axs[0,:]:\n",
    "    ax.set_ylim(-.15, .16)\n",
    "    \n",
    "for ax in axs[1,:]:\n",
    "    ax.set_ylim(-.1, 0.05)\n",
    "\n",
    "for ax in axs[2,:]:\n",
    "    ax.set_ylim(-.12, 0.4)\n",
    "\n",
    "for ax in axs[3,:]:\n",
    "    ax.set_ylim(-.26, 0.1)\n",
    "\n",
    "for a in axs:\n",
    "    for b in a:\n",
    "        b.legend(loc='best')\n",
    "        \n",
    "#axs[0,0].set_title(\"NBO tz\")\n",
    "axs[0,0].set_ylabel(\"$q-q_{eq}$ on O\", fontsize=12)\n",
    "axs[1,0].set_ylabel(\"$q-q_{eq}$  on Cl or D\", fontsize=12)\n",
    "axs[2,0].set_ylabel(\"$q-q_{eq}$  on X\", fontsize=12)\n",
    "axs[3,0].set_ylabel(\"$q-q_{eq}$ on H\", fontsize=12)\n",
    "\n",
    "axs[3,0].set_xlabel(r'$r_{OH}$ ($\\AA$)', fontsize=16)\n",
    "axs[3,1].set_xlabel(r'$r_{OH}$ ($\\AA$)', fontsize=16)\n",
    "\n",
    "\n",
    "fig.subplots_adjust(wspace = 0, hspace = 0)\n",
    "fig.set_size_inches(w=7,h=8.5)\n",
    "        \n",
    "plt.tight_layout()\n",
    "\n",
    "plt.savefig('natural_charges_xhocl_v_xhod_version2_q-qeq.pdf')\n"
   ]
  },
  {
   "cell_type": "code",
   "execution_count": null,
   "id": "761433a3-7efe-4249-a11e-9c63dcf7b6d2",
   "metadata": {},
   "outputs": [],
   "source": []
  }
 ],
 "metadata": {
  "kernelspec": {
   "display_name": "Python 3",
   "language": "python",
   "name": "python3"
  },
  "language_info": {
   "codemirror_mode": {
    "name": "ipython",
    "version": 3
   },
   "file_extension": ".py",
   "mimetype": "text/x-python",
   "name": "python",
   "nbconvert_exporter": "python",
   "pygments_lexer": "ipython3",
   "version": "3.8.8"
  }
 },
 "nbformat": 4,
 "nbformat_minor": 5
}
