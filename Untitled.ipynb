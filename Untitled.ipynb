{
 "cells": [
  {
   "cell_type": "code",
   "execution_count": 5,
   "id": "10a25977-1e66-4d54-86e8-a431f8e2afdd",
   "metadata": {},
   "outputs": [
    {
     "data": {
      "application/vnd.jupyter.widget-view+json": {
       "model_id": "c5e3c4a68edb49d389982f0c7a9c8fd4",
       "version_major": 2,
       "version_minor": 0
      },
      "text/plain": []
     },
     "metadata": {},
     "output_type": "display_data"
    }
   ],
   "source": [
    "import sys\n",
    "import os\n",
    "sys.path.append('../CGH_Toolbox/')\n",
    "import matplotlib.pyplot as plt\n",
    "from matplotlib import ticker, cm\n",
    "from matplotlib.colors import LogNorm\n",
    "import numpy as np\n",
    "import nglview as nv\n",
    "import MDAnalysis as mda\n",
    "import pyvibdmc as pv\n",
    "import utilities as uts\n",
    "import gaussian_tools as gt\n",
    "import glob\n",
    "import pandas as pd"
   ]
  },
  {
   "cell_type": "markdown",
   "id": "a20c5543-7059-4bea-9027-8d37d807b36b",
   "metadata": {},
   "source": [
    "# Load scans"
   ]
  },
  {
   "cell_type": "code",
   "execution_count": 2,
   "id": "cb950415-63d3-46e6-89f7-c3a11786304a",
   "metadata": {
    "tags": []
   },
   "outputs": [
    {
     "name": "stdout",
     "output_type": "stream",
     "text": [
      "clhocl/clhocl_0_sp.fchk\n",
      "DXDYDZO 0.2459302795698921 0.24635542499999996 0.246945552238806 0.014961507074184133\n",
      "clhocl/clhocl_5_sp.fchk\n",
      "DXDYDZO 0.2459302795698921 0.24635542499999996 0.246945552238806 0.014961507074184133\n",
      "clhocl/clhocl_10_sp.fchk\n",
      "DXDYDZO 0.2459302795698921 0.24635542499999996 0.246945552238806 0.014961507074184133\n",
      "clhocl/clhocl_15_sp.fchk\n",
      "DXDYDZO 0.2459302795698921 0.24635542499999996 0.246945552238806 0.014961507074184133\n",
      "clhocl/clhocl_20_sp.fchk\n",
      "DXDYDZO 0.2459302795698921 0.24635542499999996 0.246945552238806 0.014961507074184133\n",
      "clhocl/clhocl_25_sp.fchk\n",
      "DXDYDZO 0.2459302795698921 0.24635542499999996 0.246945552238806 0.014961507074184133\n",
      "clhocl/clhocl_30_sp.fchk\n",
      "DXDYDZO 0.2459302795698921 0.24635542499999996 0.246945552238806 0.014961507074184133\n",
      "clhocl/clhocl_35_sp.fchk\n",
      "DXDYDZO 0.2459302795698921 0.24635542499999996 0.246945552238806 0.014961507074184133\n",
      "clhocl/clhocl_40_sp.fchk\n",
      "DXDYDZO 0.2459302795698921 0.24635542499999996 0.246945552238806 0.014961507074184133\n",
      "clhocl/clhocl_45_sp.fchk\n",
      "DXDYDZO 0.2459302795698921 0.24635542499999996 0.246945552238806 0.014961507074184133\n",
      "clhocl/clhocl_50_sp.fchk\n",
      "DXDYDZO 0.2459302795698921 0.24635542499999996 0.246945552238806 0.014961507074184133\n",
      "brhocl/brhocl_0_sp.fchk\n",
      "DXDYDZO 0.27609096666666666 0.2766031948051957 0.2768494583333325 0.021142340719686323\n",
      "brhocl/brhocl_5_sp.fchk\n",
      "DXDYDZO 0.27609096666666666 0.2766031948051957 0.2768494583333325 0.021142340719686323\n",
      "brhocl/brhocl_10_sp.fchk\n",
      "DXDYDZO 0.27609096666666666 0.2766031948051957 0.2768494583333325 0.021142340719686323\n",
      "brhocl/brhocl_15_sp.fchk\n",
      "DXDYDZO 0.27609096666666666 0.2766031948051957 0.2768494583333325 0.021142340719686323\n",
      "brhocl/brhocl_20_sp.fchk\n",
      "DXDYDZO 0.27609096666666666 0.2766031948051957 0.2768494583333325 0.021142340719686323\n",
      "brhocl/brhocl_25_sp.fchk\n",
      "DXDYDZO 0.27609096666666666 0.2766031948051957 0.2768494583333325 0.021142340719686323\n",
      "brhocl/brhocl_30_sp.fchk\n",
      "DXDYDZO 0.27609096666666666 0.2766031948051957 0.2768494583333325 0.021142340719686323\n",
      "brhocl/brhocl_35_sp.fchk\n",
      "DXDYDZO 0.27609096666666666 0.2766031948051957 0.2768494583333325 0.021142340719686323\n",
      "brhocl/brhocl_40_sp.fchk\n",
      "DXDYDZO 0.27609096666666666 0.2766031948051957 0.2768494583333325 0.021142340719686323\n",
      "brhocl/brhocl_45_sp.fchk\n",
      "DXDYDZO 0.27609096666666666 0.2766031948051957 0.2768494583333325 0.021142340719686323\n",
      "brhocl/brhocl_50_sp.fchk\n",
      "DXDYDZO 0.27609096666666666 0.2766031948051957 0.2768494583333325 0.021142340719686323\n",
      "ihocl/ihocl_0_sp.fchk\n",
      "DXDYDZO 0.30699052873563204 0.3075486933333327 0.3075486933333327 0.029037067171815253\n",
      "ihocl/ihocl_5_sp.fchk\n",
      "DXDYDZO 0.30699052873563204 0.3075486933333327 0.3075486933333327 0.029037067171815253\n",
      "ihocl/ihocl_10_sp.fchk\n",
      "DXDYDZO 0.30699052873563204 0.3075486933333327 0.3075486933333327 0.029037067171815253\n",
      "ihocl/ihocl_15_sp.fchk\n",
      "DXDYDZO 0.30699052873563204 0.3075486933333327 0.3075486933333327 0.029037067171815253\n",
      "ihocl/ihocl_20_sp.fchk\n",
      "DXDYDZO 0.30699052873563204 0.3075486933333327 0.3075486933333327 0.029037067171815253\n",
      "ihocl/ihocl_25_sp.fchk\n",
      "DXDYDZO 0.30699052873563204 0.3075486933333327 0.3075486933333327 0.029037067171815253\n",
      "ihocl/ihocl_30_sp.fchk\n",
      "DXDYDZO 0.30699052873563204 0.3075486933333327 0.3075486933333327 0.029037067171815253\n",
      "ihocl/ihocl_35_sp.fchk\n",
      "DXDYDZO 0.30699052873563204 0.3075486933333327 0.3075486933333327 0.029037067171815253\n",
      "ihocl/ihocl_40_sp.fchk\n",
      "DXDYDZO 0.30699052873563204 0.3075486933333327 0.3075486933333327 0.029037067171815253\n",
      "ihocl/ihocl_45_sp.fchk\n",
      "DXDYDZO 0.30699052873563204 0.3075486933333327 0.3075486933333327 0.029037067171815253\n",
      "ihocl/ihocl_50_sp.fchk\n",
      "DXDYDZO 0.30699052873563204 0.3075486933333327 0.3075486933333327 0.029037067171815253\n",
      "brhocl_pp/brhocl_pp_0_sp.fchk\n",
      "DXDYDZO 0.27605456666666583 0.27656672727272813 0.2768129583333341 0.021133979565166605\n",
      "brhocl_pp/brhocl_pp_5_sp.fchk\n",
      "DXDYDZO 0.27605456666666583 0.27656672727272813 0.2768129583333341 0.021133979565166605\n",
      "brhocl_pp/brhocl_pp_10_sp.fchk\n",
      "DXDYDZO 0.27605456666666583 0.27656672727272813 0.2768129583333341 0.021133979565166605\n",
      "brhocl_pp/brhocl_pp_15_sp.fchk\n",
      "DXDYDZO 0.27605456666666583 0.27656672727272813 0.2768129583333341 0.021133979565166605\n",
      "brhocl_pp/brhocl_pp_20_sp.fchk\n",
      "DXDYDZO 0.27605456666666583 0.27656672727272813 0.2768129583333341 0.021133979565166605\n",
      "brhocl_pp/brhocl_pp_25_sp.fchk\n",
      "DXDYDZO 0.27605456666666583 0.27656672727272813 0.2768129583333341 0.021133979565166605\n",
      "brhocl_pp/brhocl_pp_30_sp.fchk\n",
      "DXDYDZO 0.27605456666666583 0.27656672727272813 0.2768129583333341 0.021133979565166605\n",
      "brhocl_pp/brhocl_pp_35_sp.fchk\n",
      "DXDYDZO 0.27605456666666583 0.27656672727272813 0.2768129583333341 0.021133979565166605\n",
      "brhocl_pp/brhocl_pp_40_sp.fchk\n",
      "DXDYDZO 0.27605456666666583 0.27656672727272813 0.2768129583333341 0.021133979565166605\n",
      "brhocl_pp/brhocl_pp_45_sp.fchk\n",
      "DXDYDZO 0.27605456666666583 0.27656672727272813 0.2768129583333341 0.021133979565166605\n",
      "brhocl_pp/brhocl_pp_50_sp.fchk\n",
      "DXDYDZO 0.27605456666666583 0.27656672727272813 0.2768129583333341 0.021133979565166605\n"
     ]
    }
   ],
   "source": [
    "clhocl_fchks = ['clhocl/clhocl_0_sp.fchk',\n",
    "                'clhocl/clhocl_5_sp.fchk',\n",
    "                'clhocl/clhocl_10_sp.fchk',\n",
    "                'clhocl/clhocl_15_sp.fchk',\n",
    "                'clhocl/clhocl_20_sp.fchk',\n",
    "                'clhocl/clhocl_25_sp.fchk',\n",
    "                'clhocl/clhocl_30_sp.fchk',\n",
    "                'clhocl/clhocl_35_sp.fchk',\n",
    "                'clhocl/clhocl_40_sp.fchk',\n",
    "                'clhocl/clhocl_45_sp.fchk',\n",
    "                'clhocl/clhocl_50_sp.fchk']\n",
    "\n",
    "clhocl = gt.FchkInterpreter(fchks = clhocl_fchks,\n",
    "                           cubes=True)\n",
    "\n",
    "brhocl_fchks = ['brhocl/brhocl_0_sp.fchk',\n",
    "                'brhocl/brhocl_5_sp.fchk',\n",
    "                'brhocl/brhocl_10_sp.fchk',\n",
    "                'brhocl/brhocl_15_sp.fchk',\n",
    "                'brhocl/brhocl_20_sp.fchk',\n",
    "                'brhocl/brhocl_25_sp.fchk',\n",
    "                'brhocl/brhocl_30_sp.fchk',\n",
    "                'brhocl/brhocl_35_sp.fchk',\n",
    "                'brhocl/brhocl_40_sp.fchk',\n",
    "                'brhocl/brhocl_45_sp.fchk',\n",
    "                'brhocl/brhocl_50_sp.fchk']\n",
    "\n",
    "brhocl = gt.FchkInterpreter(fchks = brhocl_fchks,\n",
    "                           cubes=True)\n",
    "\n",
    "ihocl_fchks = ['ihocl/ihocl_0_sp.fchk',\n",
    "                'ihocl/ihocl_5_sp.fchk',\n",
    "                'ihocl/ihocl_10_sp.fchk',\n",
    "                'ihocl/ihocl_15_sp.fchk',\n",
    "                'ihocl/ihocl_20_sp.fchk',\n",
    "                'ihocl/ihocl_25_sp.fchk',\n",
    "                'ihocl/ihocl_30_sp.fchk',\n",
    "                'ihocl/ihocl_35_sp.fchk',\n",
    "                'ihocl/ihocl_40_sp.fchk',\n",
    "                'ihocl/ihocl_45_sp.fchk',\n",
    "                'ihocl/ihocl_50_sp.fchk']\n",
    "\n",
    "ihocl = gt.FchkInterpreter(fchks = ihocl_fchks,\n",
    "                           cubes=True)\n",
    "\n",
    "brhocl_pp_fchks = ['brhocl_pp/brhocl_pp_0_sp.fchk',\n",
    "                'brhocl_pp/brhocl_pp_5_sp.fchk',\n",
    "                'brhocl_pp/brhocl_pp_10_sp.fchk',\n",
    "                'brhocl_pp/brhocl_pp_15_sp.fchk',\n",
    "                'brhocl_pp/brhocl_pp_20_sp.fchk',\n",
    "                'brhocl_pp/brhocl_pp_25_sp.fchk',\n",
    "                'brhocl_pp/brhocl_pp_30_sp.fchk',\n",
    "                'brhocl_pp/brhocl_pp_35_sp.fchk',\n",
    "                'brhocl_pp/brhocl_pp_40_sp.fchk',\n",
    "                'brhocl_pp/brhocl_pp_45_sp.fchk',\n",
    "                'brhocl_pp/brhocl_pp_50_sp.fchk']\n",
    "\n",
    "brhocl_pp = gt.FchkInterpreter(fchks = brhocl_pp_fchks,\n",
    "                           cubes=True)"
   ]
  },
  {
   "cell_type": "code",
   "execution_count": null,
   "id": "7be70760-4f46-458e-af91-fed25d92bf48",
   "metadata": {},
   "outputs": [],
   "source": []
  },
  {
   "cell_type": "markdown",
   "id": "686b21da-fb40-46a3-8f3e-fb6dba2f1a58",
   "metadata": {},
   "source": [
    "# Plot Energies on harmonic potential"
   ]
  },
  {
   "cell_type": "markdown",
   "id": "ac7c5b4e-ec7c-45cb-9a03-a6aaf05ad76a",
   "metadata": {},
   "source": [
    "omega and reduced mass came from the frequency calculation"
   ]
  },
  {
   "cell_type": "code",
   "execution_count": 3,
   "id": "03af2dbd-5736-4a16-9cef-28019b330b3b",
   "metadata": {},
   "outputs": [],
   "source": [
    "def v(x, omega, m): return 0.5*m*omega**2*x**2\n",
    "\n",
    "def harmStates(nRange, omega):\n",
    "    n = np.arange(0, nRange+1, 1)\n",
    "    return (0.5 + n) *omega\n",
    "\n",
    "def energy_on_harm_approx(energy_x,\n",
    "                          energy_array,\n",
    "                          harm_grid,\n",
    "                          omega,\n",
    "                          red_mass,\n",
    "                          max_state,\n",
    "                          **kwargs):\n",
    "    \"\"\"\n",
    "    energy_x in degrees\n",
    "    energy_array in Hartree\n",
    "    harm_grid in degrees\n",
    "    \"\"\"\n",
    "    minE = energy_array.min()\n",
    "    energy_array = energy_array - minE\n",
    " \n",
    "    fig = plt.figure()\n",
    "    ax = plt.axes()\n",
    "    ax.scatter(energy_x, \n",
    "               uts.Constants.convert(energy_array, 'wavenumbers', to_AU=False))\n",
    "    ax.plot(harm_grid,\n",
    "            uts.Constants.convert(v(np.deg2rad(harm_grid), omega, red_mass), 'wavenumbers', to_AU=False),\n",
    "            color='k')\n",
    "    states = uts.Constants.convert(harmStates(nRange=max_state, omega=omega), 'wavenumbers', to_AU=False)\n",
    "    evenly_spaced_interval = np.linspace(0,0.9, max_state+1)\n",
    "    colors = [cm.viridis(x) for x in evenly_spaced_interval]\n",
    "    for i in range(len(states)):\n",
    "        ax.axhline(y=states[i], color=colors[i], label=r\"$\\nu_{%s}$\" %i)\n",
    "    ax.legend()\n",
    "    ax.set_ylabel(\"E (cm-1)\")\n",
    "    ax.set_xlabel(\"oop\")\n",
    "    \n",
    "    \n",
    "    \n",
    "    \n",
    "    "
   ]
  },
  {
   "cell_type": "code",
   "execution_count": 4,
   "id": "e7059338-580f-45d0-83d3-0987d40d217d",
   "metadata": {},
   "outputs": [],
   "source": [
    "red_AMU = 1.0339"
   ]
  },
  {
   "cell_type": "code",
   "execution_count": 5,
   "id": "d057fb17-eeac-4d39-88fa-601b0288c4d4",
   "metadata": {},
   "outputs": [
    {
     "data": {
      "image/png": "[encoded data removed]",
      "text/plain": [
       "<Figure size 432x288 with 1 Axes>"
      ]
     },
     "metadata": {
      "needs_background": "light"
     },
     "output_type": "display_data"
    }
   ],
   "source": [
    "energy_on_harm_approx(energy_x=np.arange(0,55,5),\n",
    "                      energy_array=clhocl.MP2Energy,\n",
    "                      harm_grid= np.linspace(0,50,1001),\n",
    "                      omega=uts.Constants.convert(841, 'wavenumbers', to_AU=True),\n",
    "                      red_mass = uts.Constants.convert(red_AMU, 'amu', to_AU=True),\n",
    "                      max_state=6)"
   ]
  },
  {
   "cell_type": "code",
   "execution_count": 6,
   "id": "48ae7ff5-1572-4df2-a220-c2797ae81580",
   "metadata": {},
   "outputs": [
    {
     "data": {
      "image/png": "[encoded data removed]",
      "text/plain": [
       "<Figure size 432x288 with 1 Axes>"
      ]
     },
     "metadata": {
      "needs_background": "light"
     },
     "output_type": "display_data"
    }
   ],
   "source": [
    "energy_on_harm_approx(energy_x=np.arange(0,55,5),\n",
    "                      energy_array=brhocl.MP2Energy,\n",
    "                      harm_grid= np.linspace(0,50,1001),\n",
    "                      omega=uts.Constants.convert(776.09, 'wavenumbers', to_AU=True),\n",
    "                      red_mass = uts.Constants.convert(1.0335, 'amu', to_AU=True),\n",
    "                      max_state=6)"
   ]
  },
  {
   "cell_type": "code",
   "execution_count": 7,
   "id": "adf9ee97-231b-4761-a2ae-241e88784e3d",
   "metadata": {},
   "outputs": [
    {
     "data": {
      "image/png": "[encoded data removed]",
      "text/plain": [
       "<Figure size 432x288 with 1 Axes>"
      ]
     },
     "metadata": {
      "needs_background": "light"
     },
     "output_type": "display_data"
    }
   ],
   "source": [
    "energy_on_harm_approx(energy_x=np.arange(0,55,5),\n",
    "                      energy_array=ihocl.MP2Energy,\n",
    "                      harm_grid= np.linspace(0,50,1001),\n",
    "                      omega=uts.Constants.convert(693.03, 'wavenumbers', to_AU=True),\n",
    "                      red_mass = uts.Constants.convert(1.0346, 'amu', to_AU=True),\n",
    "                      max_state=6)"
   ]
  },
  {
   "cell_type": "markdown",
   "id": "97740df9-70bd-46e0-bcad-a92439a82845",
   "metadata": {},
   "source": [
    "# Next Steps"
   ]
  },
  {
   "cell_type": "markdown",
   "id": "500e79d0-e283-4d19-b98e-4cd2d3e04aa0",
   "metadata": {},
   "source": [
    "- I need to run the same analysis for clhocl, brhocl, IHOCl, and X-HOD scans\n",
    "- I should tighten the oop range and grid spacing because I am sampling up to like v=10"
   ]
  },
  {
   "cell_type": "markdown",
   "id": "df60a6cb-49dd-454c-be04-0e35a46bf1cf",
   "metadata": {},
   "source": [
    "# Cl-HOCl"
   ]
  },
  {
   "cell_type": "code",
   "execution_count": 8,
   "id": "00fc88b0-14e5-4f9c-9b33-736d1022dde8",
   "metadata": {},
   "outputs": [
    {
     "data": {
      "text/plain": [
       "array([-0.4999764 , -0.82952   ,  0.03757603,  0.29192036])"
      ]
     },
     "execution_count": 8,
     "metadata": {},
     "output_type": "execute_result"
    }
   ],
   "source": [
    "clhocl.mullikens[0]"
   ]
  },
  {
   "cell_type": "code",
   "execution_count": 9,
   "id": "0c1fad97-8e76-4aa5-88df-be3b87cbbeb0",
   "metadata": {},
   "outputs": [
    {
     "data": {
      "application/vnd.jupyter.widget-view+json": {
       "model_id": "d4fa4f851ffe4a25b94415b0ca533384",
       "version_major": 2,
       "version_minor": 0
      },
      "text/plain": [
       "Canvas(toolbar=Toolbar(toolitems=[('Home', 'Reset original view', 'home', 'home'), ('Back', 'Back to previous …"
      ]
     },
     "metadata": {},
     "output_type": "display_data"
    },
    {
     "data": {
      "text/plain": [
       "<matplotlib.legend.Legend at 0x7ffd9c69d100>"
      ]
     },
     "execution_count": 9,
     "metadata": {},
     "output_type": "execute_result"
    }
   ],
   "source": [
    "%matplotlib widget\n",
    "fig, axs = plt.subplots(2,2)\n",
    "oop = np.arange(0,55,5)\n",
    "\n",
    "axs[0,0].scatter(oop, clhocl.mullikens[:,0], label=\"O\", color=\"red\")\n",
    "axs[0,0].legend()\n",
    "axs[0,1].scatter(oop, clhocl.mullikens[:,1], label=\"Cl colinear with O and H\", color='green')\n",
    "axs[0,1].legend(loc=\"best\")\n",
    "axs[1,0].scatter(oop, clhocl.mullikens[:,2], label=\"Cl\", color='green')\n",
    "axs[1,0].legend()\n",
    "axs[1,1].scatter(oop, clhocl.mullikens[:,3], label=\"H\", color='gray')\n",
    "axs[1,1].legend()\n",
    "#plt.subplots_adjust(wspace=0, hspace=0)\n"
   ]
  },
  {
   "cell_type": "markdown",
   "id": "8ad3dc22-9335-49f7-9fd4-6f4aefe255a2",
   "metadata": {},
   "source": [
    "# Mulliken Plot"
   ]
  },
  {
   "cell_type": "code",
   "execution_count": 12,
   "id": "8d8d723b-8e5b-4558-8803-b7bf53766b88",
   "metadata": {
    "tags": []
   },
   "outputs": [
    {
     "data": {
      "application/vnd.jupyter.widget-view+json": {
       "model_id": "f4afd7fdb43947b6a5639e511c0d4f31",
       "version_major": 2,
       "version_minor": 0
      },
      "text/plain": [
       "Canvas(toolbar=Toolbar(toolitems=[('Home', 'Reset original view', 'home', 'home'), ('Back', 'Back to previous …"
      ]
     },
     "metadata": {},
     "output_type": "display_data"
    }
   ],
   "source": [
    "%matplotlib widget\n",
    "figs, axs = plt.subplots(4, 3, sharex=True)\n",
    "\n",
    "\n",
    "oop = np.arange(0,55,5)\n",
    "axs[0,0].scatter(oop, clhocl.mullikens[:,0], label=\"O\", color=\"red\")\n",
    "axs[1,0].scatter(oop, clhocl.mullikens[:,1], label=\"Cl ion\", color='green')\n",
    "axs[2,0].scatter(oop, clhocl.mullikens[:,2], label=\"Cl\", color='green')\n",
    "axs[3,0].scatter(oop, clhocl.mullikens[:,3], label=\"H\", color='gray')\n",
    "\n",
    "axs[0,1].scatter(oop, brhocl.mullikens[:,0], label=\"O\", color=\"red\")\n",
    "axs[1,1].scatter(oop, brhocl.mullikens[:,1], label=\"Br ion\", color='maroon')\n",
    "axs[2,1].scatter(oop, brhocl.mullikens[:,2], label=\"Cl\", color='green')\n",
    "axs[3,1].scatter(oop, brhocl.mullikens[:,3], label=\"H\", color='gray')\n",
    "\n",
    "axs[0,2].scatter(oop, ihocl.mullikens[:,0], label=\"O\", color=\"red\")\n",
    "axs[1,2].scatter(oop, ihocl.mullikens[:,1], label=\"I ion\", color='purple')\n",
    "axs[2,2].scatter(oop, ihocl.mullikens[:,2], label=\"Cl\", color='green')\n",
    "axs[3,2].scatter(oop, ihocl.mullikens[:,3], label=\"H\", color='gray')\n",
    "\n",
    "axs[0,0].get_shared_y_axes().join(axs[0,0], axs[0,1], axs[0,2])\n",
    "axs[1,0].get_shared_y_axes().join(axs[1,0], axs[1,1], axs[1,2])\n",
    "axs[2,0].get_shared_y_axes().join(axs[2,0], axs[2,1], axs[2,2])\n",
    "axs[3,0].get_shared_y_axes().join(axs[3,0], axs[3,1], axs[3,2])\n",
    "\n",
    "\"\"\"for a in axs:\n",
    "    for b in a:\n",
    "        b.legend()\"\"\"\n",
    "        \n",
    "axs[0,0].set_title(\"ClHOCl\")\n",
    "axs[0,1].set_title(\"BrHOCl\")\n",
    "axs[0,2].set_title(\"IHOCl\")\n",
    "\n",
    "axs[0,0].set_ylabel(\"O charge\")\n",
    "axs[1,0].set_ylabel(\"X charge\")\n",
    "axs[2,0].set_ylabel(\"Cl charge\")\n",
    "axs[3,0].set_ylabel(\"H charge\")\n",
    "\n",
    "fig.subplots_adjust(wspace = 0, hspace = 0)\n",
    "#fig.set_size_inches(w=6,h=8.5)\n",
    "        \n",
    "plt.tight_layout()\n",
    "\n",
    "plt.savefig('Mulliken_charges.pdf')\n"
   ]
  },
  {
   "cell_type": "code",
   "execution_count": 13,
   "id": "02a26fc2-3c46-4efb-b584-d8a02ac70865",
   "metadata": {
    "tags": []
   },
   "outputs": [
    {
     "data": {
      "application/vnd.jupyter.widget-view+json": {
       "model_id": "ca68ce9d3bc84e2792b976b528b66c10",
       "version_major": 2,
       "version_minor": 0
      },
      "text/plain": [
       "Canvas(toolbar=Toolbar(toolitems=[('Home', 'Reset original view', 'home', 'home'), ('Back', 'Back to previous …"
      ]
     },
     "metadata": {},
     "output_type": "display_data"
    }
   ],
   "source": [
    "%matplotlib widget\n",
    "figs, axs = plt.subplots(4, 2, sharex=True)\n",
    "\n",
    "\n",
    "oop = np.arange(0,55,5)\n",
    "axs[0,0].scatter(oop, clhocl.mullikens[:,0], label=\"ClHOCl- O\", color=\"green\")\n",
    "axs[1,0].scatter(oop, clhocl.mullikens[:,1], label=\"ClHOCl- Cl ion\", color='green')\n",
    "axs[2,0].scatter(oop, clhocl.mullikens[:,2], label=\"ClHOCl- Cl\", color='green')\n",
    "axs[3,0].scatter(oop, clhocl.mullikens[:,3], label=\"ClHOCl- H\", color='green')\n",
    "\n",
    "axs[0,0].scatter(oop, brhocl.mullikens[:,0], label=\"BrHOCl- O\", color=\"maroon\")\n",
    "axs[1,0].scatter(oop, brhocl.mullikens[:,1], label=\"BrHOCl- Br ion\", color='maroon')\n",
    "axs[2,0].scatter(oop, brhocl.mullikens[:,2], label=\"BrHOCl- Cl\", color='maroon')\n",
    "axs[3,0].scatter(oop, brhocl.mullikens[:,3], label=\"BrHOCl- H\", color='maroon')\n",
    "\n",
    "axs[0,0].scatter(oop, ihocl.mullikens[:,0], label=\"IHOCl- O\", color=\"purple\")\n",
    "axs[1,0].scatter(oop, ihocl.mullikens[:,1], label=\"IHOCl- I ion\", color='purple')\n",
    "axs[2,0].scatter(oop, ihocl.mullikens[:,2], label=\"IHOCl- Cl\", color='purple')\n",
    "axs[3,0].scatter(oop, ihocl.mullikens[:,3], label=\"IHOCl- H\", color='purple')\n",
    "\n",
    "axs[0,1].scatter(oop, clhocl.mullikens[:,0], label=\"ClHOCl- O\", color=\"green\")\n",
    "axs[1,1].scatter(oop, clhocl.mullikens[:,1], label=\"ClHOCl- Cl ion\", color='green')\n",
    "axs[2,1].scatter(oop, clhocl.mullikens[:,2], label=\"ClHOCl- Cl\", color='green')\n",
    "axs[3,1].scatter(oop, clhocl.mullikens[:,3], label=\"ClHOCl- H\", color='green')\n",
    "\n",
    "axs[0,1].scatter(oop, brhocl_pp.mullikens[:,0], label=\"BrHOCl- O\", color=\"maroon\")\n",
    "axs[1,1].scatter(oop, brhocl_pp.mullikens[:,1], label=\"BrHOCl- Br ion\", color='maroon')\n",
    "axs[2,1].scatter(oop, brhocl_pp.mullikens[:,2], label=\"BrHOCl- Cl\", color='maroon')\n",
    "axs[3,1].scatter(oop, brhocl_pp.mullikens[:,3], label=\"BrHOCl- H\", color='maroon')\n",
    "\n",
    "axs[0,1].scatter(oop, ihocl.mullikens[:,0], label=\"IHOCl- O\", color=\"purple\")\n",
    "axs[1,1].scatter(oop, ihocl.mullikens[:,1], label=\"IHOCl- I ion\", color='purple')\n",
    "axs[2,1].scatter(oop, ihocl.mullikens[:,2], label=\"IHOCl- Cl\", color='purple')\n",
    "axs[3,1].scatter(oop, ihocl.mullikens[:,3], label=\"IHOCl- H\", color='purple')\n",
    "\n",
    "\"\"\"axs[0].get_shared_y_axes().join(axs[0,0], axs[0,1], axs[0,2])\n",
    "axs[1].get_shared_y_axes().join(axs[1,0], axs[1,1], axs[1,2])\n",
    "axs[2].get_shared_y_axes().join(axs[2,0], axs[2,1], axs[2,2])\n",
    "axs[3].get_shared_y_axes().join(axs[3,0], axs[3,1], axs[3,2])\"\"\"\n",
    "\n",
    "for a in axs:\n",
    "    for b in a:\n",
    "        b.legend(loc='best')\n",
    "        \n",
    "\"\"\"axs[0,0].set_title(\"ClHOCl\")\n",
    "axs[0,1].set_title(\"BrHOCl\")\n",
    "axs[0,2].set_title(\"IHOCl\")\"\"\"\n",
    "\n",
    "axs[0,0].set_ylabel(\"O charge\")\n",
    "axs[1,0].set_ylabel(\"X charge\")\n",
    "axs[2,0].set_ylabel(\"Cl charge\")\n",
    "axs[3,0].set_ylabel(\"H charge\")\n",
    "\n",
    "axs[0,0].set_title(\"tz\")\n",
    "axs[0,1].set_title(\"pp\")\n",
    "\n",
    "\n",
    "\n",
    "fig.subplots_adjust(wspace = 0, hspace = 0)\n",
    "#fig.set_size_inches(w=6,h=8.5)\n",
    "        \n",
    "plt.tight_layout()\n",
    "\n",
    "plt.savefig('Mulliken_charges.pdf')\n"
   ]
  },
  {
   "cell_type": "code",
   "execution_count": 23,
   "id": "70131288-58f1-4172-b90d-77c9f1ab2781",
   "metadata": {},
   "outputs": [],
   "source": [
    "# make a pandas table of total changes in charges for each atom"
   ]
  },
  {
   "cell_type": "code",
   "execution_count": 24,
   "id": "7480ed2d-f162-481f-a95b-20e30172e355",
   "metadata": {},
   "outputs": [],
   "source": [
    "clhocl_mull_data = [['O'], ['Cl ion'], ['Cl'], ['H']]\n",
    "for i in range(len(clhocl_mull_data)):\n",
    "    for d in clhocl.mullikens[:,i]:\n",
    "        clhocl_mull_data[i].append(d)\n",
    "    clhocl_mull_data[i].append(clhocl.mullikens[:,i][-1]-clhocl.mullikens[:,i][0])"
   ]
  },
  {
   "cell_type": "code",
   "execution_count": 25,
   "id": "a404e289-15b2-4340-a96d-198e57e37f3a",
   "metadata": {},
   "outputs": [],
   "source": [
    "brhocl_mull_data = [['O'], ['Br ion'], ['Cl'], ['H']]\n",
    "for i in range(len(brhocl_mull_data)):\n",
    "    for d in brhocl.mullikens[:,i]:\n",
    "        brhocl_mull_data[i].append(d)\n",
    "    brhocl_mull_data[i].append(brhocl.mullikens[:,i][-1]-brhocl.mullikens[:,i][0])"
   ]
  },
  {
   "cell_type": "code",
   "execution_count": 26,
   "id": "59af31d2-364e-48bf-b10a-f23ceb5a8c89",
   "metadata": {},
   "outputs": [],
   "source": [
    "ihocl_mull_data = [['O'], ['I ion'], ['Cl'], ['H']]\n",
    "for i in range(len(ihocl_mull_data)):\n",
    "    for d in ihocl.mullikens[:,i]:\n",
    "        ihocl_mull_data[i].append(d)\n",
    "    ihocl_mull_data[i].append(ihocl.mullikens[:,i][-1]-ihocl.mullikens[:,i][0])"
   ]
  },
  {
   "cell_type": "code",
   "execution_count": 27,
   "id": "0d036451-ed05-4b34-8751-23fff1494dc5",
   "metadata": {},
   "outputs": [],
   "source": [
    "clhocl_mull_df = pd.DataFrame(clhocl_mull_data, columns = ['Atom', '0', '5', '10', '15', '20', '25', '30', '35', '40', '45', '50', 'total change'])\n",
    "brhocl_mull_df = pd.DataFrame(brhocl_mull_data, columns = ['Atom', '0', '5', '10', '15', '20', '25', '30', '35', '40', '45', '50', 'total change'])\n",
    "ihocl_mull_df = pd.DataFrame(ihocl_mull_data, columns = ['Atom', '0', '5', '10', '15', '20', '25', '30', '35', '40', '45', '50', 'total change'])"
   ]
  },
  {
   "cell_type": "markdown",
   "id": "97901f9f-8980-40b8-a297-b4cd3e5b40b7",
   "metadata": {},
   "source": [
    "## ClHOCl mulliken charges"
   ]
  },
  {
   "cell_type": "code",
   "execution_count": 28,
   "id": "64fa5b02-7aa7-4d12-a535-4df51eb3c4ac",
   "metadata": {},
   "outputs": [
    {
     "data": {
      "text/html": [
       "<div>\n",
       "<style scoped>\n",
       "    .dataframe tbody tr th:only-of-type {\n",
       "        vertical-align: middle;\n",
       "    }\n",
       "\n",
       "    .dataframe tbody tr th {\n",
       "        vertical-align: top;\n",
       "    }\n",
       "\n",
       "    .dataframe thead th {\n",
       "        text-align: right;\n",
       "    }\n",
       "</style>\n",
       "<table border=\"1\" class=\"dataframe\">\n",
       "  <thead>\n",
       "    <tr style=\"text-align: right;\">\n",
       "      <th></th>\n",
       "      <th>Atom</th>\n",
       "      <th>0</th>\n",
       "      <th>5</th>\n",
       "      <th>10</th>\n",
       "      <th>15</th>\n",
       "      <th>20</th>\n",
       "      <th>25</th>\n",
       "      <th>30</th>\n",
       "      <th>35</th>\n",
       "      <th>40</th>\n",
       "      <th>45</th>\n",
       "      <th>50</th>\n",
       "      <th>total change</th>\n",
       "    </tr>\n",
       "  </thead>\n",
       "  <tbody>\n",
       "    <tr>\n",
       "      <th>0</th>\n",
       "      <td>O</td>\n",
       "      <td>-0.499976</td>\n",
       "      <td>-0.498003</td>\n",
       "      <td>-0.490673</td>\n",
       "      <td>-0.478233</td>\n",
       "      <td>-0.461254</td>\n",
       "      <td>-0.442305</td>\n",
       "      <td>-0.423297</td>\n",
       "      <td>-0.406525</td>\n",
       "      <td>-0.392569</td>\n",
       "      <td>-0.381906</td>\n",
       "      <td>-0.373439</td>\n",
       "      <td>0.126538</td>\n",
       "    </tr>\n",
       "    <tr>\n",
       "      <th>1</th>\n",
       "      <td>Cl ion</td>\n",
       "      <td>-0.829520</td>\n",
       "      <td>-0.831432</td>\n",
       "      <td>-0.837965</td>\n",
       "      <td>-0.847528</td>\n",
       "      <td>-0.859269</td>\n",
       "      <td>-0.871933</td>\n",
       "      <td>-0.885221</td>\n",
       "      <td>-0.898496</td>\n",
       "      <td>-0.911555</td>\n",
       "      <td>-0.923941</td>\n",
       "      <td>-0.935535</td>\n",
       "      <td>-0.106015</td>\n",
       "    </tr>\n",
       "    <tr>\n",
       "      <th>2</th>\n",
       "      <td>Cl</td>\n",
       "      <td>0.037576</td>\n",
       "      <td>0.038300</td>\n",
       "      <td>0.040704</td>\n",
       "      <td>0.044239</td>\n",
       "      <td>0.048578</td>\n",
       "      <td>0.053256</td>\n",
       "      <td>0.058061</td>\n",
       "      <td>0.062630</td>\n",
       "      <td>0.066686</td>\n",
       "      <td>0.069905</td>\n",
       "      <td>0.072134</td>\n",
       "      <td>0.034558</td>\n",
       "    </tr>\n",
       "    <tr>\n",
       "      <th>3</th>\n",
       "      <td>H</td>\n",
       "      <td>0.291920</td>\n",
       "      <td>0.291135</td>\n",
       "      <td>0.287934</td>\n",
       "      <td>0.281522</td>\n",
       "      <td>0.271945</td>\n",
       "      <td>0.260982</td>\n",
       "      <td>0.250457</td>\n",
       "      <td>0.242391</td>\n",
       "      <td>0.237438</td>\n",
       "      <td>0.235941</td>\n",
       "      <td>0.236840</td>\n",
       "      <td>-0.055080</td>\n",
       "    </tr>\n",
       "  </tbody>\n",
       "</table>\n",
       "</div>"
      ],
      "text/plain": [
       "     Atom         0         5        10        15        20        25  \\\n",
       "0       O -0.499976 -0.498003 -0.490673 -0.478233 -0.461254 -0.442305   \n",
       "1  Cl ion -0.829520 -0.831432 -0.837965 -0.847528 -0.859269 -0.871933   \n",
       "2      Cl  0.037576  0.038300  0.040704  0.044239  0.048578  0.053256   \n",
       "3       H  0.291920  0.291135  0.287934  0.281522  0.271945  0.260982   \n",
       "\n",
       "         30        35        40        45        50  total change  \n",
       "0 -0.423297 -0.406525 -0.392569 -0.381906 -0.373439      0.126538  \n",
       "1 -0.885221 -0.898496 -0.911555 -0.923941 -0.935535     -0.106015  \n",
       "2  0.058061  0.062630  0.066686  0.069905  0.072134      0.034558  \n",
       "3  0.250457  0.242391  0.237438  0.235941  0.236840     -0.055080  "
      ]
     },
     "execution_count": 28,
     "metadata": {},
     "output_type": "execute_result"
    }
   ],
   "source": [
    "clhocl_mull_df"
   ]
  },
  {
   "cell_type": "markdown",
   "id": "4c8d867d-4cd0-4332-ae66-094ece549954",
   "metadata": {},
   "source": [
    "## BrHOCl mulliken charges"
   ]
  },
  {
   "cell_type": "code",
   "execution_count": 29,
   "id": "0effc812-def8-465a-a97a-b3cad0640980",
   "metadata": {},
   "outputs": [
    {
     "data": {
      "text/html": [
       "<div>\n",
       "<style scoped>\n",
       "    .dataframe tbody tr th:only-of-type {\n",
       "        vertical-align: middle;\n",
       "    }\n",
       "\n",
       "    .dataframe tbody tr th {\n",
       "        vertical-align: top;\n",
       "    }\n",
       "\n",
       "    .dataframe thead th {\n",
       "        text-align: right;\n",
       "    }\n",
       "</style>\n",
       "<table border=\"1\" class=\"dataframe\">\n",
       "  <thead>\n",
       "    <tr style=\"text-align: right;\">\n",
       "      <th></th>\n",
       "      <th>Atom</th>\n",
       "      <th>0</th>\n",
       "      <th>5</th>\n",
       "      <th>10</th>\n",
       "      <th>15</th>\n",
       "      <th>20</th>\n",
       "      <th>25</th>\n",
       "      <th>30</th>\n",
       "      <th>35</th>\n",
       "      <th>40</th>\n",
       "      <th>45</th>\n",
       "      <th>50</th>\n",
       "      <th>total change</th>\n",
       "    </tr>\n",
       "  </thead>\n",
       "  <tbody>\n",
       "    <tr>\n",
       "      <th>0</th>\n",
       "      <td>O</td>\n",
       "      <td>-0.494229</td>\n",
       "      <td>-0.491730</td>\n",
       "      <td>-0.483618</td>\n",
       "      <td>-0.470621</td>\n",
       "      <td>-0.453988</td>\n",
       "      <td>-0.435930</td>\n",
       "      <td>-0.418649</td>\n",
       "      <td>-0.403687</td>\n",
       "      <td>-0.391613</td>\n",
       "      <td>-0.382135</td>\n",
       "      <td>-0.374472</td>\n",
       "      <td>0.119756</td>\n",
       "    </tr>\n",
       "    <tr>\n",
       "      <th>1</th>\n",
       "      <td>Br ion</td>\n",
       "      <td>-0.845958</td>\n",
       "      <td>-0.847476</td>\n",
       "      <td>-0.852440</td>\n",
       "      <td>-0.859920</td>\n",
       "      <td>-0.869230</td>\n",
       "      <td>-0.879559</td>\n",
       "      <td>-0.890387</td>\n",
       "      <td>-0.901486</td>\n",
       "      <td>-0.912762</td>\n",
       "      <td>-0.924067</td>\n",
       "      <td>-0.935134</td>\n",
       "      <td>-0.089176</td>\n",
       "    </tr>\n",
       "    <tr>\n",
       "      <th>2</th>\n",
       "      <td>Cl</td>\n",
       "      <td>0.048102</td>\n",
       "      <td>0.048551</td>\n",
       "      <td>0.050055</td>\n",
       "      <td>0.052393</td>\n",
       "      <td>0.055455</td>\n",
       "      <td>0.059037</td>\n",
       "      <td>0.062896</td>\n",
       "      <td>0.066748</td>\n",
       "      <td>0.070289</td>\n",
       "      <td>0.073237</td>\n",
       "      <td>0.075384</td>\n",
       "      <td>0.027282</td>\n",
       "    </tr>\n",
       "    <tr>\n",
       "      <th>3</th>\n",
       "      <td>H</td>\n",
       "      <td>0.292085</td>\n",
       "      <td>0.290656</td>\n",
       "      <td>0.286003</td>\n",
       "      <td>0.278148</td>\n",
       "      <td>0.267763</td>\n",
       "      <td>0.256452</td>\n",
       "      <td>0.246140</td>\n",
       "      <td>0.238425</td>\n",
       "      <td>0.234086</td>\n",
       "      <td>0.232966</td>\n",
       "      <td>0.234222</td>\n",
       "      <td>-0.057863</td>\n",
       "    </tr>\n",
       "  </tbody>\n",
       "</table>\n",
       "</div>"
      ],
      "text/plain": [
       "     Atom         0         5        10        15        20        25  \\\n",
       "0       O -0.494229 -0.491730 -0.483618 -0.470621 -0.453988 -0.435930   \n",
       "1  Br ion -0.845958 -0.847476 -0.852440 -0.859920 -0.869230 -0.879559   \n",
       "2      Cl  0.048102  0.048551  0.050055  0.052393  0.055455  0.059037   \n",
       "3       H  0.292085  0.290656  0.286003  0.278148  0.267763  0.256452   \n",
       "\n",
       "         30        35        40        45        50  total change  \n",
       "0 -0.418649 -0.403687 -0.391613 -0.382135 -0.374472      0.119756  \n",
       "1 -0.890387 -0.901486 -0.912762 -0.924067 -0.935134     -0.089176  \n",
       "2  0.062896  0.066748  0.070289  0.073237  0.075384      0.027282  \n",
       "3  0.246140  0.238425  0.234086  0.232966  0.234222     -0.057863  "
      ]
     },
     "execution_count": 29,
     "metadata": {},
     "output_type": "execute_result"
    }
   ],
   "source": [
    "brhocl_mull_df"
   ]
  },
  {
   "cell_type": "markdown",
   "id": "f19e02b1-58db-403d-b59c-605445285ef5",
   "metadata": {},
   "source": [
    "## IHOCl mulliken charges"
   ]
  },
  {
   "cell_type": "code",
   "execution_count": 30,
   "id": "97919d12-a48e-4c96-9719-a0508a94fb3b",
   "metadata": {},
   "outputs": [
    {
     "data": {
      "text/html": [
       "<div>\n",
       "<style scoped>\n",
       "    .dataframe tbody tr th:only-of-type {\n",
       "        vertical-align: middle;\n",
       "    }\n",
       "\n",
       "    .dataframe tbody tr th {\n",
       "        vertical-align: top;\n",
       "    }\n",
       "\n",
       "    .dataframe thead th {\n",
       "        text-align: right;\n",
       "    }\n",
       "</style>\n",
       "<table border=\"1\" class=\"dataframe\">\n",
       "  <thead>\n",
       "    <tr style=\"text-align: right;\">\n",
       "      <th></th>\n",
       "      <th>Atom</th>\n",
       "      <th>0</th>\n",
       "      <th>5</th>\n",
       "      <th>10</th>\n",
       "      <th>15</th>\n",
       "      <th>20</th>\n",
       "      <th>25</th>\n",
       "      <th>30</th>\n",
       "      <th>35</th>\n",
       "      <th>40</th>\n",
       "      <th>45</th>\n",
       "      <th>50</th>\n",
       "      <th>total change</th>\n",
       "    </tr>\n",
       "  </thead>\n",
       "  <tbody>\n",
       "    <tr>\n",
       "      <th>0</th>\n",
       "      <td>O</td>\n",
       "      <td>-0.488498</td>\n",
       "      <td>-0.486030</td>\n",
       "      <td>-0.478492</td>\n",
       "      <td>-0.466675</td>\n",
       "      <td>-0.451710</td>\n",
       "      <td>-0.435256</td>\n",
       "      <td>-0.419066</td>\n",
       "      <td>-0.404499</td>\n",
       "      <td>-0.392232</td>\n",
       "      <td>-0.382468</td>\n",
       "      <td>-0.374111</td>\n",
       "      <td>0.114387</td>\n",
       "    </tr>\n",
       "    <tr>\n",
       "      <th>1</th>\n",
       "      <td>I ion</td>\n",
       "      <td>-0.835791</td>\n",
       "      <td>-0.836559</td>\n",
       "      <td>-0.839716</td>\n",
       "      <td>-0.845764</td>\n",
       "      <td>-0.854731</td>\n",
       "      <td>-0.865886</td>\n",
       "      <td>-0.878320</td>\n",
       "      <td>-0.891311</td>\n",
       "      <td>-0.904381</td>\n",
       "      <td>-0.917164</td>\n",
       "      <td>-0.929430</td>\n",
       "      <td>-0.093640</td>\n",
       "    </tr>\n",
       "    <tr>\n",
       "      <th>2</th>\n",
       "      <td>Cl</td>\n",
       "      <td>0.054022</td>\n",
       "      <td>0.054554</td>\n",
       "      <td>0.056128</td>\n",
       "      <td>0.058445</td>\n",
       "      <td>0.061316</td>\n",
       "      <td>0.064565</td>\n",
       "      <td>0.068007</td>\n",
       "      <td>0.071425</td>\n",
       "      <td>0.074578</td>\n",
       "      <td>0.077236</td>\n",
       "      <td>0.079258</td>\n",
       "      <td>0.025236</td>\n",
       "    </tr>\n",
       "    <tr>\n",
       "      <th>3</th>\n",
       "      <td>H</td>\n",
       "      <td>0.270267</td>\n",
       "      <td>0.268034</td>\n",
       "      <td>0.262080</td>\n",
       "      <td>0.253994</td>\n",
       "      <td>0.245126</td>\n",
       "      <td>0.236577</td>\n",
       "      <td>0.229379</td>\n",
       "      <td>0.224385</td>\n",
       "      <td>0.222036</td>\n",
       "      <td>0.222396</td>\n",
       "      <td>0.224284</td>\n",
       "      <td>-0.045983</td>\n",
       "    </tr>\n",
       "  </tbody>\n",
       "</table>\n",
       "</div>"
      ],
      "text/plain": [
       "    Atom         0         5        10        15        20        25  \\\n",
       "0      O -0.488498 -0.486030 -0.478492 -0.466675 -0.451710 -0.435256   \n",
       "1  I ion -0.835791 -0.836559 -0.839716 -0.845764 -0.854731 -0.865886   \n",
       "2     Cl  0.054022  0.054554  0.056128  0.058445  0.061316  0.064565   \n",
       "3      H  0.270267  0.268034  0.262080  0.253994  0.245126  0.236577   \n",
       "\n",
       "         30        35        40        45        50  total change  \n",
       "0 -0.419066 -0.404499 -0.392232 -0.382468 -0.374111      0.114387  \n",
       "1 -0.878320 -0.891311 -0.904381 -0.917164 -0.929430     -0.093640  \n",
       "2  0.068007  0.071425  0.074578  0.077236  0.079258      0.025236  \n",
       "3  0.229379  0.224385  0.222036  0.222396  0.224284     -0.045983  "
      ]
     },
     "execution_count": 30,
     "metadata": {},
     "output_type": "execute_result"
    }
   ],
   "source": [
    "ihocl_mull_df"
   ]
  },
  {
   "cell_type": "markdown",
   "id": "df8c83f1-7723-4b5e-8da1-f029d9228e46",
   "metadata": {},
   "source": [
    "## Combined Mulliken Charges"
   ]
  },
  {
   "cell_type": "code",
   "execution_count": 31,
   "id": "164fadbb-4fa5-414d-90a2-8e405a0c728f",
   "metadata": {},
   "outputs": [],
   "source": [
    "mull_data = [['O'], ['X'], ['Cl'], ['H']]\n",
    "for i in range(len(mull_data)):\n",
    "    mull_data[i].append(clhocl.mullikens[:,i][-1]-clhocl.mullikens[:,i][0])\n",
    "    mull_data[i].append(brhocl.mullikens[:,i][-1]-brhocl.mullikens[:,i][0])\n",
    "    mull_data[i].append(ihocl.mullikens[:,i][-1]-ihocl.mullikens[:,i][0])\n",
    "\n",
    "mull_df = pd.DataFrame(mull_data, columns = ['Atom', 'change ClHOCl', 'change BrHOCl', 'change IHOCl'])"
   ]
  },
  {
   "cell_type": "code",
   "execution_count": 32,
   "id": "6b40c5ba-bfd2-47ee-8513-2ea4ef4c5566",
   "metadata": {},
   "outputs": [
    {
     "data": {
      "text/html": [
       "<div>\n",
       "<style scoped>\n",
       "    .dataframe tbody tr th:only-of-type {\n",
       "        vertical-align: middle;\n",
       "    }\n",
       "\n",
       "    .dataframe tbody tr th {\n",
       "        vertical-align: top;\n",
       "    }\n",
       "\n",
       "    .dataframe thead th {\n",
       "        text-align: right;\n",
       "    }\n",
       "</style>\n",
       "<table border=\"1\" class=\"dataframe\">\n",
       "  <thead>\n",
       "    <tr style=\"text-align: right;\">\n",
       "      <th></th>\n",
       "      <th>Atom</th>\n",
       "      <th>change ClHOCl</th>\n",
       "      <th>change BrHOCl</th>\n",
       "      <th>change IHOCl</th>\n",
       "    </tr>\n",
       "  </thead>\n",
       "  <tbody>\n",
       "    <tr>\n",
       "      <th>0</th>\n",
       "      <td>O</td>\n",
       "      <td>0.126538</td>\n",
       "      <td>0.119756</td>\n",
       "      <td>0.114387</td>\n",
       "    </tr>\n",
       "    <tr>\n",
       "      <th>1</th>\n",
       "      <td>X</td>\n",
       "      <td>-0.106015</td>\n",
       "      <td>-0.089176</td>\n",
       "      <td>-0.093640</td>\n",
       "    </tr>\n",
       "    <tr>\n",
       "      <th>2</th>\n",
       "      <td>Cl</td>\n",
       "      <td>0.034558</td>\n",
       "      <td>0.027282</td>\n",
       "      <td>0.025236</td>\n",
       "    </tr>\n",
       "    <tr>\n",
       "      <th>3</th>\n",
       "      <td>H</td>\n",
       "      <td>-0.055080</td>\n",
       "      <td>-0.057863</td>\n",
       "      <td>-0.045983</td>\n",
       "    </tr>\n",
       "  </tbody>\n",
       "</table>\n",
       "</div>"
      ],
      "text/plain": [
       "  Atom  change ClHOCl  change BrHOCl  change IHOCl\n",
       "0    O       0.126538       0.119756      0.114387\n",
       "1    X      -0.106015      -0.089176     -0.093640\n",
       "2   Cl       0.034558       0.027282      0.025236\n",
       "3    H      -0.055080      -0.057863     -0.045983"
      ]
     },
     "execution_count": 32,
     "metadata": {},
     "output_type": "execute_result"
    }
   ],
   "source": [
    "mull_df"
   ]
  },
  {
   "cell_type": "markdown",
   "id": "e6a39b13-2c75-4cba-be1b-6b46dbdb2bc0",
   "metadata": {},
   "source": [
    "# Natural Charges:"
   ]
  },
  {
   "cell_type": "code",
   "execution_count": 33,
   "id": "1dd70a2a-ab24-4e51-94be-77804897091d",
   "metadata": {},
   "outputs": [],
   "source": [
    "with open('clhocl/natural_charges.txt', 'r') as f:\n",
    "    lines = f.readlines()\n",
    "    split = []\n",
    "    for line in lines:\n",
    "        split.append(line.split())"
   ]
  },
  {
   "cell_type": "code",
   "execution_count": 13,
   "id": "c9c01eda-c20d-4ec1-91b2-f9036db468fb",
   "metadata": {},
   "outputs": [],
   "source": [
    "def pull_charges(file, rearrange=False):\n",
    "    split = []\n",
    "    with open(file, 'r') as f:\n",
    "        lines = f.readlines()\n",
    "        for line in lines:\n",
    "            split.append(line.split())\n",
    "        \n",
    "    d = {}\n",
    "\n",
    "    for line in split:\n",
    "        #print(line)\n",
    "        if len(line) < 2:\n",
    "            continue\n",
    "        if line[1] in ['O', 'Br', 'Cl', 'I', 'H']:\n",
    "            head = line[0].split('_')\n",
    "            for h in head:\n",
    "                if h.isdigit():\n",
    "                    key = h + \"-\" + line[1]\n",
    "            #key = line[0].split('_')[1] + \"-\" + line[1]\n",
    "            #print(key)\n",
    "            if key in d:\n",
    "                key = key + \"_1\"\n",
    "            d[key] = line[3]\n",
    "\n",
    "    n_d = {}\n",
    "    for key in d:\n",
    "        s = key.split('-')\n",
    "        if s[0] in n_d:\n",
    "            n_d[s[0]].append(d[key])\n",
    "        else:\n",
    "            n_d[s[0]] = [d[key]]\n",
    "    for key in n_d:\n",
    "        n_d[key] = np.array(n_d[key])\n",
    "    #print(n_d)\n",
    "    l = []\n",
    "    keys = list(n_d.keys())\n",
    "    if rearrange:\n",
    "        keys.insert(1, keys.pop(-1)) \n",
    "    for k in keys:\n",
    "        l.append(n_d[k])\n",
    "    return np.asarray(l, dtype=float)\n",
    "        \n",
    "    \n",
    "        "
   ]
  },
  {
   "cell_type": "code",
   "execution_count": 14,
   "id": "c6e51701-a6cb-47d7-bac0-b8600959f05c",
   "metadata": {},
   "outputs": [],
   "source": [
    "clhocl_oop_nbo = pull_charges('oop_s_rOH_opt/clhocl/natural_charges.txt', rearrange=True)\n",
    "#ihocl_nbo = pull_charges('oop_s_rOH_opt/ihocl/natural_charges.txt', rearrange=True)\n",
    "brhocl_oop_nbo = pull_charges('oop_s_rOH_opt/brhocl/natural_charges.txt', rearrange=True)\n",
    "brhocl_oop_pp_nbo = pull_charges('oop_s_rOH_opt/brhocl_pp/natural_charges.txt', rearrange=True)\n",
    "clhocl_rOH_nbo = pull_charges('rOH_s_oop_0/clhocl/natural_charges.txt')\n",
    "clhod_rOH_nbo = pull_charges('rOH_s_oop_0/clhod/natural_charges.txt')\n"
   ]
  },
  {
   "cell_type": "code",
   "execution_count": 15,
   "id": "aaa4bbf3-23fb-477d-bcae-9ab42ae8707f",
   "metadata": {},
   "outputs": [
    {
     "data": {
      "text/plain": [
       "array([0.16759, 0.16612, 0.16398, 0.16113, 0.15751, 0.15308, 0.14785,\n",
       "       0.14188, 0.13526, 0.12812, 0.12058, 0.11274, 0.10466, 0.09649,\n",
       "       0.08816, 0.07988])"
      ]
     },
     "execution_count": 15,
     "metadata": {},
     "output_type": "execute_result"
    }
   ],
   "source": [
    "clhocl_rOH_nbo[:,1]"
   ]
  },
  {
   "cell_type": "code",
   "execution_count": 18,
   "id": "7c96cd5e-8465-4b21-b3c7-ec0fa0496539",
   "metadata": {
    "tags": []
   },
   "outputs": [
    {
     "data": {
      "application/vnd.jupyter.widget-view+json": {
       "model_id": "0ad8b815414241c4871dab922470a87a",
       "version_major": 2,
       "version_minor": 0
      },
      "text/plain": [
       "Canvas(toolbar=Toolbar(toolitems=[('Home', 'Reset original view', 'home', 'home'), ('Back', 'Back to previous …"
      ]
     },
     "metadata": {},
     "output_type": "display_data"
    }
   ],
   "source": [
    "%matplotlib widget\n",
    "figs, axs = plt.subplots(4, 3, sharex=True)\n",
    "\n",
    "\n",
    "oop = np.arange(0,55,5)\n",
    "axs[0,0].scatter(oop, clhocl.mullikens[:,0], label=\"X=O\", color='green', marker='.')\n",
    "axs[1,0].scatter(oop, clhocl.mullikens[:,1], label=\"X=Cl\", color='green', marker='.')\n",
    "axs[2,0].scatter(oop, clhocl.mullikens[:,2], label=\"X=Cl\", color='green', marker='.')\n",
    "axs[3,0].scatter(oop, clhocl.mullikens[:,3], label=\"X=H\", color='green', marker='.')\n",
    "\n",
    "axs[0,0].scatter(oop, brhocl.mullikens[:,0], label=\"X=O\", color='maroon', marker='v')\n",
    "axs[1,0].scatter(oop, brhocl.mullikens[:,1], label=\"X=Br\", color='maroon', marker='v')\n",
    "axs[2,0].scatter(oop, brhocl.mullikens[:,2], label=\"X=Cl\", color='maroon', marker='v')\n",
    "axs[3,0].scatter(oop, brhocl.mullikens[:,3], label=\"X=H\", color='maroon', marker='v')\n",
    "\n",
    "axs[0,0].scatter(oop, ihocl.mullikens[:,0], label=\"X=O\", color='purple', marker='x')\n",
    "axs[1,0].scatter(oop, ihocl.mullikens[:,1], label=\"X=I\", color='purple', marker='x')\n",
    "axs[2,0].scatter(oop, ihocl.mullikens[:,2], label=\"X=Cl\", color='purple', marker='x')\n",
    "axs[3,0].scatter(oop, ihocl.mullikens[:,3], label=\"X=H\", color='purple', marker='x')\n",
    "\n",
    "axs[0,1].scatter(oop, clhocl.mullikens[:,0], label=\"X=O\", color='green', marker='.')\n",
    "axs[1,1].scatter(oop, clhocl.mullikens[:,1], label=\"X=Cl\", color='green', marker='.')\n",
    "axs[2,1].scatter(oop, clhocl.mullikens[:,2], label=\"X=Cl\", color='green', marker='.')\n",
    "axs[3,1].scatter(oop, clhocl.mullikens[:,3], label=\"X=H\", color='green', marker='.')\n",
    "\n",
    "axs[0,1].scatter(oop, brhocl_pp.mullikens[:,0], label=\"X=O\", color='maroon', marker='v')\n",
    "axs[1,1].scatter(oop, brhocl_pp.mullikens[:,1], label=\"X=Br\", color='maroon', marker='v')\n",
    "axs[2,1].scatter(oop, brhocl_pp.mullikens[:,2], label=\"X=Cl\", color='maroon', marker='v')\n",
    "axs[3,1].scatter(oop, brhocl_pp.mullikens[:,3], label=\"X=H\", color='maroon', marker='v')\n",
    "\n",
    "axs[0,1].scatter(oop, ihocl.mullikens[:,0], label=\"X=O\", color='purple', marker='x')\n",
    "axs[1,1].scatter(oop, ihocl.mullikens[:,1], label=\"X=I\", color='purple', marker='x')\n",
    "axs[2,1].scatter(oop, ihocl.mullikens[:,2], label=\"X=Cl\", color='purple', marker='x')\n",
    "axs[3,1].scatter(oop, ihocl.mullikens[:,3], label=\"X=H\", color='purple', marker='x')\n",
    "\n",
    "axs[0,2].scatter(oop, clhocl_nbo[:,0], label=\"X=O\", color='green', marker='.')\n",
    "axs[1,2].scatter(oop, clhocl_nbo[:,1], label=\"X=Cl\", color='green', marker='.')\n",
    "axs[2,2].scatter(oop, clhocl_nbo[:,2], label=\"X=Cl\", color='green', marker='.')\n",
    "axs[3,2].scatter(oop, clhocl_nbo[:,3], label=\"X=H\", color='green', marker='.')\n",
    "\n",
    "axs[0,2].scatter(oop, brhocl_nbo[:,0], label=\"X=O\", color='maroon', marker='v')\n",
    "axs[1,2].scatter(oop, brhocl_nbo[:,1], label=\"X=Br\", color='maroon', marker='v')\n",
    "axs[2,2].scatter(oop, brhocl_nbo[:,2], label=\"X=Cl\", color='maroon', marker='v')\n",
    "axs[3,2].scatter(oop, brhocl_nbo[:,3], label=\"X=H\", color='maroon', marker='v')\n",
    "\n",
    "axs[0,2].scatter(oop, ihocl_nbo[:,0], label=\"X=O\", color='purple', marker='x')\n",
    "axs[1,2].scatter(oop, ihocl_nbo[:,1], label=\"X=I\", color='purple', marker='x')\n",
    "axs[2,2].scatter(oop, ihocl_nbo[:,2], label=\"X=Cl\", color='purple', marker='x')\n",
    "axs[3,2].scatter(oop, ihocl_nbo[:,3], label=\"X=H\", color='purple', marker='x')\n",
    "\n",
    "\"\"\"axs[0].get_shared_y_axes().join(axs[0,0], axs[0,1], axs[0,2])\n",
    "axs[1].get_shared_y_axes().join(axs[1,0], axs[1,1], axs[1,2])\n",
    "axs[2].get_shared_y_axes().join(axs[2,0], axs[2,1], axs[2,2])\n",
    "axs[3].get_shared_y_axes().join(axs[3,0], axs[3,1], axs[3,2])\"\"\"\n",
    "\n",
    "for a in axs:\n",
    "    for b in a:\n",
    "        b.legend(loc='best')\n",
    "        \n",
    "\"\"\"axs[0,0].set_title(\"ClHOCl\")\n",
    "axs[0,1].set_title(\"BrHOCl\")\n",
    "axs[0,2].set_title(\"IHOCl\")\"\"\"\n",
    "\n",
    "axs[0,0].set_ylabel(\"O charge\")\n",
    "axs[1,0].set_ylabel(\"X charge\")\n",
    "axs[2,0].set_ylabel(\"Cl charge\")\n",
    "axs[3,0].set_ylabel(\"H charge\")\n",
    "\n",
    "axs[0,0].set_title(\"Mulliken tz\")\n",
    "axs[0,1].set_title(\"Mulliken pp\")\n",
    "axs[0,2].set_title(\"NBO tz\")\n",
    "\n",
    "\n",
    "\n",
    "fig.subplots_adjust(wspace = 0, hspace = 0)\n",
    "#fig.set_size_inches(w=6,h=8.5)\n",
    "        \n",
    "plt.tight_layout()\n",
    "\n",
    "plt.savefig('Mulliken_charges.pdf')\n"
   ]
  },
  {
   "cell_type": "code",
   "execution_count": 19,
   "id": "93a77d4e-6df7-46fb-95ab-af923988c4dd",
   "metadata": {
    "tags": []
   },
   "outputs": [
    {
     "data": {
      "application/vnd.jupyter.widget-view+json": {
       "model_id": "a829c553d0394694a0036eda1fe539fa",
       "version_major": 2,
       "version_minor": 0
      },
      "text/plain": [
       "Canvas(toolbar=Toolbar(toolitems=[('Home', 'Reset original view', 'home', 'home'), ('Back', 'Back to previous …"
      ]
     },
     "metadata": {},
     "output_type": "display_data"
    }
   ],
   "source": [
    "%matplotlib widget\n",
    "fig, axs = plt.subplots(4, 3, sharex=True)\n",
    "\n",
    "\n",
    "oop = np.arange(0,55,5)\n",
    "axs[0,0].scatter(oop, clhocl_nbo[:,0], label=\"X=Cl\", color='green', marker='.')\n",
    "axs[1,0].scatter(oop, clhocl_nbo[:,1], label=\"X=Cl\", color='green', marker='.')\n",
    "axs[2,0].scatter(oop, clhocl_nbo[:,2], label=\"X=Cl\", color='green', marker='.')\n",
    "axs[3,0].scatter(oop, clhocl_nbo[:,3], label=\"X=Cl\", color='green', marker='.')\n",
    "\n",
    "axs[0,0].scatter(oop, brhocl_nbo[:,0], label=\"X=Br\", color='maroon', marker='v')\n",
    "axs[1,0].scatter(oop, brhocl_nbo[:,1], label=\"X=Br\", color='maroon', marker='v')\n",
    "axs[2,0].scatter(oop, brhocl_nbo[:,2], label=\"X=Br\", color='maroon', marker='v')\n",
    "axs[3,0].scatter(oop, brhocl_nbo[:,3], label=\"X=Br\", color='maroon', marker='v')\n",
    "\n",
    "axs[0,0].scatter(oop, ihocl_nbo[:,0], label=\"X=I\", color='purple', marker='x')\n",
    "axs[1,0].scatter(oop, ihocl_nbo[:,1], label=\"X=I\", color='purple', marker='x')\n",
    "axs[2,0].scatter(oop, ihocl_nbo[:,2], label=\"X=I\", color='purple', marker='x')\n",
    "axs[3,0].scatter(oop, ihocl_nbo[:,3], label=\"X=I\", color='purple', marker='x')\n",
    "\n",
    "axs[0,1].scatter(oop, clhocl_nbo[:,0], label=\"X=Cl\", color='green', marker='.')\n",
    "axs[1,1].scatter(oop, clhocl_nbo[:,1], label=\"X=Cl\", color='green', marker='.')\n",
    "axs[2,1].scatter(oop, clhocl_nbo[:,2], label=\"X=Cl\", color='green', marker='.')\n",
    "axs[3,1].scatter(oop, clhocl_nbo[:,3], label=\"X=Cl\", color='green', marker='.')\n",
    "\n",
    "axs[0,1].scatter(oop, brhocl_pp_nbo[:,0], label=\"X=Br\", color='maroon', marker='v')\n",
    "axs[1,1].scatter(oop, brhocl_pp_nbo[:,1], label=\"X=Br\", color='maroon', marker='v')\n",
    "axs[2,1].scatter(oop, brhocl_pp_nbo[:,2], label=\"X=Br\", color='maroon', marker='v')\n",
    "axs[3,1].scatter(oop, brhocl_pp_nbo[:,3], label=\"X=Br\", color='maroon', marker='v')\n",
    "\n",
    "axs[0,1].scatter(oop, ihocl_nbo[:,0], label=\"X=I\", color='purple', marker='x')\n",
    "axs[1,1].scatter(oop, ihocl_nbo[:,1], label=\"X=I\", color='purple', marker='x')\n",
    "axs[2,1].scatter(oop, ihocl_nbo[:,2], label=\"X=I\", color='purple', marker='x')\n",
    "axs[3,1].scatter(oop, ihocl_nbo[:,3], label=\"X=I\", color='purple', marker='x')\n",
    "\n",
    "axs[0,2].scatter(oop, brhocl_pp_nbo[:,0] - brhocl_nbo[:,0], label=\"X=Br\", color='maroon', marker='v')\n",
    "axs[1,2].scatter(oop, brhocl_pp_nbo[:,1] - brhocl_nbo[:,1], label=\"X=Br\", color='maroon', marker='v')\n",
    "axs[2,2].scatter(oop, brhocl_pp_nbo[:,2] - brhocl_nbo[:,2], label=\"X=Br\", color='maroon', marker='v')\n",
    "axs[3,2].scatter(oop, brhocl_pp_nbo[:,3] - brhocl_nbo[:,3], label=\"X=Br\", color='maroon', marker='v')\n",
    "\n",
    "\"\"\"axs[0].get_shared_y_axes().join(axs[0,0], axs[0,1], axs[0,2])\n",
    "axs[1].get_shared_y_axes().join(axs[1,0], axs[1,1], axs[1,2])\n",
    "axs[2].get_shared_y_axes().join(axs[2,0], axs[2,1], axs[2,2])\n",
    "axs[3].get_shared_y_axes().join(axs[3,0], axs[3,1], axs[3,2])\"\"\"\n",
    "\n",
    "for a in axs:\n",
    "    for b in a:\n",
    "        b.legend(loc='best')\n",
    "        \n",
    "\"\"\"axs[0,0].set_title(\"ClHOCl\")\n",
    "axs[0,1].set_title(\"BrHOCl\")\n",
    "axs[0,2].set_title(\"IHOCl\")\"\"\"\n",
    "\n",
    "for a in axs[0,:]:\n",
    "    a.set_ylabel(\"O charge\")\n",
    "for a in axs[1,:]:\n",
    "    a.set_ylabel(\"X charge\")\n",
    "for a in axs[2,:]:\n",
    "    a.set_ylabel(\"Cl charge\")\n",
    "for a in axs[3,:]:\n",
    "    a.set_ylabel(\"H charge\")\n",
    "\n",
    "\n",
    "axs[0,0].set_title(\"NBO tz\")\n",
    "axs[0,1].set_title(\"NBO pp\")\n",
    "axs[0,2].set_title(\"Br pp-tz\")\n",
    "\n",
    "\n",
    "\n",
    "fig.subplots_adjust(wspace = 0, hspace = 0)\n",
    "fig.set_size_inches(w=10,h=10)\n",
    "        \n",
    "plt.tight_layout()\n",
    "\n",
    "plt.savefig('NBO_charges.pdf')\n"
   ]
  },
  {
   "cell_type": "code",
   "execution_count": 81,
   "id": "3d9cd983-3c74-4cc0-aaf7-0b56af1365a0",
   "metadata": {
    "tags": []
   },
   "outputs": [
    {
     "data": {
      "image/png": "[encoded data removed]",
      "text/plain": [
       "<Figure size 288x612 with 4 Axes>"
      ]
     },
     "metadata": {
      "needs_background": "light"
     },
     "output_type": "display_data"
    }
   ],
   "source": [
    "%matplotlib inline\n",
    "fig, axs = plt.subplots(4, 1, sharex=True)\n",
    "\n",
    "\n",
    "oop = np.arange(0,55,5)\n",
    "axs[0].scatter(oop, clhocl_nbo[:,0], label=\"X=Cl\", color='green', marker='.')\n",
    "axs[1].scatter(oop, clhocl_nbo[:,1], label=\"X=Cl\", color='green', marker='.')\n",
    "axs[2].scatter(oop, clhocl_nbo[:,2], label=\"X=Cl\", color='green', marker='.')\n",
    "axs[3].scatter(oop, clhocl_nbo[:,3], label=\"X=Cl\", color='green', marker='.')\n",
    "\n",
    "axs[0].scatter(oop, brhocl_nbo[:,0], label=\"X=Br\", color='maroon', marker='v')\n",
    "axs[1].scatter(oop, brhocl_nbo[:,1], label=\"X=Br\", color='maroon', marker='v')\n",
    "axs[2].scatter(oop, brhocl_nbo[:,2], label=\"X=Br\", color='maroon', marker='v')\n",
    "axs[3].scatter(oop, brhocl_nbo[:,3], label=\"X=Br\", color='maroon', marker='v')\n",
    "\n",
    "axs[0].scatter(oop, ihocl_nbo[:,0], label=\"X=I\", color='purple', marker='x')\n",
    "axs[1].scatter(oop, ihocl_nbo[:,1], label=\"X=I\", color='purple', marker='x')\n",
    "axs[2].scatter(oop, ihocl_nbo[:,2], label=\"X=I\", color='purple', marker='x')\n",
    "axs[3].scatter(oop, ihocl_nbo[:,3], label=\"X=I\", color='purple', marker='x')\n",
    "\n",
    "\n",
    "for a in axs:\n",
    "    a.legend(loc='best')\n",
    "        \n",
    "#axs[0].set_title(\"NBO tz\")\n",
    "axs[0].set_ylabel(\"Partial Charge on O\", fontsize=12)\n",
    "axs[1].set_ylabel(\"Partial Charge on X\", fontsize=12)\n",
    "axs[2].set_ylabel(\"Partial Charge on Cl\", fontsize=12)\n",
    "axs[3].set_ylabel(\"Partial Charge on H\", fontsize=12)\n",
    "\n",
    "axs[3].set_xlabel(r'$\\theta_{oop}$ (deg)', fontsize=16)\n",
    "\n",
    "\n",
    "fig.subplots_adjust(wspace = 0, hspace = 0)\n",
    "fig.set_size_inches(w=4,h=8.5)\n",
    "        \n",
    "plt.tight_layout()\n",
    "\n",
    "plt.savefig('natural_charges.pdf')\n"
   ]
  },
  {
   "cell_type": "code",
   "execution_count": 19,
   "id": "983b9ec7-ce9e-47b4-8b0c-4482b00544db",
   "metadata": {},
   "outputs": [
    {
     "data": {
      "text/plain": [
       "(16,)"
      ]
     },
     "execution_count": 19,
     "metadata": {},
     "output_type": "execute_result"
    }
   ],
   "source": [
    "clhocl_rOH_nbo[:,0].shape"
   ]
  },
  {
   "cell_type": "code",
   "execution_count": 21,
   "id": "99919a2f-4948-41bd-8686-8ec7fce1e28e",
   "metadata": {},
   "outputs": [
    {
     "data": {
      "text/plain": [
       "array([0.75])"
      ]
     },
     "execution_count": 21,
     "metadata": {},
     "output_type": "execute_result"
    }
   ],
   "source": [
    "np.arange(0.75,1.55,5)"
   ]
  },
  {
   "cell_type": "code",
   "execution_count": 27,
   "id": "29b32e7c-ef95-4dcc-acaa-4c14da600d6c",
   "metadata": {
    "tags": []
   },
   "outputs": [
    {
     "data": {
      "image/png": "[encoded data removed]",
      "text/plain": [
       "<Figure size 288x612 with 4 Axes>"
      ]
     },
     "metadata": {
      "needs_background": "light"
     },
     "output_type": "display_data"
    }
   ],
   "source": [
    "%matplotlib inline\n",
    "fig, axs = plt.subplots(4, 1, sharex=True)\n",
    "\n",
    "\n",
    "oop = np.arange(0.75,1.55,0.05)\n",
    "axs[0].scatter(oop, clhocl_rOH_nbo[:,0], label=\"ClHOCl\", color='green', marker='.')\n",
    "axs[1].scatter(oop, clhocl_rOH_nbo[:,1], label=\"ClHOCl\", color='green', marker='.')\n",
    "axs[2].scatter(oop, clhocl_rOH_nbo[:,2], label=\"ClHOCl\", color='green', marker='.')\n",
    "axs[3].scatter(oop, clhocl_rOH_nbo[:,3], label=\"ClHOCl\", color='green', marker='.')\n",
    "\n",
    "axs[0].scatter(oop, clhod_rOH_nbo[:,0], label=\"ClHOD\", color='blue', marker='v')\n",
    "axs[1].scatter(oop, clhod_rOH_nbo[:,1], label=\"ClHOD\", color='blue', marker='v')\n",
    "axs[2].scatter(oop, clhod_rOH_nbo[:,2], label=\"ClHOD\", color='blue', marker='v')\n",
    "axs[3].scatter(oop, clhod_rOH_nbo[:,3], label=\"ClHOD\", color='blue', marker='v')\n",
    "\n",
    "\n",
    "for a in axs:\n",
    "    a.legend(loc='best')\n",
    "        \n",
    "#axs[0].set_title(\"NBO tz\")\n",
    "axs[0].set_ylabel(\"Partial Charge on O\", fontsize=12)\n",
    "axs[1].set_ylabel(\"Partial Charge on Cl or D\", fontsize=12)\n",
    "axs[2].set_ylabel(\"Partial Charge on Cl\", fontsize=12)\n",
    "axs[3].set_ylabel(\"Partial Charge on H\", fontsize=12)\n",
    "\n",
    "axs[3].set_xlabel(r'$r_{OH}$ ($\\AA$)', fontsize=16)\n",
    "\n",
    "\n",
    "fig.subplots_adjust(wspace = 0, hspace = 0)\n",
    "fig.set_size_inches(w=4,h=8.5)\n",
    "        \n",
    "plt.tight_layout()\n",
    "\n",
    "plt.savefig('natural_charges_clhocl_v_clhod.pdf')\n"
   ]
  },
  {
   "cell_type": "markdown",
   "id": "325605cc-08f9-495c-a3fc-d5e06663b0a8",
   "metadata": {},
   "source": [
    "jcpb paper, can you undertsand intenstity by looking at how PT expansion plays in\n",
    "if I excite a vibration, how does the coupling change, and how is that shown in the spectroscopy\n",
    "\n",
    "we have with marks code a way to extract insights\n",
    "\n",
    "marks v standard...\n",
    "interesting questions\n",
    "\n",
    "PT-\n",
    "    - OO distance, structural changes, excitation in dofs\n",
    "    - trace back to terms...where is it coming from?\n",
    "    - how can you think about the mechanisms\n",
    "    - chem review markland 25-29 nuclear quantum effects of water in aqueous systems, theory and current challenges\n",
    "    \n",
    "science cs water 20 \"pg 265 2019\"\n",
    "\n",
    "reading on NBO"
   ]
  },
  {
   "cell_type": "markdown",
   "id": "00ad766a-0c72-4ff8-b35d-07172b91634c",
   "metadata": {},
   "source": [
    "# Whats the plan?"
   ]
  },
  {
   "cell_type": "markdown",
   "id": "15487348-3b07-4512-992b-a0c35c348988",
   "metadata": {},
   "source": [
    "- oop scan for XHOD\n",
    "- r_OH for planar XHOCl and XHOD\n",
    "    - scan up to 5000-7500 cm, 0.75-1.35 with 0.05 steps\n",
    "- oop scans with rigid rOH\n",
    "    - start with HOCl by itself, optimize, then add in x and optiize rOH with fixed HOCl parameters\n",
    "    - then run a scan changing oop with the optimized rOH"
   ]
  },
  {
   "cell_type": "code",
   "execution_count": null,
   "id": "06438d15-bf76-4119-bf5b-a3f0eeda6e5f",
   "metadata": {},
   "outputs": [],
   "source": []
  },
  {
   "cell_type": "code",
   "execution_count": 1,
   "id": "2b880588-20be-4c88-8905-9850dce7148d",
   "metadata": {},
   "outputs": [],
   "source": [
    "file = open('new.gjf','a')"
   ]
  },
  {
   "cell_type": "code",
   "execution_count": 3,
   "id": "b09a7753-d78b-4ced-b32e-60c922cdd7e0",
   "metadata": {},
   "outputs": [
    {
     "ename": "SyntaxError",
     "evalue": "EOL while scanning string literal (<ipython-input-3-c4f3a3609f50>, line 1)",
     "output_type": "error",
     "traceback": [
      "\u001b[0;36m  File \u001b[0;32m\"<ipython-input-3-c4f3a3609f50>\"\u001b[0;36m, line \u001b[0;32m1\u001b[0m\n\u001b[0;31m    file.writelines(\"%nproc=28\u001b[0m\n\u001b[0m                              ^\u001b[0m\n\u001b[0;31mSyntaxError\u001b[0m\u001b[0;31m:\u001b[0m EOL while scanning string literal\n"
     ]
    }
   ],
   "source": [
    "file."
   ]
  },
  {
   "cell_type": "code",
   "execution_count": 6,
   "id": "80da7a63-f2a3-400b-ad74-782429460c25",
   "metadata": {},
   "outputs": [
    {
     "ename": "TypeError",
     "evalue": "_split_dispatcher() missing 1 required positional argument: 'indices_or_sections'",
     "output_type": "error",
     "traceback": [
      "\u001b[0;31m---------------------------------------------------------------------------\u001b[0m",
      "\u001b[0;31mTypeError\u001b[0m                                 Traceback (most recent call last)",
      "\u001b[0;32m<ipython-input-6-ce92ea0efdcf>\u001b[0m in \u001b[0;36m<module>\u001b[0;34m\u001b[0m\n\u001b[0;32m----> 1\u001b[0;31m np.split(\"\"\"%nproc=28\n\u001b[0m\u001b[1;32m      2\u001b[0m \u001b[0;34m%\u001b[0m\u001b[0mmem\u001b[0m\u001b[0;34m=\u001b[0m\u001b[0;36m120\u001b[0m\u001b[0mGB\u001b[0m\u001b[0;34m\u001b[0m\u001b[0;34m\u001b[0m\u001b[0m\n\u001b[1;32m      3\u001b[0m \u001b[0;34m%\u001b[0m\u001b[0mchk\u001b[0m\u001b[0;34m=\u001b[0m\u001b[0;34m/\u001b[0m\u001b[0mgscratch\u001b[0m\u001b[0;34m/\u001b[0m\u001b[0milahie\u001b[0m\u001b[0;34m/\u001b[0m\u001b[0mmccoygrp\u001b[0m\u001b[0;34m/\u001b[0m\u001b[0mcoire_hocl\u001b[0m\u001b[0;34m/\u001b[0m\u001b[0mclhocl\u001b[0m\u001b[0;34m/\u001b[0m\u001b[0mrOH_s_oop_0\u001b[0m\u001b[0;34m/\u001b[0m\u001b[0mclhocl_0_sp\u001b[0m\u001b[0;34m.\u001b[0m\u001b[0mchk\u001b[0m\u001b[0;34m\u001b[0m\u001b[0;34m\u001b[0m\u001b[0m\n\u001b[1;32m      4\u001b[0m \u001b[0;31m#p pop=NBO SP NoSymm mp2/aug-cc-pvtz density=current\u001b[0m\u001b[0;34m\u001b[0m\u001b[0;34m\u001b[0m\u001b[0;34m\u001b[0m\u001b[0m\n\u001b[1;32m      5\u001b[0m \u001b[0;34m\u001b[0m\u001b[0m\n",
      "\u001b[0;32m<__array_function__ internals>\u001b[0m in \u001b[0;36msplit\u001b[0;34m(*args, **kwargs)\u001b[0m\n",
      "\u001b[0;31mTypeError\u001b[0m: _split_dispatcher() missing 1 required positional argument: 'indices_or_sections'"
     ]
    }
   ],
   "source": [
    "np.split(\"\"\"%nproc=28\n",
    "%mem=120GB\n",
    "%chk=/gscratch/ilahie/mccoygrp/coire_hocl/clhocl/rOH_s_oop_0/clhocl_0_sp.chk\n",
    "#p pop=NBO SP NoSymm mp2/aug-cc-pvtz density=current\n",
    "\n",
    "title\n",
    "\n",
    "-1 1\n",
    "O\n",
    "X       1       10.\n",
    "Cl      1       r1      2       90.\n",
    "Cl      1       r2      2       90.     3       a1\n",
    "H       1       r3      2       oop     3       a1\n",
    "Variables\n",
    " r1=1.68274941\n",
    " r2=2.90467605\n",
    " r3=1.02842568\n",
    " a1=103.53015695\n",
    " OOP= 90.\"\"\")"
   ]
  },
  {
   "cell_type": "code",
   "execution_count": null,
   "id": "3f80345c-6de9-4e2c-8a75-6c6ba50fdf81",
   "metadata": {},
   "outputs": [],
   "source": []
  }
 ],
 "metadata": {
  "kernelspec": {
   "display_name": "Python 3",
   "language": "python",
   "name": "python3"
  },
  "language_info": {
   "codemirror_mode": {
    "name": "ipython",
    "version": 3
   },
   "file_extension": ".py",
   "mimetype": "text/x-python",
   "name": "python",
   "nbconvert_exporter": "python",
   "pygments_lexer": "ipython3",
   "version": "3.8.8"
  }
 },
 "nbformat": 4,
 "nbformat_minor": 5
}
