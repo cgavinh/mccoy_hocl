{
 "cells": [
  {
   "cell_type": "code",
   "execution_count": 1,
   "id": "10a25977-1e66-4d54-86e8-a431f8e2afdd",
   "metadata": {},
   "outputs": [
    {
     "data": {
      "application/vnd.jupyter.widget-view+json": {
       "model_id": "ed48b09f98f84a5182a13821cb9d07f3",
       "version_major": 2,
       "version_minor": 0
      },
      "text/plain": []
     },
     "metadata": {},
     "output_type": "display_data"
    }
   ],
   "source": [
    "import sys\n",
    "sys.path.append('../CGH_Toolbox/')\n",
    "import matplotlib.pyplot as plt\n",
    "from matplotlib import ticker, cm\n",
    "from matplotlib.colors import LogNorm\n",
    "import numpy as np\n",
    "import nglview as nv\n",
    "import MDAnalysis as mda\n",
    "import pyvibdmc as pv\n",
    "import utilities as uts\n",
    "import gaussian_tools as gt\n",
    "import glob"
   ]
  },
  {
   "cell_type": "markdown",
   "id": "a20c5543-7059-4bea-9027-8d37d807b36b",
   "metadata": {},
   "source": [
    "# Load clhocl scans"
   ]
  },
  {
   "cell_type": "code",
   "execution_count": 2,
   "id": "79b2779a-3e9e-45e3-8f6d-8f13a0047198",
   "metadata": {},
   "outputs": [
    {
     "name": "stdout",
     "output_type": "stream",
     "text": [
      "    4   -8.884900   -8.140940   -8.140940    1\n",
      "\n",
      "10\n",
      "DXDYDZO 0.2459302795698921 0.24635542499999996 0.246945552238806 0.014961507074184133\n",
      "hello\n",
      "    4   -8.884900   -8.140940   -8.140940    1\n",
      "\n",
      "10\n",
      "DXDYDZO 0.2459302795698921 0.24635542499999996 0.246945552238806 0.014961507074184133\n",
      "hello\n",
      "    4   -8.884900   -8.140940   -8.140940    1\n",
      "\n",
      "10\n",
      "DXDYDZO 0.2459302795698921 0.24635542499999996 0.246945552238806 0.014961507074184133\n",
      "hello\n",
      "    4   -8.884900   -8.140940   -8.140940    1\n",
      "\n",
      "10\n",
      "DXDYDZO 0.2459302795698921 0.24635542499999996 0.246945552238806 0.014961507074184133\n",
      "hello\n",
      "    4   -8.884900   -8.140940   -8.140940    1\n",
      "\n",
      "10\n",
      "DXDYDZO 0.2459302795698921 0.24635542499999996 0.246945552238806 0.014961507074184133\n",
      "hello\n",
      "    4   -8.884900   -8.140940   -8.140940    1\n",
      "\n",
      "10\n",
      "DXDYDZO 0.2459302795698921 0.24635542499999996 0.246945552238806 0.014961507074184133\n",
      "hello\n",
      "hello\n"
     ]
    }
   ],
   "source": [
    "clhocl = gt.FchkInterpreter(fchks = sorted(glob.glob('clhocl/clhocl*sp.fchk')),\n",
    "                           cube_files = sorted(glob.glob('clhocl/clhocl*sp.cube')),\n",
    "                           cubes=True)"
   ]
  },
  {
   "cell_type": "code",
   "execution_count": 4,
   "id": "c1ec1c9a-15bb-4c93-857b-88a067ceebac",
   "metadata": {},
   "outputs": [
    {
     "data": {
      "text/plain": [
       "<matplotlib.collections.PathCollection at 0x7fa9b90fcb20>"
      ]
     },
     "execution_count": 4,
     "metadata": {},
     "output_type": "execute_result"
    },
    {
     "data": {
      "image/png": "[encoded data removed]",
      "text/plain": [
       "<Figure size 432x288 with 1 Axes>"
      ]
     },
     "metadata": {
      "needs_background": "light"
     },
     "output_type": "display_data"
    }
   ],
   "source": [
    "fig = plt.figure()\n",
    "plt.scatter(np.arange(0,90,15), clhocl.MP2Energy)"
   ]
  },
  {
   "cell_type": "markdown",
   "id": "686b21da-fb40-46a3-8f3e-fb6dba2f1a58",
   "metadata": {},
   "source": [
    "# Plot Energies on harmonic potential"
   ]
  },
  {
   "cell_type": "code",
   "execution_count": 22,
   "id": "03af2dbd-5736-4a16-9cef-28019b330b3b",
   "metadata": {},
   "outputs": [],
   "source": [
    "def v(x, omega): return 0.5*omega**2*x**2\n",
    "\n",
    "def energy_on_harm_approx(energy_array):\n",
    "    minE = energy_array.min()\n",
    "    \n",
    "    energy_array = energy_array - minE\n",
    "    fig = plt.figure\n",
    "    plt.scatter(np.arange(0,90,15), energy_array)"
   ]
  },
  {
   "cell_type": "code",
   "execution_count": 21,
   "id": "d057fb17-eeac-4d39-88fa-601b0288c4d4",
   "metadata": {},
   "outputs": [
    {
     "name": "stdout",
     "output_type": "stream",
     "text": [
      "-995.1921257351055\n"
     ]
    },
    {
     "data": {
      "image/png": "[encoded data removed]",
      "text/plain": [
       "<Figure size 432x288 with 1 Axes>"
      ]
     },
     "metadata": {
      "needs_background": "light"
     },
     "output_type": "display_data"
    }
   ],
   "source": [
    "energy_on_harm_approx(clhocl.MP2Energy)"
   ]
  },
  {
   "cell_type": "code",
   "execution_count": null,
   "id": "e7059338-580f-45d0-83d3-0987d40d217d",
   "metadata": {},
   "outputs": [],
   "source": []
  }
 ],
 "metadata": {
  "kernelspec": {
   "display_name": "Python 3",
   "language": "python",
   "name": "python3"
  },
  "language_info": {
   "codemirror_mode": {
    "name": "ipython",
    "version": 3
   },
   "file_extension": ".py",
   "mimetype": "text/x-python",
   "name": "python",
   "nbconvert_exporter": "python",
   "pygments_lexer": "ipython3",
   "version": "3.8.8"
  }
 },
 "nbformat": 4,
 "nbformat_minor": 5
}
