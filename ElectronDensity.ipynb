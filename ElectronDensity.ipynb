{
 "cells": [
  {
   "cell_type": "markdown",
   "metadata": {},
   "source": [
    "Electron Density for some HOCl molecules"
   ]
  },
  {
   "cell_type": "markdown",
   "metadata": {},
   "source": [
    "# From Ryan"
   ]
  },
  {
   "cell_type": "markdown",
   "metadata": {},
   "source": [
    "https://gaussian.com/cubegen/"
   ]
  },
  {
   "cell_type": "markdown",
   "metadata": {},
   "source": [
    "- This would be a good place to start for the cubegen command:\n",
    "```cubegen 1 density=MP2 cl_hocl_tz.fchk cl_hocl_tz.cube```\n",
    "- where 1 can be replaced with 8  or however many processors you have access to, but there aren't that many points so it shouldn't take long regardless.\n",
    "- I can also send you the .py file we were looking at earlier if you think that would be helpful. I don't recommend trying to mold it for your use, but it may be a good starting point for you\n",
    "- If I had a lot of cubegens to run, I would put them in a bash script .sh file which may be helpful as well."
   ]
  },
  {
   "cell_type": "markdown",
   "metadata": {},
   "source": [
    "Here's that file I was showing earlier that is crap but has most of the code infrastructure already there. Instead of ctrl+c and ctrl+v-ing it, make sure you understand what's happening lol."
   ]
  },
  {
   "cell_type": "code",
   "execution_count": null,
   "metadata": {
    "collapsed": true
   },
   "outputs": [],
   "source": [
    "# %load extractDensity.py"
   ]
  },
  {
   "cell_type": "markdown",
   "metadata": {},
   "source": [
    "# From Anne:"
   ]
  },
  {
   "cell_type": "markdown",
   "metadata": {},
   "source": [
    "I think I have put all the files you need in the /gscratch/ilahie/mccoygrp/hocl/eq_jobs directory on MOX.  Let me know if it looks like I missed anything"
   ]
  },
  {
   "cell_type": "markdown",
   "metadata": {},
   "source": [
    "# Me"
   ]
  },
  {
   "cell_type": "markdown",
   "metadata": {},
   "source": [
    "- I found the directory and used cubegen with the options specified by Ryan above to make ```br_hocl_tz.cube```"
   ]
  },
  {
   "cell_type": "markdown",
   "metadata": {},
   "source": [
    "General Plan:\n",
    "- Make a class that reads in a cube file and gives functionality\n",
    "- "
   ]
  },
  {
   "cell_type": "code",
   "execution_count": 37,
   "metadata": {
    "collapsed": true
   },
   "outputs": [],
   "source": [
    "import sys\n",
    "sys.path.append('../CGH_Toolbox/')\n",
    "import density_cube as dc\n",
    "import matplotlib.pyplot as plt\n",
    "from matplotlib import ticker, cm\n",
    "from matplotlib.colors import LogNorm\n",
    "import numpy as np\n",
    "import nglview as nv\n",
    "import MDAnalysis as mda\n",
    "import pyvibdmc as pv"
   ]
  },
  {
   "cell_type": "code",
   "execution_count": 6,
   "metadata": {},
   "outputs": [
    {
     "name": "stdout",
     "output_type": "stream",
     "text": [
      "DXDYDZO 0.2721861170212758 0.27301032876712306 0.27301032876712306 0.02028729413998761\n",
      "hello\n"
     ]
    }
   ],
   "source": [
    "c = dc.cube(filename='br_hocl_tz.cube')"
   ]
  },
  {
   "cell_type": "code",
   "execution_count": 3,
   "metadata": {},
   "outputs": [
    {
     "data": {
      "text/plain": [
       "-12.5833"
      ]
     },
     "execution_count": 3,
     "metadata": {},
     "output_type": "execute_result"
    }
   ],
   "source": [
    "c.cdsX[0]"
   ]
  },
  {
   "cell_type": "code",
   "execution_count": 23,
   "metadata": {},
   "outputs": [
    {
     "data": {
      "text/plain": [
       "array([[ 2.629767e+00,  1.881155e+00,  3.000000e-06],\n",
       "       [ 8.553900e-01,  1.139494e+00, -3.800000e-05],\n",
       "       [ 4.506029e+00, -6.919500e-01,  0.000000e+00],\n",
       "       [-2.814172e+00, -1.264450e-01,  0.000000e+00]])"
      ]
     },
     "execution_count": 23,
     "metadata": {},
     "output_type": "execute_result"
    }
   ],
   "source": [
    "c.atmAr"
   ]
  },
  {
   "cell_type": "code",
   "execution_count": 8,
   "metadata": {
    "collapsed": true
   },
   "outputs": [],
   "source": [
    "density_Zsum = np.zeros(c.density[:,:,0].shape)"
   ]
  },
  {
   "cell_type": "code",
   "execution_count": 23,
   "metadata": {},
   "outputs": [
    {
     "data": {
      "text/plain": [
       "(95, 74)"
      ]
     },
     "execution_count": 23,
     "metadata": {},
     "output_type": "execute_result"
    }
   ],
   "source": [
    "c.density[:,:,0].shape"
   ]
  },
  {
   "cell_type": "code",
   "execution_count": 24,
   "metadata": {},
   "outputs": [
    {
     "data": {
      "text/plain": [
       "(95, 74, 74)"
      ]
     },
     "execution_count": 24,
     "metadata": {},
     "output_type": "execute_result"
    }
   ],
   "source": [
    "c.density.shape"
   ]
  },
  {
   "cell_type": "code",
   "execution_count": 4,
   "metadata": {},
   "outputs": [
    {
     "data": {
      "text/plain": [
       "['O', 'H', 'Cl', 'Br']"
      ]
     },
     "execution_count": 4,
     "metadata": {},
     "output_type": "execute_result"
    }
   ],
   "source": [
    "c.atmStr"
   ]
  },
  {
   "cell_type": "code",
   "execution_count": 9,
   "metadata": {
    "collapsed": true
   },
   "outputs": [],
   "source": [
    "for i in range(len(c.density[0,0,:])):\n",
    "    density_Zsum = density_Zsum + c.density[:,:,i]"
   ]
  },
  {
   "cell_type": "code",
   "execution_count": 34,
   "metadata": {},
   "outputs": [
    {
     "data": {
      "text/plain": [
       "0.05924383561643687"
      ]
     },
     "execution_count": 34,
     "metadata": {},
     "output_type": "execute_result"
    }
   ],
   "source": [
    "c.cdsZ[36]"
   ]
  },
  {
   "cell_type": "code",
   "execution_count": 6,
   "metadata": {},
   "outputs": [
    {
     "data": {
      "application/vnd.jupyter.widget-view+json": {
       "model_id": "b5d903e9d7b3444f9ba3f2d8bf3ae122",
       "version_major": 2,
       "version_minor": 0
      },
      "text/plain": [
       "NGLWidget()"
      ]
     },
     "metadata": {},
     "output_type": "display_data"
    }
   ],
   "source": [
    "br_hocl = mda.Universe(\"./HOCl/br_hocl_tz.xyz\")\n",
    "br_hocl_view = nv.show_mdanalysis(br_hocl)\n",
    "br_hocl_view"
   ]
  },
  {
   "cell_type": "code",
   "execution_count": 47,
   "metadata": {},
   "outputs": [
    {
     "data": {
      "application/vnd.jupyter.widget-view+json": {
       "model_id": "7cea88e8758d4fce9490bda34d97b3b6",
       "version_major": 2,
       "version_minor": 0
      },
      "text/plain": [
       "Canvas(toolbar=Toolbar(toolitems=[('Home', 'Reset original view', 'home', 'home'), ('Back', 'Back to previous …"
      ]
     },
     "metadata": {},
     "output_type": "display_data"
    },
    {
     "data": {
      "text/plain": [
       "(-10.0, 10.0)"
      ]
     },
     "execution_count": 47,
     "metadata": {},
     "output_type": "execute_result"
    }
   ],
   "source": [
    "fig = plt.figure()\n",
    "ax = plt.axes()\n",
    "\n",
    "ax.scatter(c.atmAr[:,0][0], c.atmAr[:,1][0], color='red')\n",
    "ax.scatter(c.atmAr[:,0][1], c.atmAr[:,1][1], color='gray')\n",
    "ax.scatter(c.atmAr[:,0][2], c.atmAr[:,1][2], color='green')\n",
    "ax.scatter(c.atmAr[:,0][3], c.atmAr[:,1][3], color='maroon')\n",
    "ax.set_xlim(-12,12)\n",
    "ax.set_ylim(-10,10)"
   ]
  },
  {
   "cell_type": "code",
   "execution_count": 46,
   "metadata": {},
   "outputs": [
    {
     "data": {
      "application/vnd.jupyter.widget-view+json": {
       "model_id": "02a530f917514090873fc9aeda6aa95f",
       "version_major": 2,
       "version_minor": 0
      },
      "text/plain": [
       "Canvas(toolbar=Toolbar(toolitems=[('Home', 'Reset original view', 'home', 'home'), ('Back', 'Back to previous …"
      ]
     },
     "metadata": {},
     "output_type": "display_data"
    }
   ],
   "source": [
    "%matplotlib widget\n",
    "fig, ax = plt.subplots()\n",
    "CS = ax.contourf(c.cdsX, c.cdsY, c.density[:,:,35].T)\n",
    "ax.scatter(c.atmAr[:,0][0], c.atmAr[:,1][0], color='red')\n",
    "ax.scatter(c.atmAr[:,0][1], c.atmAr[:,1][1], color='gray')\n",
    "ax.scatter(c.atmAr[:,0][2], c.atmAr[:,1][2], color='green')\n",
    "ax.scatter(c.atmAr[:,0][3], c.atmAr[:,1][3], color='maroon')\n",
    "#ax.clabel(CS, inline=True, fontsize=10)\n",
    "#ax.set_title('Simplest default with labels')\n",
    "fig.colorbar(CS)\n",
    "plt.show()"
   ]
  },
  {
   "cell_type": "code",
   "execution_count": 46,
   "metadata": {},
   "outputs": [
    {
     "data": {
      "application/vnd.jupyter.widget-view+json": {
       "model_id": "02a530f917514090873fc9aeda6aa95f",
       "version_major": 2,
       "version_minor": 0
      },
      "text/plain": [
       "Canvas(toolbar=Toolbar(toolitems=[('Home', 'Reset original view', 'home', 'home'), ('Back', 'Back to previous …"
      ]
     },
     "metadata": {},
     "output_type": "display_data"
    }
   ],
   "source": [
    "%matplotlib widget\n",
    "slices = [20,30,40,50]\n",
    "fig, ax = plt.subplots(2,2)\n",
    "for i in range(len(2)):\n",
    "    for j in range(len(2)):\n",
    "        CS = ax[i,j].contourf(c.cdsX, c.cdsY, c.density[:,:,slices[2*(i+1)+j+1]].T)\n",
    "        ax[i,j].scatter(c.atmAr[:,0][0], c.atmAr[:,1][0], color='red')\n",
    "        ax[i,j].scatter(c.atmAr[:,0][1], c.atmAr[:,1][1], color='gray')\n",
    "        ax[i,j].scatter(c.atmAr[:,0][2], c.atmAr[:,1][2], color='green')\n",
    "        ax[i,j].scatter(c.atmAr[:,0][3], c.atmAr[:,1][3], color='maroon')\n",
    "        #ax.clabel(CS, inline=True, fontsize=10)\n",
    "        #ax.set_title('Simplest default with labels')\n",
    "        fig.colorbar(CS)\n",
    "plt.show()"
   ]
  },
  {
   "cell_type": "code",
   "execution_count": 29,
   "metadata": {},
   "outputs": [
    {
     "ename": "AttributeError",
     "evalue": "'Figure' object has no attribute 'scale'",
     "output_type": "error",
     "traceback": [
      "\u001b[0;31m---------------------------------------------------------------------------\u001b[0m",
      "\u001b[0;31mAttributeError\u001b[0m                            Traceback (most recent call last)",
      "\u001b[0;32m<ipython-input-29-599a18ca821c>\u001b[0m in \u001b[0;36m<module>\u001b[0;34m\u001b[0m\n\u001b[1;32m      6\u001b[0m \u001b[0max\u001b[0m\u001b[0;34m.\u001b[0m\u001b[0mscatter\u001b[0m\u001b[0;34m(\u001b[0m\u001b[0mc\u001b[0m\u001b[0;34m.\u001b[0m\u001b[0matmAr\u001b[0m\u001b[0;34m[\u001b[0m\u001b[0;34m:\u001b[0m\u001b[0;34m,\u001b[0m\u001b[0;36m0\u001b[0m\u001b[0;34m]\u001b[0m\u001b[0;34m[\u001b[0m\u001b[0;36m2\u001b[0m\u001b[0;34m]\u001b[0m\u001b[0;34m,\u001b[0m \u001b[0mc\u001b[0m\u001b[0;34m.\u001b[0m\u001b[0matmAr\u001b[0m\u001b[0;34m[\u001b[0m\u001b[0;34m:\u001b[0m\u001b[0;34m,\u001b[0m\u001b[0;36m1\u001b[0m\u001b[0;34m]\u001b[0m\u001b[0;34m[\u001b[0m\u001b[0;36m2\u001b[0m\u001b[0;34m]\u001b[0m\u001b[0;34m,\u001b[0m \u001b[0mcolor\u001b[0m\u001b[0;34m=\u001b[0m\u001b[0;34m'green'\u001b[0m\u001b[0;34m)\u001b[0m\u001b[0;34m\u001b[0m\u001b[0;34m\u001b[0m\u001b[0m\n\u001b[1;32m      7\u001b[0m \u001b[0max\u001b[0m\u001b[0;34m.\u001b[0m\u001b[0mscatter\u001b[0m\u001b[0;34m(\u001b[0m\u001b[0mc\u001b[0m\u001b[0;34m.\u001b[0m\u001b[0matmAr\u001b[0m\u001b[0;34m[\u001b[0m\u001b[0;34m:\u001b[0m\u001b[0;34m,\u001b[0m\u001b[0;36m0\u001b[0m\u001b[0;34m]\u001b[0m\u001b[0;34m[\u001b[0m\u001b[0;36m3\u001b[0m\u001b[0;34m]\u001b[0m\u001b[0;34m,\u001b[0m \u001b[0mc\u001b[0m\u001b[0;34m.\u001b[0m\u001b[0matmAr\u001b[0m\u001b[0;34m[\u001b[0m\u001b[0;34m:\u001b[0m\u001b[0;34m,\u001b[0m\u001b[0;36m1\u001b[0m\u001b[0;34m]\u001b[0m\u001b[0;34m[\u001b[0m\u001b[0;36m3\u001b[0m\u001b[0;34m]\u001b[0m\u001b[0;34m,\u001b[0m \u001b[0mcolor\u001b[0m\u001b[0;34m=\u001b[0m\u001b[0;34m'maroon'\u001b[0m\u001b[0;34m)\u001b[0m\u001b[0;34m\u001b[0m\u001b[0;34m\u001b[0m\u001b[0m\n\u001b[0;32m----> 8\u001b[0;31m \u001b[0mfig\u001b[0m\u001b[0;34m.\u001b[0m\u001b[0mscale\u001b[0m\u001b[0;34m(\u001b[0m\u001b[0;34m'log'\u001b[0m\u001b[0;34m)\u001b[0m\u001b[0;34m\u001b[0m\u001b[0;34m\u001b[0m\u001b[0m\n\u001b[0m\u001b[1;32m      9\u001b[0m \u001b[0;31m#ax.clabel(CS, inline=True, fontsize=10)\u001b[0m\u001b[0;34m\u001b[0m\u001b[0;34m\u001b[0m\u001b[0;34m\u001b[0m\u001b[0m\n\u001b[1;32m     10\u001b[0m \u001b[0;31m#ax.set_title('Simplest default with labels')\u001b[0m\u001b[0;34m\u001b[0m\u001b[0;34m\u001b[0m\u001b[0;34m\u001b[0m\u001b[0m\n",
      "\u001b[0;31mAttributeError\u001b[0m: 'Figure' object has no attribute 'scale'"
     ]
    },
    {
     "data": {
      "image/png": "[encoded data removed]",
      "text/plain": [
       "<Figure size 432x288 with 2 Axes>"
      ]
     },
     "metadata": {
      "needs_background": "light"
     },
     "output_type": "display_data"
    }
   ],
   "source": [
    "fig, ax = plt.subplots()\n",
    "CS = ax.contourf(c.cdsX, c.cdsY, density_Zsum.T, locator=ticker.LogLocator())\n",
    "fig.colorbar(CS)\n",
    "ax.scatter(c.atmAr[:,0][0], c.atmAr[:,1][0], color='red')\n",
    "ax.scatter(c.atmAr[:,0][1], c.atmAr[:,1][1], color='gray')\n",
    "ax.scatter(c.atmAr[:,0][2], c.atmAr[:,1][2], color='green')\n",
    "ax.scatter(c.atmAr[:,0][3], c.atmAr[:,1][3], color='maroon')\n",
    "fig.scale('log')\n",
    "#ax.clabel(CS, inline=True, fontsize=10)\n",
    "#ax.set_title('Simplest default with labels')\n",
    "#CS.colorbar()\n",
    "plt.show()"
   ]
  },
  {
   "cell_type": "code",
   "execution_count": 17,
   "metadata": {},
   "outputs": [
    {
     "data": {
      "text/plain": [
       "2.39825e-13"
      ]
     },
     "execution_count": 17,
     "metadata": {},
     "output_type": "execute_result"
    }
   ],
   "source": [
    "c.density.min()"
   ]
  },
  {
   "cell_type": "code",
   "execution_count": 10,
   "metadata": {},
   "outputs": [
    {
     "data": {
      "image/png": "[encoded data removed]",
      "text/plain": [
       "<Figure size 432x288 with 2 Axes>"
      ]
     },
     "metadata": {
      "needs_background": "light"
     },
     "output_type": "display_data"
    }
   ],
   "source": [
    "fig, ax = plt.subplots()\n",
    "CS = ax.contourf(c.cdsX, c.cdsY, density_Zsum.T, norm=LogNorm())\n",
    "C = ax.contour(c.cdsX, c.cdsY, density_Zsum.T, norm=LogNorm(), colors='k')\n",
    "fig.colorbar(CS)\n",
    "ax.scatter(c.atmAr[:,0][0], c.atmAr[:,1][0], color='red')\n",
    "ax.scatter(c.atmAr[:,0][1], c.atmAr[:,1][1], color='gray')\n",
    "ax.scatter(c.atmAr[:,0][2], c.atmAr[:,1][2], color='green')\n",
    "ax.scatter(c.atmAr[:,0][3], c.atmAr[:,1][3], color='maroon')\n",
    "#ax.clabel(CS, inline=True, fontsize=10)\n",
    "#ax.set_title('Simplest default with labels')\n",
    "#CS.colorbar()\n",
    "plt.show()"
   ]
  },
  {
   "cell_type": "code",
   "execution_count": 26,
   "metadata": {},
   "outputs": [
    {
     "data": {
      "text/plain": [
       "array([ 2.629767,  0.85539 ,  4.506029, -2.814172])"
      ]
     },
     "execution_count": 26,
     "metadata": {},
     "output_type": "execute_result"
    }
   ],
   "source": [
    "c.atmAr[:,0]"
   ]
  },
  {
   "cell_type": "markdown",
   "metadata": {},
   "source": [
    "chlorine is green"
   ]
  },
  {
   "cell_type": "markdown",
   "metadata": {},
   "source": [
    "# Cl- HOCl"
   ]
  },
  {
   "cell_type": "markdown",
   "metadata": {},
   "source": [
    "start with a planar Cl-HOCl molecule and then rotate the Hydrogen out of the plane by 15 and 30 degrees"
   ]
  },
  {
   "cell_type": "markdown",
   "metadata": {},
   "source": [
    "## Step 1: get planar calculation"
   ]
  },
  {
   "cell_type": "code",
   "execution_count": 24,
   "metadata": {},
   "outputs": [
    {
     "name": "stdout",
     "output_type": "stream",
     "text": [
      "DXDYDZO 0.24628345263157847 0.24684258974358997 0.24735558208955233 0.015037548568046894\n",
      "hello\n"
     ]
    }
   ],
   "source": [
    "clhocl_tz = dc.cube(filename='clhocl-_tz.cube')"
   ]
  },
  {
   "cell_type": "code",
   "execution_count": 25,
   "metadata": {},
   "outputs": [
    {
     "data": {
      "text/plain": [
       "['O', 'Cl', 'Cl', 'H']"
      ]
     },
     "execution_count": 25,
     "metadata": {},
     "output_type": "execute_result"
    }
   ],
   "source": [
    "clhocl_tz.atmStr"
   ]
  },
  {
   "cell_type": "code",
   "execution_count": 36,
   "metadata": {},
   "outputs": [
    {
     "data": {
      "image/png": "[encoded data removed]",
      "text/plain": [
       "<Figure size 432x288 with 2 Axes>"
      ]
     },
     "metadata": {
      "needs_background": "light"
     },
     "output_type": "display_data"
    }
   ],
   "source": [
    "fig, ax = plt.subplots()\n",
    "CS = ax.contourf(clhocl_tz.cdsX,\n",
    "                 clhocl_tz.cdsY,\n",
    "                 (clhocl_tz.density[:,:,33] + clhocl_tz.density[:,:,34]).T,\n",
    "                 norm=LogNorm())\n",
    "C = ax.contour(clhocl_tz.cdsX,\n",
    "               clhocl_tz.cdsY,\n",
    "               (clhocl_tz.density[:,:,33] + clhocl_tz.density[:,:,34]).T,\n",
    "               norm=LogNorm(),\n",
    "               colors='k')\n",
    "fig.colorbar(CS)\n",
    "ax.scatter(clhocl_tz.atmAr[:,0][0], clhocl_tz.atmAr[:,1][0], color='red')\n",
    "ax.scatter(clhocl_tz.atmAr[:,0][1], clhocl_tz.atmAr[:,1][1], color='green')\n",
    "ax.scatter(clhocl_tz.atmAr[:,0][2], clhocl_tz.atmAr[:,1][2], color='green')\n",
    "ax.scatter(clhocl_tz.atmAr[:,0][3], clhocl_tz.atmAr[:,1][3], color='gray')\n",
    "#ax.clabel(CS, inline=True, fontsize=10)\n",
    "#ax.set_title('Simplest default with labels')\n",
    "#CS.colorbar()\n",
    "plt.savefig('temp/clhocl_tz.png')\n",
    "plt.show()"
   ]
  },
  {
   "cell_type": "markdown",
   "metadata": {},
   "source": [
    "## Step 2: get 15 degree calculation"
   ]
  },
  {
   "cell_type": "code",
   "execution_count": 27,
   "metadata": {},
   "outputs": [
    {
     "name": "stdout",
     "output_type": "stream",
     "text": [
      "DXDYDZO 0.23767521999999985 0.238636394366198 0.23873246376811608 0.013540417741269293\n",
      "hello\n"
     ]
    }
   ],
   "source": [
    "clhocl_15 = dc.cube(filename='cl_hocl_15.cube')"
   ]
  },
  {
   "cell_type": "code",
   "execution_count": 28,
   "metadata": {},
   "outputs": [
    {
     "data": {
      "text/plain": [
       "['O', 'Cl', 'Cl', 'H']"
      ]
     },
     "execution_count": 28,
     "metadata": {},
     "output_type": "execute_result"
    }
   ],
   "source": [
    "clhocl_15.atmStr"
   ]
  },
  {
   "cell_type": "code",
   "execution_count": 29,
   "metadata": {},
   "outputs": [
    {
     "data": {
      "text/plain": [
       "array([[ 1.408674e+00,  1.850671e+00, -3.807700e-02],\n",
       "       [ 3.348949e+00, -6.738080e-01, -7.130000e-04],\n",
       "       [-3.995636e+00, -2.622060e-01, -8.808000e-03],\n",
       "       [-2.757190e-01,  1.106860e+00,  4.664760e-01]])"
      ]
     },
     "execution_count": 29,
     "metadata": {},
     "output_type": "execute_result"
    }
   ],
   "source": [
    "clhocl_15.atmAr"
   ]
  },
  {
   "cell_type": "code",
   "execution_count": 33,
   "metadata": {},
   "outputs": [
    {
     "data": {
      "text/plain": [
       "array([[-1.913951,  1.324799, -0.      ],\n",
       "       [-2.978241, -1.676258, -0.      ],\n",
       "       [ 3.878924,  0.986764,  0.      ],\n",
       "       [-0.      ,  1.123008,  0.      ]])"
      ]
     },
     "execution_count": 33,
     "metadata": {},
     "output_type": "execute_result"
    }
   ],
   "source": [
    "clhocl_tz.atmAr"
   ]
  },
  {
   "cell_type": "code",
   "execution_count": 38,
   "metadata": {},
   "outputs": [
    {
     "data": {
      "image/png": "[encoded data removed]",
      "text/plain": [
       "<Figure size 432x288 with 2 Axes>"
      ]
     },
     "metadata": {
      "needs_background": "light"
     },
     "output_type": "display_data"
    }
   ],
   "source": [
    "fig, ax = plt.subplots()\n",
    "CS = ax.contourf(clhocl_15.cdsX,\n",
    "                 clhocl_15.cdsY,\n",
    "                 (clhocl_15.density[:,:,33] + clhocl_15.density[:,:,34]).T,\n",
    "                 norm=LogNorm())\n",
    "C = ax.contour(clhocl_15.cdsX,\n",
    "               clhocl_15.cdsY,\n",
    "               (clhocl_15.density[:,:,33] + clhocl_15.density[:,:,34]).T,\n",
    "               norm=LogNorm(),\n",
    "               colors='k')\n",
    "fig.colorbar(CS)\n",
    "ax.scatter(clhocl_15.atmAr[:,0][0], clhocl_15.atmAr[:,1][0], color='red')\n",
    "ax.scatter(clhocl_15.atmAr[:,0][1], clhocl_15.atmAr[:,1][1], color='purple')\n",
    "ax.scatter(clhocl_15.atmAr[:,0][2], clhocl_15.atmAr[:,1][2], color='green')\n",
    "ax.scatter(clhocl_15.atmAr[:,0][3], clhocl_15.atmAr[:,1][3], color='gray')\n",
    "#ax.clabel(CS, inline=True, fontsize=10)\n",
    "#ax.set_title('Simplest default with labels')\n",
    "#CS.colorbar()\n",
    "plt.savefig('temp/clhocl_15.png')\n",
    "plt.show()"
   ]
  },
  {
   "cell_type": "markdown",
   "metadata": {},
   "source": [
    "## Oh No! Things have rotated"
   ]
  },
  {
   "cell_type": "markdown",
   "metadata": {},
   "source": [
    "- How to fix the rotations\n",
    "    - run each calculation as an optimization\n",
    "    - take the cartesians from each optimazation and rotate to the xy-plane (this is already done in some cases)\n",
    "    - from the cartesions, run a single-point"
   ]
  },
  {
   "cell_type": "code",
   "execution_count": 39,
   "metadata": {},
   "outputs": [
    {
     "data": {
      "text/plain": [
       "array([[[ 0.00000000e+00,  0.00000000e+00,  0.00000000e+00],\n",
       "        [-8.87657563e-01,  3.05796017e+00, -4.93038066e-32],\n",
       "        [ 5.80272939e+00,  4.97537470e-33,  4.13973481e-17],\n",
       "        [ 1.92245589e+00,  8.99520859e-02,  1.39013040e-17]]])"
      ]
     },
     "execution_count": 39,
     "metadata": {},
     "output_type": "execute_result"
    }
   ],
   "source": [
    "pv.MolRotator.rotate_to_xy_plane(clhocl_tz.atmAr, 0, 2, 1)"
   ]
  },
  {
   "cell_type": "code",
   "execution_count": 40,
   "metadata": {},
   "outputs": [
    {
     "data": {
      "text/plain": [
       "array([[[ 0.00000000e+00,  0.00000000e+00,  0.00000000e+00],\n",
       "        [-8.87658152e-01,  3.05796016e+00, -5.40366363e-16],\n",
       "        [ 5.80272974e+00, -4.95024392e-16,  3.75087763e-16],\n",
       "        [ 1.84212109e+00,  8.61932564e-02,  4.94134513e-01]]])"
      ]
     },
     "execution_count": 40,
     "metadata": {},
     "output_type": "execute_result"
    }
   ],
   "source": [
    "pv.MolRotator.rotate_to_xy_plane(clhocl_15.atmAr, 0, 2, 1)"
   ]
  },
  {
   "cell_type": "markdown",
   "metadata": {},
   "source": [
    "but first: try with the (maybe) magic command \"sp\" to see if gaussian will leave the coordinates alone"
   ]
  },
  {
   "cell_type": "code",
   "execution_count": null,
   "metadata": {
    "collapsed": true
   },
   "outputs": [],
   "source": []
  }
 ],
 "metadata": {
  "kernelspec": {
   "display_name": "Python 2",
   "language": "python",
   "name": "python2"
  },
  "language_info": {
   "codemirror_mode": {
    "name": "ipython",
    "version": 2
   },
   "file_extension": ".py",
   "mimetype": "text/x-python",
   "name": "python",
   "nbconvert_exporter": "python",
   "pygments_lexer": "ipython2",
   "version": "2.7.5"
  }
 },
 "nbformat": 4,
 "nbformat_minor": 5
}
